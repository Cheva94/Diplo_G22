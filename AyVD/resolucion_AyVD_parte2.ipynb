{
 "cells": [
  {
   "attachments": {},
   "cell_type": "markdown",
   "metadata": {},
   "source": [
    "# Diplomatura en ciencia de datos, aprendizaje automático y sus aplicaciones - Edición 2023 - FAMAF (UNC)"
   ]
  },
  {
   "attachments": {},
   "cell_type": "markdown",
   "metadata": {},
   "source": [
    "## Análisis y visualización de datos\n",
    "\n",
    "### Trabajo práctico entregable - Grupo 22 - Parte 2\n",
    "\n",
    "**Integrantes:**\n",
    "- Chevallier-Boutell, Ignacio José\n",
    "- Ribetto, Federico Daniel\n",
    "- Rosa, Santiago\n",
    "\n",
    "**Seguimiento:** Meinardi, Vanesa\n",
    "\n",
    "---"
   ]
  },
  {
   "attachments": {},
   "cell_type": "markdown",
   "metadata": {},
   "source": [
    "## Librerías"
   ]
  },
  {
   "cell_type": "code",
   "execution_count": 1,
   "metadata": {},
   "outputs": [],
   "source": [
    "import io\n",
    "import matplotlib\n",
    "import matplotlib.pyplot as plt\n",
    "import numpy as np\n",
    "import pandas as pd\n",
    "import seaborn as sns\n",
    "import scipy\n",
    "\n",
    "pd.set_option('display.max_rows', 1000) # cambiar el número de filas que se mostrarán usando display.max_rows.\n",
    "pd.set_option('display.max_columns', 1000)\n",
    "pd.set_option('display.width', 1000)\n",
    "pd.options.mode.chained_assignment = None  # default='warn'\n",
    "\n",
    "sns.set_context('talk')\n",
    "sns.set_theme(style='white')"
   ]
  },
  {
   "attachments": {},
   "cell_type": "markdown",
   "metadata": {},
   "source": [
    "## Lectura del dataset"
   ]
  },
  {
   "attachments": {},
   "cell_type": "markdown",
   "metadata": {},
   "source": [
    "El dataset a utilizar es la encuesta Sysarmy del año 2022 versión 2, en formato csv, la cual es una una encuesta personal y voluntaria que busca relevar información sobre salarios y condiciones de trabajo de programadores, que se realiza anualmente. Se analizarán sólo los datos provenientes de Argentina. \n",
    "\n",
    "Se utilizará un dataset que ya ha tenido un pretratamiento: \n",
    "* Se eliminó el encabezado de la encuesta original.\n",
    "* Se renombraron las columnas.\n",
    "\n",
    "Este dataset está disponible en internet, desde donde lo usaremos."
   ]
  },
  {
   "cell_type": "code",
   "execution_count": 2,
   "metadata": {},
   "outputs": [],
   "source": [
    "url = 'https://raw.githubusercontent.com/DiploDatos/AnalisisyVisualizacion/master/sysarmy_survey_2022_processed.csv'\n",
    "df = pd.read_csv(url)\n",
    "total_ans = len(df) # cantidad de respuestas en tel dataset"
   ]
  },
  {
   "attachments": {},
   "cell_type": "markdown",
   "metadata": {},
   "source": [
    "---\n",
    "# Ejercicio 1 - Estimación"
   ]
  },
  {
   "attachments": {},
   "cell_type": "markdown",
   "metadata": {},
   "source": [
    "## Creación del DataFrame a utilizar"
   ]
  },
  {
   "attachments": {},
   "cell_type": "markdown",
   "metadata": {},
   "source": [
    "Vamos a basarnos en el mismo DataFrame que utilizamos para la parte 1 del entregable. Sus características son:\n",
    "- Se eliminaron los valores faltantes.\n",
    "- Se renombraron las columnas.\n",
    "- Tener un sueldo bruto estrictamente mayor al sueldo neto.\n",
    "- Tener un sueldo neto entre un Salario Mínimo Vital y Móvil (SMVM) en Abril de 2022 ($ 38.940) y 2 millones de pesos.\n",
    "- Tener el 85 % central de la distribución.\n",
    "- Recategorizar el género dentro de varón cis, mujer cis y diversidades."
   ]
  },
  {
   "cell_type": "code",
   "execution_count": 13,
   "metadata": {},
   "outputs": [
    {
     "name": "stdout",
     "output_type": "stream",
     "text": [
      "Cantidad inicial de filas: 5358.\n",
      "Quedan 3481 filas.\n"
     ]
    },
    {
     "data": {
      "text/html": [
       "<div>\n",
       "<style scoped>\n",
       "    .dataframe tbody tr th:only-of-type {\n",
       "        vertical-align: middle;\n",
       "    }\n",
       "\n",
       "    .dataframe tbody tr th {\n",
       "        vertical-align: top;\n",
       "    }\n",
       "\n",
       "    .dataframe thead tr th {\n",
       "        text-align: left;\n",
       "    }\n",
       "\n",
       "    .dataframe thead tr:last-of-type th {\n",
       "        text-align: right;\n",
       "    }\n",
       "</style>\n",
       "<table border=\"1\" class=\"dataframe\">\n",
       "  <thead>\n",
       "    <tr>\n",
       "      <th></th>\n",
       "      <th colspan=\"8\" halign=\"left\">neto</th>\n",
       "    </tr>\n",
       "    <tr>\n",
       "      <th></th>\n",
       "      <th>count</th>\n",
       "      <th>mean</th>\n",
       "      <th>std</th>\n",
       "      <th>min</th>\n",
       "      <th>25%</th>\n",
       "      <th>50%</th>\n",
       "      <th>75%</th>\n",
       "      <th>max</th>\n",
       "    </tr>\n",
       "    <tr>\n",
       "      <th>genero</th>\n",
       "      <th></th>\n",
       "      <th></th>\n",
       "      <th></th>\n",
       "      <th></th>\n",
       "      <th></th>\n",
       "      <th></th>\n",
       "      <th></th>\n",
       "      <th></th>\n",
       "    </tr>\n",
       "  </thead>\n",
       "  <tbody>\n",
       "    <tr>\n",
       "      <th>diversidades</th>\n",
       "      <td>53.0</td>\n",
       "      <td>204218.270755</td>\n",
       "      <td>73934.335271</td>\n",
       "      <td>92000.0</td>\n",
       "      <td>144000.0</td>\n",
       "      <td>190000.0</td>\n",
       "      <td>253892.0</td>\n",
       "      <td>450000.0</td>\n",
       "    </tr>\n",
       "    <tr>\n",
       "      <th>mujer_cis</th>\n",
       "      <td>583.0</td>\n",
       "      <td>203723.703310</td>\n",
       "      <td>81025.162448</td>\n",
       "      <td>91983.0</td>\n",
       "      <td>140000.0</td>\n",
       "      <td>195000.0</td>\n",
       "      <td>245000.0</td>\n",
       "      <td>497000.0</td>\n",
       "    </tr>\n",
       "    <tr>\n",
       "      <th>varon_cis</th>\n",
       "      <td>2845.0</td>\n",
       "      <td>227844.365803</td>\n",
       "      <td>88618.445676</td>\n",
       "      <td>91600.0</td>\n",
       "      <td>158944.0</td>\n",
       "      <td>220000.0</td>\n",
       "      <td>280000.0</td>\n",
       "      <td>499886.0</td>\n",
       "    </tr>\n",
       "  </tbody>\n",
       "</table>\n",
       "</div>"
      ],
      "text/plain": [
       "                neto                                                                              \n",
       "               count           mean           std      min       25%       50%       75%       max\n",
       "genero                                                                                            \n",
       "diversidades    53.0  204218.270755  73934.335271  92000.0  144000.0  190000.0  253892.0  450000.0\n",
       "mujer_cis      583.0  203723.703310  81025.162448  91983.0  140000.0  195000.0  245000.0  497000.0\n",
       "varon_cis     2845.0  227844.365803  88618.445676  91600.0  158944.0  220000.0  280000.0  499886.0"
      ]
     },
     "metadata": {},
     "output_type": "display_data"
    }
   ],
   "source": [
    "print(f'Cantidad inicial de filas: {total_ans}.')\n",
    "\n",
    "# Selección de columnas\n",
    "relevant_columns = [\"salary_monthly_BRUTO\",\n",
    "                    \"salary_monthly_NETO\",\n",
    "                    \"profile_gender\"]\n",
    "\n",
    "df1 = df[relevant_columns]\n",
    "\n",
    "# Eliminación de missing values\n",
    "df1 = df1.dropna(subset=relevant_columns)\n",
    "\n",
    "# Modificación de etiquetas a usar\n",
    "df1.rename(columns = {\"salary_monthly_BRUTO\":'bruto', \n",
    "                      \"salary_monthly_NETO\":'neto',\n",
    "                      \"profile_gender\":'genero'}\n",
    "                      , inplace = True)\n",
    "\n",
    "# Bruto mayor al neto\n",
    "df1 = df1[df1[\"bruto\"]>df1[\"neto\"]]\n",
    "\n",
    "# Entre un SMVM y 2 millones\n",
    "SMVM = 38940\n",
    "df1 = df1[df1[\"neto\"]>=SMVM]\n",
    "df1 = df1[df1[\"neto\"]<=2*1e6]\n",
    "\n",
    "# Dejar de lado la variable bruto\n",
    "relevant_columns = [\"neto\", \"genero\"]\n",
    "df1 = df1[relevant_columns]\n",
    "\n",
    "# Tomar el 85% central de la distribución\n",
    "k = 15\n",
    "percentile_inf = df1[\"neto\"].quantile(k * 0.5 / 100)\n",
    "percentile_sup = df1[\"neto\"].quantile((100 - k * 0.5) / 100)\n",
    "\n",
    "df1 = df1[df1[\"neto\"] > percentile_inf]\n",
    "df1 = df1[df1[\"neto\"] < percentile_sup]\n",
    "\n",
    "# Recategorizar la variable género\n",
    "df1.loc[:,'genero'] = df1.genero.replace(\n",
    "    {'Varón Cis': 'varon_cis',\n",
    "     'Varón cis': 'varon_cis',\n",
    "     'Mujer': 'mujer_cis',\n",
    "     'Mujer Cis': 'mujer_cis',\n",
    "     'Mujer cis': 'mujer_cis',\n",
    "     'Femenino': 'mujer_cis',\n",
    "     'mujer': 'mujer_cis',\n",
    "     'Mujer':'mujer_cis',\n",
    "     'Queer':'diversidades',\n",
    "     'Varón Trans':'diversidades',\n",
    "     'No binarie':'diversidades',\n",
    "     'Mujer Trans':'diversidades',\n",
    "     'Fluido':'diversidades',\n",
    "     'Bigénero':'diversidades',\n",
    "     'Gay':'diversidades'\n",
    "    })\n",
    "\n",
    "print(f'Quedan {len(df1)} filas.')\n",
    "\n",
    "display(df1[['genero', 'neto']].groupby('genero').describe())"
   ]
  },
  {
   "attachments": {},
   "cell_type": "markdown",
   "metadata": {},
   "source": [
    "## Definiciones para la estadística"
   ]
  },
  {
   "attachments": {},
   "cell_type": "markdown",
   "metadata": {},
   "source": [
    "nivel de significancia, agrupacion, IC, etc"
   ]
  },
  {
   "cell_type": "code",
   "execution_count": 15,
   "metadata": {},
   "outputs": [],
   "source": [
    "# Nivel de significancia\n",
    "alpha = 0.05\n",
    "\n",
    "# Agrupación por ser o no varón cis\n",
    "man = df1.genero == 'varon_cis'\n",
    "\n",
    "Varones = df1[man].neto\n",
    "nVarones = df1[~man].neto"
   ]
  },
  {
   "attachments": {},
   "cell_type": "markdown",
   "metadata": {},
   "source": [
    "## Consigna"
   ]
  },
  {
   "attachments": {},
   "cell_type": "markdown",
   "metadata": {},
   "source": [
    "Calcular una estimación puntual y un intervalo de confianza de nivel (1-alpha) para la resta entre la media del salario Neto para Hombres menos la media del salario Neto para otros géneros(diferencia de las medias entre el grupoA y grupoB). \n",
    "¿Cómo se relaciona este intervalo de confianza con el test de hipótesis?"
   ]
  }
 ],
 "metadata": {
  "kernelspec": {
   "display_name": "Python 3",
   "language": "python",
   "name": "python3"
  },
  "language_info": {
   "codemirror_mode": {
    "name": "ipython",
    "version": 3
   },
   "file_extension": ".py",
   "mimetype": "text/x-python",
   "name": "python",
   "nbconvert_exporter": "python",
   "pygments_lexer": "ipython3",
   "version": "3.10.6"
  },
  "orig_nbformat": 4
 },
 "nbformat": 4,
 "nbformat_minor": 2
}
