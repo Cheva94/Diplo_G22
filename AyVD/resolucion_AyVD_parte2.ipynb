{
 "cells": [
  {
   "attachments": {},
   "cell_type": "markdown",
   "metadata": {},
   "source": [
    "# Diplomatura en ciencia de datos, aprendizaje automático y sus aplicaciones - Edición 2023 - FAMAF (UNC)"
   ]
  },
  {
   "attachments": {},
   "cell_type": "markdown",
   "metadata": {},
   "source": [
    "## Análisis y visualización de datos\n",
    "\n",
    "### Trabajo práctico entregable - Grupo 22 - Parte 2\n",
    "\n",
    "**Integrantes:**\n",
    "- Chevallier-Boutell, Ignacio José\n",
    "- Ribetto, Federico Daniel\n",
    "- Rosa, Santiago\n",
    "\n",
    "**Seguimiento:** Meinardi, Vanesa\n",
    "\n",
    "---"
   ]
  },
  {
   "attachments": {},
   "cell_type": "markdown",
   "metadata": {},
   "source": [
    "## Librerías"
   ]
  },
  {
   "cell_type": "code",
   "execution_count": 1,
   "metadata": {},
   "outputs": [],
   "source": [
    "import io\n",
    "import matplotlib\n",
    "import matplotlib.pyplot as plt\n",
    "import numpy as np\n",
    "import pandas as pd\n",
    "import seaborn as sns\n",
    "import scipy\n",
    "from scipy.stats import ttest_ind as Test\n",
    "\n",
    "pd.set_option('display.max_rows', 1000) # cambiar el número de filas que se mostrarán usando display.max_rows.\n",
    "pd.set_option('display.max_columns', 1000)\n",
    "pd.set_option('display.width', 1000)\n",
    "pd.options.mode.chained_assignment = None  # default='warn'\n",
    "\n",
    "sns.set_context('talk')\n",
    "sns.set_theme(style='white')"
   ]
  },
  {
   "attachments": {},
   "cell_type": "markdown",
   "metadata": {},
   "source": [
    "## Lectura del dataset"
   ]
  },
  {
   "attachments": {},
   "cell_type": "markdown",
   "metadata": {},
   "source": [
    "El dataset a utilizar es la encuesta Sysarmy del año 2022 versión 2, en formato csv, la cual es una una encuesta personal y voluntaria que busca relevar información sobre salarios y condiciones de trabajo de programadores, que se realiza anualmente. Se analizarán sólo los datos provenientes de Argentina. \n",
    "\n",
    "Se utilizará un dataset que ya ha tenido un pretratamiento: \n",
    "* Se eliminó el encabezado de la encuesta original.\n",
    "* Se renombraron las columnas.\n",
    "\n",
    "Este dataset está disponible en internet, desde donde lo usaremos."
   ]
  },
  {
   "cell_type": "code",
   "execution_count": 2,
   "metadata": {},
   "outputs": [],
   "source": [
    "url = 'https://raw.githubusercontent.com/DiploDatos/AnalisisyVisualizacion/master/sysarmy_survey_2022_processed.csv'\n",
    "df = pd.read_csv(url)\n",
    "total_ans = len(df) # cantidad de respuestas en tel dataset"
   ]
  },
  {
   "attachments": {},
   "cell_type": "markdown",
   "metadata": {},
   "source": [
    "---\n",
    "# Ejercicio 1 - Estimación"
   ]
  },
  {
   "attachments": {},
   "cell_type": "markdown",
   "metadata": {},
   "source": [
    "## Creación del DataFrame a utilizar"
   ]
  },
  {
   "attachments": {},
   "cell_type": "markdown",
   "metadata": {},
   "source": [
    "Vamos a basarnos en el mismo DataFrame que utilizamos para la parte 1 del entregable. Sus características son:\n",
    "- No contiene valores faltantes.\n",
    "- Contiene columnas renombradas para facilitar su manipulación.\n",
    "- Está filtrada considerando un sueldo bruto estrictamente mayor al sueldo neto.\n",
    "- Está filtrada considerando un sueldo neto entre un Salario Mínimo Vital y Móvil (SMVM) de \\$ 38.940 (Abril de 2022) y 2 millones de pesos.\n",
    "- Contiene el 85 % central de la distribución.\n",
    "- El género está recategorizado dentro de varón cis, mujer cis y diversidades."
   ]
  },
  {
   "cell_type": "code",
   "execution_count": 3,
   "metadata": {},
   "outputs": [
    {
     "name": "stdout",
     "output_type": "stream",
     "text": [
      "Cantidad inicial de filas: 5358.\n",
      "Quedan 3481 filas.\n"
     ]
    },
    {
     "data": {
      "text/html": [
       "<div>\n",
       "<style scoped>\n",
       "    .dataframe tbody tr th:only-of-type {\n",
       "        vertical-align: middle;\n",
       "    }\n",
       "\n",
       "    .dataframe tbody tr th {\n",
       "        vertical-align: top;\n",
       "    }\n",
       "\n",
       "    .dataframe thead th {\n",
       "        text-align: right;\n",
       "    }\n",
       "</style>\n",
       "<table border=\"1\" class=\"dataframe\">\n",
       "  <thead>\n",
       "    <tr style=\"text-align: right;\">\n",
       "      <th></th>\n",
       "      <th>count</th>\n",
       "      <th>mean</th>\n",
       "      <th>std</th>\n",
       "      <th>min</th>\n",
       "      <th>25%</th>\n",
       "      <th>50%</th>\n",
       "      <th>75%</th>\n",
       "      <th>max</th>\n",
       "    </tr>\n",
       "  </thead>\n",
       "  <tbody>\n",
       "    <tr>\n",
       "      <th>neto</th>\n",
       "      <td>3481.0</td>\n",
       "      <td>223444.903215</td>\n",
       "      <td>87659.716775</td>\n",
       "      <td>91600.0</td>\n",
       "      <td>155000.0</td>\n",
       "      <td>214270.0</td>\n",
       "      <td>270031.0</td>\n",
       "      <td>499886.0</td>\n",
       "    </tr>\n",
       "  </tbody>\n",
       "</table>\n",
       "</div>"
      ],
      "text/plain": [
       "       count           mean           std      min       25%       50%       75%       max\n",
       "neto  3481.0  223444.903215  87659.716775  91600.0  155000.0  214270.0  270031.0  499886.0"
      ]
     },
     "metadata": {},
     "output_type": "display_data"
    },
    {
     "data": {
      "text/html": [
       "<div>\n",
       "<style scoped>\n",
       "    .dataframe tbody tr th:only-of-type {\n",
       "        vertical-align: middle;\n",
       "    }\n",
       "\n",
       "    .dataframe tbody tr th {\n",
       "        vertical-align: top;\n",
       "    }\n",
       "\n",
       "    .dataframe thead tr th {\n",
       "        text-align: left;\n",
       "    }\n",
       "\n",
       "    .dataframe thead tr:last-of-type th {\n",
       "        text-align: right;\n",
       "    }\n",
       "</style>\n",
       "<table border=\"1\" class=\"dataframe\">\n",
       "  <thead>\n",
       "    <tr>\n",
       "      <th></th>\n",
       "      <th colspan=\"8\" halign=\"left\">neto</th>\n",
       "    </tr>\n",
       "    <tr>\n",
       "      <th></th>\n",
       "      <th>count</th>\n",
       "      <th>mean</th>\n",
       "      <th>std</th>\n",
       "      <th>min</th>\n",
       "      <th>25%</th>\n",
       "      <th>50%</th>\n",
       "      <th>75%</th>\n",
       "      <th>max</th>\n",
       "    </tr>\n",
       "    <tr>\n",
       "      <th>genero</th>\n",
       "      <th></th>\n",
       "      <th></th>\n",
       "      <th></th>\n",
       "      <th></th>\n",
       "      <th></th>\n",
       "      <th></th>\n",
       "      <th></th>\n",
       "      <th></th>\n",
       "    </tr>\n",
       "  </thead>\n",
       "  <tbody>\n",
       "    <tr>\n",
       "      <th>diversidades</th>\n",
       "      <td>53.0</td>\n",
       "      <td>204218.270755</td>\n",
       "      <td>73934.335271</td>\n",
       "      <td>92000.0</td>\n",
       "      <td>144000.0</td>\n",
       "      <td>190000.0</td>\n",
       "      <td>253892.0</td>\n",
       "      <td>450000.0</td>\n",
       "    </tr>\n",
       "    <tr>\n",
       "      <th>mujer_cis</th>\n",
       "      <td>583.0</td>\n",
       "      <td>203723.703310</td>\n",
       "      <td>81025.162448</td>\n",
       "      <td>91983.0</td>\n",
       "      <td>140000.0</td>\n",
       "      <td>195000.0</td>\n",
       "      <td>245000.0</td>\n",
       "      <td>497000.0</td>\n",
       "    </tr>\n",
       "    <tr>\n",
       "      <th>varon_cis</th>\n",
       "      <td>2845.0</td>\n",
       "      <td>227844.365803</td>\n",
       "      <td>88618.445676</td>\n",
       "      <td>91600.0</td>\n",
       "      <td>158944.0</td>\n",
       "      <td>220000.0</td>\n",
       "      <td>280000.0</td>\n",
       "      <td>499886.0</td>\n",
       "    </tr>\n",
       "  </tbody>\n",
       "</table>\n",
       "</div>"
      ],
      "text/plain": [
       "                neto                                                                              \n",
       "               count           mean           std      min       25%       50%       75%       max\n",
       "genero                                                                                            \n",
       "diversidades    53.0  204218.270755  73934.335271  92000.0  144000.0  190000.0  253892.0  450000.0\n",
       "mujer_cis      583.0  203723.703310  81025.162448  91983.0  140000.0  195000.0  245000.0  497000.0\n",
       "varon_cis     2845.0  227844.365803  88618.445676  91600.0  158944.0  220000.0  280000.0  499886.0"
      ]
     },
     "metadata": {},
     "output_type": "display_data"
    }
   ],
   "source": [
    "print(f'Cantidad inicial de filas: {total_ans}.')\n",
    "\n",
    "# Selección de columnas\n",
    "relevant_columns = [\"salary_monthly_BRUTO\",\n",
    "                    \"salary_monthly_NETO\",\n",
    "                    \"profile_gender\"]\n",
    "\n",
    "df1 = df[relevant_columns]\n",
    "\n",
    "# Eliminación de missing values\n",
    "df1 = df1.dropna(subset=relevant_columns)\n",
    "\n",
    "# Modificación de etiquetas a usar\n",
    "df1.rename(columns = {\"salary_monthly_BRUTO\":'bruto', \n",
    "                      \"salary_monthly_NETO\":'neto',\n",
    "                      \"profile_gender\":'genero'}\n",
    "                      , inplace = True)\n",
    "\n",
    "# Bruto mayor al neto\n",
    "df1 = df1[df1[\"bruto\"]>df1[\"neto\"]]\n",
    "\n",
    "# Entre un SMVM y 2 millones\n",
    "SMVM = 38940\n",
    "df1 = df1[df1[\"neto\"]>=SMVM]\n",
    "df1 = df1[df1[\"neto\"]<=2*1e6]\n",
    "\n",
    "# Dejar de lado la variable bruto\n",
    "relevant_columns = [\"neto\", \"genero\"]\n",
    "df1 = df1[relevant_columns]\n",
    "\n",
    "# Tomar el 85% central de la distribución\n",
    "k = 15\n",
    "percentile_inf = df1[\"neto\"].quantile(k * 0.5 / 100)\n",
    "percentile_sup = df1[\"neto\"].quantile((100 - k * 0.5) / 100)\n",
    "\n",
    "df1 = df1[df1[\"neto\"] > percentile_inf]\n",
    "df1 = df1[df1[\"neto\"] < percentile_sup]\n",
    "\n",
    "# Recategorizar la variable género\n",
    "df1.loc[:,'genero'] = df1.genero.replace(\n",
    "    {'Varón Cis': 'varon_cis',\n",
    "     'Varón cis': 'varon_cis',\n",
    "     'Mujer': 'mujer_cis',\n",
    "     'Mujer Cis': 'mujer_cis',\n",
    "     'Mujer cis': 'mujer_cis',\n",
    "     'Femenino': 'mujer_cis',\n",
    "     'mujer': 'mujer_cis',\n",
    "     'Mujer':'mujer_cis',\n",
    "     'Queer':'diversidades',\n",
    "     'Varón Trans':'diversidades',\n",
    "     'No binarie':'diversidades',\n",
    "     'Mujer Trans':'diversidades',\n",
    "     'Fluido':'diversidades',\n",
    "     'Bigénero':'diversidades',\n",
    "     'Gay':'diversidades'\n",
    "    })\n",
    "\n",
    "print(f'Quedan {len(df1)} filas.')\n",
    "\n",
    "display(df1[['genero', 'neto']].describe().T)\n",
    "display(df1[['genero', 'neto']].groupby('genero').describe())"
   ]
  },
  {
   "attachments": {},
   "cell_type": "markdown",
   "metadata": {},
   "source": [
    "## Definiciones para la estadística"
   ]
  },
  {
   "attachments": {},
   "cell_type": "markdown",
   "metadata": {},
   "source": [
    "Vamos a separar nuestra población original en dos poblaciones: la población P1 de varones cis y la población P2 de otros géneros. Asumimos que ambas poblaciones distribuyen normalmente.\n",
    "$$\n",
    "P1 \\sim \\mathcal{N} \\left( \\mu_1, \\sigma^2_1 \\right) \\quad ; \\quad P2 \\sim \\mathcal{N} \\left( \\mu_2, \\sigma^2_2 \\right)\n",
    "$$\n",
    "\n",
    "\n",
    "De dicha población original tenemos una muestra de $n=3481$ elementos: $n_1=2845$ constituyen la muestra M1 de la población P1, mientras que los otros $n_2=636$ constituyen la muestra M2 de la población P2. Notamos que ambas muestras son grandes ($n_1, n_2 > 30$) e independientes. A cada muestra le calculamos su media, su desviación estándar y su varianza:\n",
    "$$\n",
    "\\overline{m}_1 = \\$\\ 227.844 \\quad ; \\quad s_1 = \\$\\ 88.618 \\quad ; \\quad s_1^2 = \\$^2\\ 7.853.228.914 \\\\\n",
    "\\overline{m}_2 = \\$\\ 203.765 \\quad ; \\quad s_2 = \\$\\ 80.404 \\quad ; \\quad s_2^2 = \\$^2\\ 6.464.777.223 \\\\\n",
    "$$\n",
    "\n",
    "Nuestro objetivo es utilizar la información de las muestras para:\n",
    "- Hacer una estimación puntual sobre la diferencia entre las medias poblacionales.\n",
    "- Hacer una estimación por intervalos sobre la diferencia entre las medias poblacionales para determinar un intervalo de confianza de nivel (1-$\\alpha$)."
   ]
  },
  {
   "cell_type": "code",
   "execution_count": 4,
   "metadata": {},
   "outputs": [
    {
     "name": "stdout",
     "output_type": "stream",
     "text": [
      "Descripción estadística de la muestra M1:\n",
      "\t > Tiene 2845 elementos.\n",
      "\t > Tiene una media igual a $ 227844.\n",
      "\t > Tiene una desviación estándar igual a $ 88618.\n",
      "\t > Tiene una varianza igual a 7853228914 pesos cuadrados.\n",
      "-------------------------------------------------------------------------\n",
      "Descripción estadística de la muestra M2:\n",
      "\t > Tiene 636 elementos.\n",
      "\t > Tiene una media igual a $ 203765.\n",
      "\t > Tiene una desviación estándar igual a $ 80404.\n",
      "\t > Tiene una varianza igual a 6464777223 pesos cuadrados.\n"
     ]
    }
   ],
   "source": [
    "# Separación de la muestra según sea o no varón cis.\n",
    "man = df1.genero == 'varon_cis'\n",
    "M1 = df1[man].neto\n",
    "n1 = len(M1)\n",
    "m1 = M1.mean()\n",
    "s1 = M1.std()\n",
    "\n",
    "print('Descripción estadística de la muestra M1:')\n",
    "print(f'\\t > Tiene {n1} elementos.')\n",
    "print(f'\\t > Tiene una media igual a $ {m1:.0f}.')\n",
    "print(f'\\t > Tiene una desviación estándar igual a $ {s1:.0f}.')\n",
    "print(f'\\t > Tiene una varianza igual a {s1**2:.0f} pesos cuadrados.')\n",
    "print('-------------------------------------------------------------------------')\n",
    "\n",
    "M2 = df1[~man].neto\n",
    "n2 = len(M2)\n",
    "m2 = M2.mean()\n",
    "s2 = M2.std()\n",
    "\n",
    "print('Descripción estadística de la muestra M2:')\n",
    "print(f'\\t > Tiene {n2} elementos.')\n",
    "print(f'\\t > Tiene una media igual a $ {m2:.0f}.')\n",
    "print(f'\\t > Tiene una desviación estándar igual a $ {s2:.0f}.')\n",
    "print(f'\\t > Tiene una varianza igual a {s2**2:.0f} pesos cuadrados.')"
   ]
  },
  {
   "attachments": {},
   "cell_type": "markdown",
   "metadata": {},
   "source": [
    "## Estimación puntual"
   ]
  },
  {
   "attachments": {},
   "cell_type": "markdown",
   "metadata": {},
   "source": [
    "Como la media muestral $\\overline{m}_1$ de la muestra M1 es un buen estimador de la media poblacional $\\mu_1$ de la población P1 y la media muestral $\\overline{m}_2$ de la muestra M2 es un buen estimador de la media poblacional $\\mu_2$ de la población P2, resulta razonable que para estimar la diferencia $\\mu  = \\mu_1 - \\mu_2$ recurramos al estimador $\\overline{m} = \\overline{m}_1 - \\overline{m}_2$. Se sigue entonces que la estimación puntual buscada es\n",
    "$$\n",
    "\\mu \\sim \\overline{m} = \\$\\ 24.079\n",
    "$$\n",
    "\n",
    "Esto quiere decir que el salario neto promedio de los varones cis es $ 24.079 mayor respecto al salario neto promedio de los otros géneros."
   ]
  },
  {
   "cell_type": "code",
   "execution_count": 5,
   "metadata": {},
   "outputs": [
    {
     "data": {
      "text/plain": [
       "24079.44853901252"
      ]
     },
     "execution_count": 5,
     "metadata": {},
     "output_type": "execute_result"
    }
   ],
   "source": [
    "# Diferencia de medias\n",
    "m = m1 - m2\n",
    "m"
   ]
  },
  {
   "attachments": {},
   "cell_type": "markdown",
   "metadata": {},
   "source": [
    "## Estimación por intervalos"
   ]
  },
  {
   "attachments": {},
   "cell_type": "markdown",
   "metadata": {},
   "source": [
    "Dado que ambas muestras son grandes, las varianzas de ambas poblaciones son desconocidas y no tenemos razones para asumir que son iguales, el pivote estadístico a utilizar será\n",
    "$$\n",
    "S = \\sqrt{\\dfrac{s_1^2}{n_1} + \\dfrac{s_2^2}{n_2}} \\Rightarrow T = \\dfrac{\\overline{m} - \\mu}{S} \\stackrel{Asint}{\\sim} \\mathcal{N} \\left( 0, 1 \\right)\n",
    "$$\n",
    "\n",
    "A partir de esto, se puede ver que el invervalo de confianza para $\\mu$ a un nivel de confianza (1-$\\alpha$) queda determinado por\n",
    "$$\n",
    "\\overline{m} \\pm z_{\\alpha/2} S\n",
    "$$\n",
    "\n",
    "donde $z_{\\alpha/2}$ es el $\\mathcal{Z}$-score asociado, el cual es bilateral. Tomando un nivel de significancia $\\alpha=0.05$, tenemos $z_{0.025} = 1.96$.\n",
    "\n",
    "Vemos entonces que el intervalo de confianza buscado es\n",
    "$$\n",
    "\\left[\\ \\$\\ 24.055\\  ;\\ \\$\\ 24.104\\  \\right]\n",
    "$$\n",
    "\n",
    "Considerando que la incertidumbre debería tener una única cifra significativa, tendríamos $\\$\\ 25 \\Rightarrow \\$\\ 20$, con lo cual las estimaciones nos quedarían:\n",
    "$$\n",
    "\\left[\\ \\$\\ 24.060\\  ;\\ \\$\\ 24.100\\  \\right] \\Rightarrow \\$\\ \\left( 24.080 \\pm 20 \\right)\n",
    "$$\n",
    "\n",
    "En otros términos, podemos decir que estamos un 95% seguros de que la diferencia entre las medias poblacionales cae en el intervalo $\\left[\\ \\$\\ 24.060\\  ;\\ \\$\\ 24.100\\  \\right]$, *i.e.* estamos un 95% seguros de que el salario neto promedio de los varones cis es entre \\$ 24.060 y \\$ 24.100 mayor que el salario neto promedio de otros géneros."
   ]
  },
  {
   "cell_type": "code",
   "execution_count": 6,
   "metadata": {},
   "outputs": [
    {
     "name": "stdout",
     "output_type": "stream",
     "text": [
      "Incertidumbre: $ 25\n",
      "Intervalo de confianza:\n",
      "\t > Límite inferior: $ 24055\n",
      "\t > Límite superior: $ 24104\n"
     ]
    }
   ],
   "source": [
    "S = np.sqrt((s1/n1) + (s2/n2))\n",
    "z_0025 = 1.96\n",
    "\n",
    "pm = z_0025 * S\n",
    "print(f'Incertidumbre: $ {pm:.0f}')\n",
    "LI = m - pm\n",
    "LS = m + pm\n",
    "\n",
    "print('Intervalo de confianza:')\n",
    "print(f'\\t > Límite inferior: $ {LI:.0f}')\n",
    "print(f'\\t > Límite superior: $ {LS:.0f}')"
   ]
  },
  {
   "attachments": {},
   "cell_type": "markdown",
   "metadata": {},
   "source": [
    "## Relación entre el IC y test de hipótesis"
   ]
  },
  {
   "attachments": {},
   "cell_type": "markdown",
   "metadata": {},
   "source": [
    "Considerando un test de hipótesis, el intervalo de confianza dado por $(-z_{\\alpha/2}\\ ;\\ z_{\\alpha/2})$ representa la región de **no** rechazo de la hipótesis nula."
   ]
  },
  {
   "attachments": {},
   "cell_type": "markdown",
   "metadata": {},
   "source": [
    "---\n",
    "# Ejercicio 2 - Test de hipótesis"
   ]
  },
  {
   "attachments": {},
   "cell_type": "markdown",
   "metadata": {},
   "source": [
    "## Formalización"
   ]
  },
  {
   "attachments": {},
   "cell_type": "markdown",
   "metadata": {},
   "source": [
    "Planteamos las siguientes hipótesis:\n",
    "- **Hipótesis nula:** el salario neto medio de varones cis es igual al salaro neto medio de otros géneros.\n",
    "$$\n",
    "H_0: \\mu = 0\n",
    "$$\n",
    "- **Hipótesis alternativa:** los varones cis no tienen un salario neto promedio igual a aquel de los otros géneros, considerando un nivel de significancia del 5%.\n",
    "$$\n",
    "H_1: \\mu \\neq 0 \\ @\\  \\alpha=0.05\n",
    "$$\n",
    "\n",
    "Como la prueba es bilateral, la región crítica es $(-\\infty\\ ;\\ - 1.96] \\cup [1.96\\ ;\\ \\infty)$. El estadístico de prueba a utilizar para llevar a cabo el test de hipótesis es idéntico al pivote estadístico antes planteado, tomando el $\\mu$ considerado en nuestra $H_0$.\n",
    "$$\n",
    "S = \\sqrt{\\dfrac{s_1^2}{n_1} + \\dfrac{s_2^2}{n_2}} \\Rightarrow T = \\dfrac{\\overline{m}}{S} \\stackrel{Asint}{\\sim} \\mathcal{N} \\left( 0, 1 \\right)\n",
    "$$\n",
    "\n",
    "Desde una perspectiva de valores críticos, como $T=1918$, el estadístico cae en la región de rechazo, lo cual nos lleva a rechazar $H_0$: con un nivel de significancia del 5%, los datos proporcionan evidencia suficiente para concluir que los salarios netos promedios entre varones cis y otros géneros **no** son iguales."
   ]
  },
  {
   "cell_type": "code",
   "execution_count": 7,
   "metadata": {},
   "outputs": [
    {
     "data": {
      "text/plain": [
       "1918.270345654361"
      ]
     },
     "execution_count": 7,
     "metadata": {},
     "output_type": "execute_result"
    }
   ],
   "source": [
    "T = m/S\n",
    "T"
   ]
  },
  {
   "attachments": {},
   "cell_type": "markdown",
   "metadata": {},
   "source": [
    "## Enfoque desde el $p$-valor"
   ]
  },
  {
   "attachments": {},
   "cell_type": "markdown",
   "metadata": {},
   "source": [
    "En este caso donde tenemos una prueba bilateral, el $p$-valor nos indica la probabilidad de que nuestro estadístico $T$ sea menor a -1918 o mayor a 1918 bajo $H_0$."
   ]
  },
  {
   "cell_type": "code",
   "execution_count": 8,
   "metadata": {},
   "outputs": [
    {
     "data": {
      "text/plain": [
       "Ttest_indResult(statistic=6.697758506240167, pvalue=3.5080024073278474e-11)"
      ]
     },
     "execution_count": 8,
     "metadata": {},
     "output_type": "execute_result"
    }
   ],
   "source": [
    "Test(M1, M2, equal_var=False, alternative='two-sided')"
   ]
  },
  {
   "cell_type": "code",
   "execution_count": null,
   "metadata": {},
   "outputs": [],
   "source": []
  },
  {
   "attachments": {},
   "cell_type": "markdown",
   "metadata": {},
   "source": [
    "Ya tenemos nuestras hipótesis planteadas y sabemos que nuestro estadístico vale $T=1918$. El área truncada sobre la cola derecha de la distribución de T dado este estadístico es prácticamente nula. En este caso no es relevante, pero al tratarse de una prueba bilaetral deberíamos duplicar este valor de área. Tenemos entonces que el $p$-valor es prácticamente igual a 0. Como $p\\text{-valor} \\approx 0 < 0.05 = \\alpha$, rechazamos $H_0$. Nuevamete, los datos proveen evidencia suficiente de que, con un nivel de significancia del 5%, los salarios netos promedios entre varones cis y otros géneros **no** son iguales."
   ]
  },
  {
   "attachments": {},
   "cell_type": "markdown",
   "metadata": {},
   "source": []
  },
  {
   "attachments": {},
   "cell_type": "markdown",
   "metadata": {},
   "source": []
  },
  {
   "attachments": {},
   "cell_type": "markdown",
   "metadata": {},
   "source": []
  }
 ],
 "metadata": {
  "kernelspec": {
   "display_name": "Python 3",
   "language": "python",
   "name": "python3"
  },
  "language_info": {
   "codemirror_mode": {
    "name": "ipython",
    "version": 3
   },
   "file_extension": ".py",
   "mimetype": "text/x-python",
   "name": "python",
   "nbconvert_exporter": "python",
   "pygments_lexer": "ipython3",
   "version": "3.10.6"
  },
  "orig_nbformat": 4
 },
 "nbformat": 4,
 "nbformat_minor": 2
}
