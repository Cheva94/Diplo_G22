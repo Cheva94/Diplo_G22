{
 "cells": [
  {
   "cell_type": "markdown",
   "metadata": {
    "id": "LYvAOR2VzHmW"
   },
   "source": [
    "\n",
    "# Diplomatura en ciencia de datos, aprendizaje automático y sus aplicaciones - Edición 2023 - FAMAF (UNC)"
   ]
  },
  {
   "cell_type": "markdown",
   "metadata": {},
   "source": [
    "## Análisis y visualización de datos\n",
    "\n",
    "### Trabajo práctico entregable - Grupo 22 - Parte 1\n",
    "\n",
    "**Integrantes:**\n",
    "- Chevallier-Boutell, Ignacio José\n",
    "- Ribetto, Federico Daniel\n",
    "- Rosa, Santiago\n",
    "\n",
    "**Seguimiento:** Meinardi, Vanesa\n",
    "\n",
    "\n",
    "**Observación:** como los datasets son muy pequeños, nuestro flujo de trabajo se basó en hacer copias *ad hoc*. Somos concientes que esto es un gasto innecesario de memoria pero que no tiene un impacto en la performance en este caso. no nos bajen puntos porfis.\n",
    "\n",
    "---"
   ]
  },
  {
   "cell_type": "markdown",
   "metadata": {},
   "source": [
    "## Librerías"
   ]
  },
  {
   "cell_type": "code",
   "execution_count": 1,
   "metadata": {
    "executionInfo": {
     "elapsed": 743,
     "status": "ok",
     "timestamp": 1680803577547,
     "user": {
      "displayName": "Laura Minuet",
      "userId": "00787725849952937741"
     },
     "user_tz": 180
    },
    "id": "Xwdfo7z20TUK"
   },
   "outputs": [],
   "source": [
    "import io\n",
    "import matplotlib\n",
    "import matplotlib.pyplot as plt\n",
    "import numpy as np\n",
    "import pandas as pd\n",
    "import seaborn as sns\n",
    "import scipy\n",
    "\n",
    "pd.set_option('display.max_rows', 1000) # cambiar el número de filas que se mostrarán usando display.max_rows.\n",
    "pd.set_option('display.max_columns', 1000)\n",
    "pd.set_option('display.width', 1000)\n",
    "pd.options.mode.chained_assignment = None  # default='warn'\n",
    "\n",
    "sns.set_context('talk')\n",
    "sns.set_theme(style='white')"
   ]
  },
  {
   "cell_type": "markdown",
   "metadata": {
    "id": "XY2Hl-Ma07Nn"
   },
   "source": [
    "## Lectura del dataset"
   ]
  },
  {
   "cell_type": "markdown",
   "metadata": {},
   "source": [
    "El dataset a utilizar es la encuesta Sysarmy del año 2022 versión 2, en formato csv, la cual es una una encuesta personal y voluntaria que busca relevar información sobre salarios y condiciones de trabajo de programadores, que se realiza anualmente. Se analizarán sólo los datos provenientes de Argentina. \n",
    "\n",
    "Se utilizará un dataset que ya ha tenido un pretratamiento: \n",
    "* Se eliminó el encabezado de la encuesta original.\n",
    "* Se renombraron las columnas.\n",
    "\n",
    "Este dataset está disponible en internet, desde donde lo usaremos."
   ]
  },
  {
   "cell_type": "code",
   "execution_count": 2,
   "metadata": {
    "executionInfo": {
     "elapsed": 1525,
     "status": "ok",
     "timestamp": 1680803579067,
     "user": {
      "displayName": "Laura Minuet",
      "userId": "00787725849952937741"
     },
     "user_tz": 180
    },
    "id": "Vviv_sqXdR5W"
   },
   "outputs": [],
   "source": [
    "url = 'https://raw.githubusercontent.com/DiploDatos/AnalisisyVisualizacion/master/sysarmy_survey_2022_processed.csv'\n",
    "df = pd.read_csv(url)\n",
    "total_ans = len(df) # cantidad de respuestas en el dataset"
   ]
  },
  {
   "cell_type": "markdown",
   "metadata": {
    "id": "-ZSQYANFHHgV"
   },
   "source": [
    "---\n",
    "# Ejercicio 1 - Análisis descriptivo"
   ]
  },
  {
   "cell_type": "markdown",
   "metadata": {},
   "source": [
    "## Selección de columnas"
   ]
  },
  {
   "cell_type": "markdown",
   "metadata": {},
   "source": [
    "En este primer ejercicio, debemos dar respuesta a **¿Cuáles son los lenguajes de programación asociados a los mejores salarios?** Para ello, creemos que las columnas que contienen la información relevante son salary_monthly_BRUTO, salary_monthly_NETO y tools_programming_languages. Crearemos un nuevo DataFrame que contenga entonces sólo esta información. Luego, eliminamos las filas que están vacías.\n",
    "\n",
    "**Observación:** tomaremos también las variables categóricas work_province, profile_gender y profile_studies_level junto a las variables numéricas profile_years_experience y profile_age ya que el proceso de filtrado que haremos nos sirve como puntapié para responder el ejercicio 2."
   ]
  },
  {
   "cell_type": "code",
   "execution_count": 21,
   "metadata": {},
   "outputs": [
    {
     "name": "stdout",
     "output_type": "stream",
     "text": [
      "Cantidad inicial de filas: 5358.\n",
      "Quedan 5356 filas.\n"
     ]
    }
   ],
   "source": [
    "relevant_columns = [\"salary_monthly_BRUTO\",\n",
    "                    \"salary_monthly_NETO\",\n",
    "                    \"tools_programming_languages\", \n",
    "                    \"profile_years_experience\", \n",
    "                    \"profile_age\", \n",
    "                    \"work_province\", \n",
    "                    \"profile_gender\", \n",
    "                    \"profile_studies_level\"]\n",
    "\n",
    "df1 = df[relevant_columns] # Nuevo DataFrame\n",
    "\n",
    "print(f'Cantidad inicial de filas: {total_ans}.')\n",
    "df1 = df1.dropna(subset=relevant_columns[0:3])\n",
    "print(f'Quedan {len(df1)} filas.')"
   ]
  },
  {
   "cell_type": "markdown",
   "metadata": {},
   "source": [
    "## Análisis preliminar"
   ]
  },
  {
   "cell_type": "markdown",
   "metadata": {},
   "source": [
    "La estadística descriptiva del sueldo bruto muestra que hay una gran dispersión de datos: el sueldo bruto promedio es de $363.445, pero hay gente que llega a cobrar hasta 28 millones de pesos (más de 77 veces la media). Esto se ve reflejado también en su gran desviación estándar. Vemos también que hay gente que supuestamente tiene un sueldo nulo. Algo similar se observa con el sueldo neto."
   ]
  },
  {
   "cell_type": "code",
   "execution_count": 4,
   "metadata": {},
   "outputs": [
    {
     "name": "stdout",
     "output_type": "stream",
     "text": [
      "Resultados del describe:\n",
      "       salary_monthly_BRUTO  salary_monthly_NETO\n",
      "count                5356.0               5356.0\n",
      "mean               363445.0             276969.0\n",
      "std                544015.0             402009.0\n",
      "min                     0.0                  0.0\n",
      "25%                150000.0             118565.0\n",
      "50%                256000.0             201000.0\n",
      "75%                411948.0             294000.0\n",
      "max              28000000.0           15000000.0\n"
     ]
    }
   ],
   "source": [
    "print('Resultados del describe:')\n",
    "print(df1[[\"salary_monthly_BRUTO\",\"salary_monthly_NETO\"]].describe().round(0))"
   ]
  },
  {
   "cell_type": "markdown",
   "metadata": {},
   "source": [
    "Esto mismo lo apreciamos gráficamente: vemos que la distribución es extremadamente asimétrica, teniendo una cola ampliamente extendida hacia la derecha. Además, considerando que el Salario Mínimo Vital y Móvil (SMVM) en Abril de 2022 es de $38.940, hay varias respuestas que caen por debajo de este valor."
   ]
  },
  {
   "cell_type": "code",
   "execution_count": 5,
   "metadata": {},
   "outputs": [
    {
     "data": {
      "image/png": "[encoded data removed]",
      "text/plain": [
       "<Figure size 864x360 with 2 Axes>"
      ]
     },
     "metadata": {},
     "output_type": "display_data"
    }
   ],
   "source": [
    "fig, axs = plt.subplots(1,2, figsize=(12,5))\n",
    "\n",
    "sns.histplot(df1[[\"salary_monthly_BRUTO\",\"salary_monthly_NETO\"]], ax=axs[0], color='steelblue', label=[\"bruto\",\"neto\"])\n",
    "#corregir labels de los histogramas\n",
    "\n",
    "axs[0].ticklabel_format(style='sci', axis='x', scilimits=(6,6))\n",
    "axs[0].set_ylim((-5,600))\n",
    "axs[0].set_xlim((-1*10**6,30*10**6))\n",
    "axs[0].set_ylabel(\"\")\n",
    "axs[0].set_xlabel(\"salario ($)\")\n",
    "\n",
    "sns.histplot(df1[[\"salary_monthly_BRUTO\",\"salary_monthly_NETO\"]], ax=axs[1], color='steelblue', label=[\"bruto\",\"neto\"])\n",
    "axs[1].ticklabel_format(style='sci', axis='x', scilimits=(4,4))\n",
    "axs[1].set_ylim((-5,600))\n",
    "axs[1].set_xlim((-1000,4*10**4))\n",
    "axs[1].set_ylabel(\"\")\n",
    "axs[1].set_xlabel(\"salario ($)\")\n",
    "\n",
    "plt.show()"
   ]
  },
  {
   "cell_type": "markdown",
   "metadata": {},
   "source": [
    "Analicemos ahora la relación entre el sueldo bruto y el neto. Sabemos que el sueldo bruto tiene que ser estrictamente mayor que el sueldo neto. Esto implica que, gráficamente, todos los puntos deberían caer por encima de la diagonal principal (marcada en rojo). Limpiamos entonces los datos, considerando esta condición. Notamos también que hay una serie de datos encolumnados en torno a un sueldo neto nulo."
   ]
  },
  {
   "cell_type": "code",
   "execution_count": 6,
   "metadata": {},
   "outputs": [
    {
     "data": {
      "image/png": "[encoded data removed]",
      "text/plain": [
       "<Figure size 576x288 with 1 Axes>"
      ]
     },
     "metadata": {},
     "output_type": "display_data"
    }
   ],
   "source": [
    "sns.pairplot(data=df1, y_vars=['salary_monthly_BRUTO'], x_vars=['salary_monthly_NETO'], aspect=2, height=4)\n",
    "plt.ticklabel_format(style='sci', axis='both', scilimits=(6,6))\n",
    "plt.axline(xy1=(10000, 10000), xy2=(2000000, 2000000), color=\"red\")\n",
    "plt.xlabel(\"salario neto ($)\")\n",
    "plt.ylabel(\"salario bruto ($)\")\n",
    "plt.show()"
   ]
  },
  {
   "cell_type": "markdown",
   "metadata": {},
   "source": [
    "## Filtrado/limpieza"
   ]
  },
  {
   "cell_type": "markdown",
   "metadata": {},
   "source": [
    "Primero vamos a eliminar aquellos datos que no cumplan con la condición de que el sueldo bruto sea estrictamente mayor que el neto. Además, dada la pregunta que queremos responder, vamos a quedarnos con aquellas personas que cobran desde un SMVM hasta hasta 2 millones de pesos, inclusive, imponiendo estas condiciones sobre el sueldo neto."
   ]
  },
  {
   "cell_type": "code",
   "execution_count": 7,
   "metadata": {},
   "outputs": [
    {
     "name": "stdout",
     "output_type": "stream",
     "text": [
      "Con todos los datos, teníamos 5356 filas.\n",
      "Luego de filtrar, nos quedan 4121 filas.\n"
     ]
    }
   ],
   "source": [
    "print(f'Con todos los datos, teníamos {len(df1)} filas.')\n",
    "\n",
    "df_acot = df1\n",
    "df_acot = df_acot[df_acot[\"salary_monthly_BRUTO\"]>df_acot[\"salary_monthly_NETO\"]] # Filtramos bruto > neto\n",
    "\n",
    "SMVM = 38940\n",
    "df_acot = df_acot[df_acot[\"salary_monthly_NETO\"]>=SMVM] # Filtramos desde el SMVM.\n",
    "df_acot = df_acot[df_acot[\"salary_monthly_NETO\"]<=2*1e6] # Filtramoshasta 2 millones.\n",
    "\n",
    "print(f'Luego de filtrar, nos quedan {len(df_acot)} filas.')\n",
    "\n"
   ]
  },
  {
   "cell_type": "markdown",
   "metadata": {},
   "source": [
    "Luego de filtrar, repetimos el pairplot y vemos que ahora tiene más sentido."
   ]
  },
  {
   "cell_type": "code",
   "execution_count": 8,
   "metadata": {},
   "outputs": [
    {
     "data": {
      "image/png": "[encoded data removed]",
      "text/plain": [
       "<Figure size 576x288 with 1 Axes>"
      ]
     },
     "metadata": {},
     "output_type": "display_data"
    }
   ],
   "source": [
    "sns.pairplot(data=df_acot, y_vars=['salary_monthly_BRUTO'], x_vars=['salary_monthly_NETO'], aspect=2, height=4)\n",
    "plt.ticklabel_format(style='sci', axis='both', scilimits=(6,6))\n",
    "plt.axline(xy1=(10000, 10000), xy2=(2000000, 2000000), color=\"red\")\n",
    "plt.xlabel(\"salario neto ($)\")\n",
    "plt.ylabel(\"salario bruto ($)\")\n",
    "plt.show()"
   ]
  },
  {
   "cell_type": "markdown",
   "metadata": {},
   "source": [
    "Al repetir los histogramas, vemos que aún tenemos una distribución bastante asimetríca con muchos puntos a derecha, tanto en bruto como en neto."
   ]
  },
  {
   "cell_type": "code",
   "execution_count": 9,
   "metadata": {},
   "outputs": [
    {
     "data": {
      "image/png": "[encoded data removed]",
      "text/plain": [
       "<Figure size 432x360 with 1 Axes>"
      ]
     },
     "metadata": {},
     "output_type": "display_data"
    }
   ],
   "source": [
    "fig, axs = plt.subplots(figsize=(6,5))\n",
    "\n",
    "# corregir labels\n",
    "\n",
    "sns.histplot(df_acot[[\"salary_monthly_BRUTO\",\"salary_monthly_NETO\"]], ax=axs, color='steelblue')\n",
    "axs.ticklabel_format(style='sci', axis='x', scilimits=(6,6))\n",
    "axs.set_ylim((-5,350))\n",
    "axs.set_xlim((0,2.05*10**6))\n",
    "axs.set_xlabel(\"salario ($)\")\n",
    "axs.set_ylabel(\"\")\n",
    "plt.show()"
   ]
  },
  {
   "cell_type": "markdown",
   "metadata": {},
   "source": [
    "## Selección de la porción central de la distribución"
   ]
  },
  {
   "cell_type": "markdown",
   "metadata": {},
   "source": [
    "Consideramos que sería apropiado tomar el 85 % central de nuestra muestra para llevar a cabo el análisis. Como suele de ser de interés el sueldo \"de bolsillo\" (el neto), seguiremos en adelante considerando sólo el sueldo neto y dejando de lado el bruto."
   ]
  },
  {
   "cell_type": "code",
   "execution_count": 10,
   "metadata": {},
   "outputs": [
    {
     "name": "stdout",
     "output_type": "stream",
     "text": [
      "Teníamos 4121 filas.\n",
      "Tomando el 85% central ahora tenemos 3479 filas.\n"
     ]
    }
   ],
   "source": [
    "print(f'Teníamos {len(df_acot)} filas.')\n",
    "\n",
    "df85 = df_acot[[\"salary_monthly_NETO\",\"tools_programming_languages\", \"profile_years_experience\", \"profile_age\", \"work_province\", \"profile_gender\"]] # Nuevo DataFrame\n",
    "\n",
    "k = 15\n",
    "percentile_inf = df85[\"salary_monthly_NETO\"].quantile(k * 0.5 / 100)\n",
    "percentile_sup = df85[\"salary_monthly_NETO\"].quantile((100 - k * 0.5) / 100)\n",
    "\n",
    "df85 = df85[df85[\"salary_monthly_NETO\"] > percentile_inf]\n",
    "df85 = df85[df85[\"salary_monthly_NETO\"] < percentile_sup]\n",
    "\n",
    "print(f'Tomando el 85% central ahora tenemos {len(df85)} filas.')\n"
   ]
  },
  {
   "cell_type": "code",
   "execution_count": 11,
   "metadata": {},
   "outputs": [
    {
     "data": {
      "image/png": "[encoded data removed]",
      "text/plain": [
       "<Figure size 432x360 with 1 Axes>"
      ]
     },
     "metadata": {},
     "output_type": "display_data"
    }
   ],
   "source": [
    "fig, axs = plt.subplots(figsize=(6,5))\n",
    "\n",
    "sns.histplot(df85[\"salary_monthly_NETO\"], ax=axs, color='steelblue', legend=False)\n",
    "axs.ticklabel_format(style='sci', axis='x', scilimits=(6,6))\n",
    "axs.set_ylim((-5,320))\n",
    "axs.set_xlim((38000, 0.55*10**6))\n",
    "axs.set_xlabel(\"salario neto ($)\")\n",
    "axs.set_ylabel(\"\")\n",
    "axs.vlines(df85[\"salary_monthly_NETO\"].median(), 0, np.amax(df85[\"salary_monthly_NETO\"]), color=\"tab:orange\", label = f'Mediana = ${df85[\"salary_monthly_NETO\"].median():.0f}', ls='-.')\n",
    "axs.vlines(df85[\"salary_monthly_NETO\"].mean(), 0, np.amax(df85[\"salary_monthly_NETO\"]), color=\"black\", label = f'Promedio = ${df85[\"salary_monthly_NETO\"].mean():.0f}', ls='-.')\n",
    "axs.legend()\n",
    "\n",
    "plt.show()"
   ]
  },
  {
   "cell_type": "markdown",
   "metadata": {},
   "source": [
    "## Selección de lenguajes de programación a analizar\n",
    "\n"
   ]
  },
  {
   "cell_type": "markdown",
   "metadata": {},
   "source": [
    "La columna que contiene información sobre los lenguajes de programación utilizados es `tools_programming_languages`, la cual no hemos considerado hasta ahora. Lo primero que hay que hacer es eliminar aquellas entradas cuya respuesta sea \"Ninguna de las anteriores\". Luego  separar las listas de lenguajes, para que queden cada uno por su cuenta, asociado al respectivo sueldo neto. En la columna `programming_language` se encuentra cada lenguaje por separado (las filas con igual índice hacen referencia a la misma persona)."
   ]
  },
  {
   "cell_type": "code",
   "execution_count": 12,
   "metadata": {},
   "outputs": [
    {
     "name": "stderr",
     "output_type": "stream",
     "text": [
      "/tmp/ipykernel_10113/2304986239.py:28: FutureWarning: The default dtype for empty Series will be 'object' instead of 'float64' in a future version. Specify a dtype explicitly to silence this warning.\n",
      "  df_lang = df85[\"cured_programming_languages\"].apply(pd.Series)\n"
     ]
    },
    {
     "name": "stdout",
     "output_type": "stream",
     "text": [
      "  programming_language  salary_monthly_NETO tools_programming_languages cured_programming_languages\n",
      "0               python             245000.0                      Python                    [python]\n",
      "2           javascript             115000.0     Javascript, PHP, Python   [javascript, php, python]\n",
      "2                  php             115000.0     Javascript, PHP, Python   [javascript, php, python]\n",
      "2               python             115000.0     Javascript, PHP, Python   [javascript, php, python]\n",
      "4                  css             125000.0       CSS, HTML, Javascript     [css, html, javascript]\n",
      "9660\n"
     ]
    }
   ],
   "source": [
    "# Convert the comma-separated string of languages to a list of string.\n",
    "# Remove 'ninguno de los anteriores' option, spaces and training commas.\n",
    "def split_languages(languages_str):\n",
    "    if not isinstance(languages_str, str):\n",
    "    \n",
    "        return []\n",
    "  \n",
    "    # Remove 'other' option\n",
    "    languages_str = languages_str.lower().replace('ninguno de los anteriores', '')\n",
    "    # Split string into list of items\n",
    "    # Remove spaces and commas for each item\n",
    "    return [lang.strip().replace(',', '') for lang in languages_str.split()]\n",
    "\n",
    "# Create a new column with the list of languages\n",
    "df85.loc[:, 'cured_programming_languages'] = df85.tools_programming_languages\\\n",
    "    .apply(split_languages)\n",
    "\n",
    "new_relevant_columns = [\"salary_monthly_NETO\",\"tools_programming_languages\", \"cured_programming_languages\"]\n",
    "\n",
    "# Duplicate each row of df for each programming language\n",
    "# mentioned in the response.\n",
    "# We only include in df_lang the columns we are going to analyze later, so we\n",
    "# don't duplicate innecesary information.\n",
    "\n",
    "# Uso la columna que me interesa\n",
    "# Transformo a series. No entiendo por que hay 19 columnas.\n",
    "# Desdoblado línea por línea para que se entienda.\n",
    "df_lang = df85[\"cured_programming_languages\"].apply(pd.Series)\n",
    "df_lang = df_lang.stack()\n",
    "df_lang = df_lang.reset_index(level=-1, drop=True)\n",
    "df_lang = df_lang.to_frame()\n",
    "df_lang = df_lang.join(df85[new_relevant_columns])\n",
    "df_lang = df_lang.rename(columns={0: 'programming_language'})\n",
    "\n",
    "print(df_lang[:5])\n",
    "print(len(df_lang))"
   ]
  },
  {
   "cell_type": "markdown",
   "metadata": {},
   "source": [
    "Si contamos cuántas veces aparece cada lenguaje y ordenamos de manera creciente, vemos que los 6 lenguajes más usados son sql, javascript, html, python, css y java, llevándose el 62% de la población. Éstos son los lenguajes que consideraremos en nuestro análisis."
   ]
  },
  {
   "cell_type": "code",
   "execution_count": 13,
   "metadata": {},
   "outputs": [
    {
     "name": "stdout",
     "output_type": "stream",
     "text": [
      "     language  frequency\n",
      "0         sql       1410\n",
      "1  javascript       1338\n",
      "2        html       1016\n",
      "3      python        937\n",
      "4         css        677\n",
      "5        java        653\n",
      "6  bash/shell        570\n",
      "7  typescript        560\n",
      "8        .net        452\n",
      "9         php        385\n",
      "Cantidad total de entradas: 9660.\n",
      "Entradas en los 6 más populares: 6031.\n",
      "Porcentaje de los 6 lenguajes más usados: 62%.\n"
     ]
    }
   ],
   "source": [
    "language_count = df_lang.programming_language.value_counts()\\\n",
    "    .reset_index()\\\n",
    "    .rename(columns={'index': 'language', 'programming_language': 'frequency'})\n",
    "\n",
    "print(language_count[:10])\n",
    "\n",
    "print(f'Cantidad total de entradas: {len(df_lang)}.')\n",
    "top6 = np.sum(language_count[\"frequency\"][0:6])\n",
    "int_lang = language_count[\"language\"][0:6].to_list()\n",
    "print(f'Entradas en los 6 más populares: {top6}.')\n",
    "print(f'Porcentaje de los 6 lenguajes más usados: {top6 * 100 / len(df_lang):.0f}%.')\n"
   ]
  },
  {
   "cell_type": "markdown",
   "metadata": {},
   "source": [
    "## Reformulación de la pregunta inicial"
   ]
  },
  {
   "cell_type": "markdown",
   "metadata": {},
   "source": [
    "La pregunta que nos hacemos ahora es la siguiente. Considerando que en Argentina el SMVM en Abril de 2022 es de $\\$ 38.940$ y que los 6 lenguajes de programación más populares son sql, javascript, html, python, css y java, ¿cuales de estos lenguajes de programación están asociados a los mejores salarios de bolsillo, considerando un sueldo mensual neto desde los $\\$ 38.940$ hasta los 2 millones de pesos?\n",
    "\n",
    "A continuación construimos el DataFrame que nos servirá para responder esta pregunta."
   ]
  },
  {
   "cell_type": "code",
   "execution_count": 14,
   "metadata": {
    "scrolled": true
   },
   "outputs": [
    {
     "name": "stdout",
     "output_type": "stream",
     "text": [
      "  programming_language  salary_monthly_NETO tools_programming_languages cured_programming_languages\n",
      "0               python             245000.0                      Python                    [python]\n",
      "2           javascript             115000.0     Javascript, PHP, Python   [javascript, php, python]\n",
      "2               python             115000.0     Javascript, PHP, Python   [javascript, php, python]\n",
      "4                  css             125000.0       CSS, HTML, Javascript     [css, html, javascript]\n",
      "4                 html             125000.0       CSS, HTML, Javascript     [css, html, javascript]\n",
      "4           javascript             125000.0       CSS, HTML, Javascript     [css, html, javascript]\n",
      "6031\n"
     ]
    }
   ],
   "source": [
    "df_intlang = df_lang[df_lang.programming_language.isin(int_lang)]\n",
    "\n",
    "print(df_intlang[:6])\n",
    "print(len(df_intlang))"
   ]
  },
  {
   "cell_type": "markdown",
   "metadata": {},
   "source": [
    "## Visualizaciones"
   ]
  },
  {
   "cell_type": "markdown",
   "metadata": {},
   "source": [
    "Para comparar las distribuciones del salario en función del lenguaje, elegimos utilizar visualizaciones. Dada la característica categórica de los datos analizados, consideramos usar histogramas y gráficos de cajas. "
   ]
  },
  {
   "cell_type": "markdown",
   "metadata": {},
   "source": [
    "### Respuesta con histogramas "
   ]
  },
  {
   "cell_type": "markdown",
   "metadata": {},
   "source": [
    "Como las distribuciones están sesgadas positivamente en todos los lenguajes, vemos que los promedios son mayores a las medianas. Sin embargo, podemos apreciar que en todos los lenguajes la diferencia entre estas cantidades es pequeña en comparación al rango de salarios en general. Esto se puede cuantificar mediante la siguiente cantidad:\n",
    "\n",
    "$$\n",
    "    \\text{razones} = \\frac{\\text{media} - \\text{mediana} }{\\text{rango total}} * 100\\%\n",
    "$$\n",
    "\n",
    "En todos los casos, como esperábamos, esta cantidad toma valores  pequeños (entre un 2\\% y 3\\%). Por esto, concluímos que tanto la media como la mediana son buenos indicadores de la tendencia central de estas distribuciones. Teniendo en cuenta esto, al comparar las medias podemos afirmar que, entre los 6 lenguajes de programación más populares, el mejor salario neto se consige con python."
   ]
  },
  {
   "cell_type": "code",
   "execution_count": 15,
   "metadata": {
    "scrolled": true
   },
   "outputs": [
    {
     "name": "stdout",
     "output_type": "stream",
     "text": [
      "razones por lenguaje:\n",
      "\n",
      "sql: 2.09%\n",
      "javascript: 3.03%\n",
      "html: 2.26%\n",
      "python: 2.73%\n",
      "css: 2.94%\n",
      "java: 2.5%\n"
     ]
    },
    {
     "data": {
      "image/png": "[encoded data removed]",
      "text/plain": [
       "<Figure size 1296x720 with 6 Axes>"
      ]
     },
     "metadata": {},
     "output_type": "display_data"
    }
   ],
   "source": [
    "fig, axs = plt.subplots(2,3, figsize=(18,10))\n",
    "\n",
    "\n",
    "m = 0\n",
    "nbins=20\n",
    "binrange = [38000, 0.55*10**6]\n",
    "\n",
    "range_salary = -np.amin(df_intlang[\"salary_monthly_NETO\"]) + np.amax(df_intlang[\"salary_monthly_NETO\"])\n",
    "ratio = []\n",
    "\n",
    "for i in [0,1]:\n",
    "    for j in [0,1,2]:\n",
    "        data = df_intlang[df_intlang[\"programming_language\"]==int_lang[m]][\"salary_monthly_NETO\"]\n",
    "\n",
    "        sns.histplot(data, bins=nbins, binrange=binrange, ax=axs[i, j], color='steelblue')\n",
    "        \n",
    "        median = data.median()\n",
    "        mean = data.mean()\n",
    "        \n",
    "        axs[i, j].vlines(median, 0, 220, color=\"tab:orange\", label = f'Mediana = ${median:.0f}', ls='-.')\n",
    "        axs[i, j].vlines(mean, 0, 220, color=\"black\", label = f'Promedio = ${mean:.0f}', ls='-.')\n",
    "\n",
    "        axs[i, j].annotate(f'{int_lang[m]}', xy = (0.5e5, 200), fontsize=12, ha='left')\n",
    "        axs[i, j].legend(frameon=False, loc='best')\n",
    "\n",
    "        axs[i, j].ticklabel_format(style='sci', axis='x', scilimits=(5,5))\n",
    "        axs[i, j].set_ylim((-1,220))\n",
    "        axs[i, j].set_xlim((38000, 0.55*10**6))\n",
    "        axs[i, j].set_xlabel(\"salario ($)\")\n",
    "        axs[i, j].set_ylabel(\"\")\n",
    "        \n",
    "        ratio.append( round((mean-median)/range_salary * 100, 2) )\n",
    "        \n",
    "        m += 1\n",
    "\n",
    "print(\"razones por lenguaje:\")\n",
    "print()\n",
    "for i in range (len(int_lang)):\n",
    "    print(int_lang[i]+\":\", str(ratio[i])+\"%\")\n",
    "        \n",
    "plt.show()"
   ]
  },
  {
   "cell_type": "markdown",
   "metadata": {},
   "source": [
    "### Respuesta con gráfico de cajas"
   ]
  },
  {
   "cell_type": "markdown",
   "metadata": {
    "id": "-ZSQYANFHHgV"
   },
   "source": [
    "---\n",
    "# Ejercicio 2 - Densidades y varias variables"
   ]
  },
  {
   "cell_type": "markdown",
   "metadata": {},
   "source": [
    "## Selección de filas y columnas"
   ]
  },
  {
   "cell_type": "markdown",
   "metadata": {},
   "source": [
    "En este segundo ejercicio, debemos dar respuesta a **¿Que herramientas (prácticas y teóricas) són útiles para explorar la base, descubrir patrones, asociaciones?** \n",
    "\n",
    "Dado un DataFrame, podemos considerar que cada columna es un conjunto de datos, los cuales se puede modelar con el concepto matemático de **variable aleatoria**. Luego, cada dato de esa columna es una **realización** u **observación** de dicha variable aleatoria. Habrá datos o intervalo de datos más frecuentes y otros más atípicos. Esto último se modela con el concepto de **distribución** o **densidad** de la variable aleatoria. Estas son las herramientas matemáticas que nos brinda la probabilidad y la estadística.\n",
    "\n",
    "En particular, elegimos las variables categóricas work_province y profile_gender junto a las variables numéricas salary_monthly_NETO, profile_years_experience y profile_age. Partimos desde el DataFrame df85 utilizado en el ejercicio anterior, donde ya tenemos una serie de filtros aplicados."
   ]
  },
  {
   "cell_type": "code",
   "execution_count": 16,
   "metadata": {},
   "outputs": [
    {
     "name": "stdout",
     "output_type": "stream",
     "text": [
      "Cantidad inicial de filas: 5358.\n",
      "Quedan 3479 filas.\n"
     ]
    }
   ],
   "source": [
    "relevant_columns = [\"salary_monthly_NETO\", \n",
    "                    \"profile_years_experience\", \n",
    "                    \"profile_age\", \n",
    "                    \"work_province\", \n",
    "                    \"profile_gender\"\n",
    "                   ]\n",
    "\n",
    "df2 = df85[relevant_columns] # Nuevo DataFrame\n",
    "\n",
    "print(f'Cantidad inicial de filas: {total_ans}.')\n",
    "df2 = df2.dropna(subset=relevant_columns)\n",
    "print(f'Quedan {len(df2)} filas.')"
   ]
  },
  {
   "cell_type": "markdown",
   "metadata": {},
   "source": [
    "## Filtros"
   ]
  },
  {
   "cell_type": "markdown",
   "metadata": {},
   "source": [
    "### Género\n",
    "\n",
    "Dada que la encuesta no tiene respuestas prefijadas, la categoría contiene una gran variedad de respuestas equivalentes, sólo que escritas de distinta manera. En una primera instancia, se unificaron estas categorías para evitar ambigüedades y se graficó un histograma con las nuevas etiquetas.\n",
    "\n",
    "Observamos que hay dos categorías dominantes, que son varon_cis y mujer_cis. Utilizando una escala logarítmica en el histograma, vemos que el resto está dos órdenes de magnitud por abajo. En base a esto, tomamos el criterio de agrupar las categorías minoritarias bajo la etiqueta \"diversidades\" para darle más significancia estadística para futuros análisis."
   ]
  },
  {
   "cell_type": "code",
   "execution_count": 17,
   "metadata": {},
   "outputs": [
    {
     "name": "stdout",
     "output_type": "stream",
     "text": [
      "distintas respuestas a la sección 'genero'\n",
      "\n",
      "originalmente:\n",
      "['Varón Cis' 'Varón cis' 'Mujer Cis' 'Varón Trans' 'Queer' 'No binarie'\n",
      " 'Mujer Trans' 'Mujer cis' 'Mujer' 'mujer' 'Gay' 'Fluido' 'Bigénero'\n",
      " 'Femenino']\n",
      "número de etiquetas:  14\n",
      "------------------------------------------------------\n",
      "unificando etiquetas equivalentes\n",
      "['varon_cis' 'mujer_cis' 'varon_trans' 'queer' 'no_binarie' 'mujer_trans'\n",
      " 'gay' 'fluido' 'bigenero']\n",
      "número de etiquetas:  9\n",
      "------------------------------------------------------\n",
      "agrupando diversidades\n",
      "['varon_cis' 'mujer_cis' 'diversidades']\n",
      "número de etiquetas:  3\n"
     ]
    },
    {
     "data": {
      "image/png": "[encoded data removed]",
      "text/plain": [
       "<Figure size 864x360 with 2 Axes>"
      ]
     },
     "metadata": {},
     "output_type": "display_data"
    }
   ],
   "source": [
    "print(\"distintas respuestas a la sección 'genero'\")\n",
    "print()\n",
    "print(\"originalmente:\")\n",
    "print(df2.profile_gender.unique())\n",
    "print(\"número de etiquetas: \",len(df2.profile_gender.unique()))\n",
    "\n",
    "print(\"------------------------------------------------------\")\n",
    "\n",
    "df2_gen = df2.copy()\n",
    "\n",
    "df2_gen.loc[:,'profile_g'] = df2_gen.profile_gender.replace(\n",
    "    {'Varón Cis': 'varon_cis',\n",
    "     'Varón cis': 'varon_cis',\n",
    "     'Mujer': 'mujer_cis',\n",
    "     'Mujer Cis': 'mujer_cis',\n",
    "     'Mujer cis': 'mujer_cis',\n",
    "     'Femenino': 'mujer_cis',\n",
    "     'mujer': 'mujer_cis',\n",
    "     'Mujer':'mujer_cis',\n",
    "     'Queer':'queer',\n",
    "     'Varón Trans':'varon_trans',\n",
    "     'No binarie':'no_binarie',\n",
    "     'Mujer Trans':'mujer_trans',\n",
    "     'Fluido':'fluido',\n",
    "     'Bigénero':'bigenero',\n",
    "     'Gay':'gay'\n",
    "    })\n",
    "\n",
    "print(\"unificando etiquetas equivalentes\")\n",
    "print(df2_gen.profile_g.unique())\n",
    "print(\"número de etiquetas: \",len(df2_gen.profile_g.unique()))\n",
    "print(\"------------------------------------------------------\")\n",
    "\n",
    "print(\"agrupando diversidades\")\n",
    "\n",
    "df2_gen2 = df2_gen.copy()\n",
    "df2_gen2.loc[:,'profile_g'] = df2_gen2.profile_g.replace(\n",
    "    {\n",
    "     'queer':'diversidades',\n",
    "     'varon_trans':'diversidades',\n",
    "     'no_binarie':'diversidades',\n",
    "     'mujer_trans':'diversidades',\n",
    "     'fluido':'diversidades',\n",
    "     'bigenero':'diversidades',\n",
    "     'gay':'diversidades'\n",
    "    })\n",
    "\n",
    "print(df2_gen2.profile_g.unique())\n",
    "print(\"número de etiquetas: \",len(df2_gen2.profile_g.unique()))\n",
    "\n",
    "fig, ax = plt.subplots(1,2,figsize=(12,5))\n",
    "sns.countplot(x=df2_gen.profile_g, color='steelblue', ax = ax[0])\n",
    "sns.countplot(x=df2_gen2.profile_g, color='steelblue', ax = ax[1])\n",
    "\n",
    "ax[0].set_xlabel(\"géneros\")\n",
    "ax[1].set_xlabel(\"géneros\")\n",
    "ax[0].set_ylabel(\"\")\n",
    "ax[1].set_ylabel(\"\")\n",
    "ax[0].set_yscale(\"log\")\n",
    "ax[1].set_yscale(\"log\")\n",
    "ax[0].xaxis.set_tick_params(rotation=45)\n",
    "ax[1].xaxis.set_tick_params(rotation=45)\n",
    "plt.show()\n",
    "\n"
   ]
  },
  {
   "cell_type": "markdown",
   "metadata": {},
   "source": [
    "### Provincias\n",
    "\n",
    "Se analizaron las respuestas provistas a la sección 'work_province'. Observamos que el 88% de les programadorxs están concentrades en cuatro provincias principalmente: Ciudad Autónoma de Buenos Aires, Provincia de Buenos Aires, Córdoba y Santa Fe, las cuales fueron renombradas para mayor conveniencia. Los análisis posteriores estarán basados  sólo en estas cuatro provincias.\n",
    "\n"
   ]
  },
  {
   "cell_type": "code",
   "execution_count": 18,
   "metadata": {},
   "outputs": [
    {
     "name": "stdout",
     "output_type": "stream",
     "text": [
      "                     work_province  frequency\n",
      "0  Ciudad Autónoma de Buenos Aires       1836\n",
      "1        Provincia de Buenos Aires        688\n",
      "2                          Córdoba        302\n",
      "3                         Santa Fe        225\n",
      "4                          Mendoza         83\n",
      "5                            Chaco         38\n",
      "6                       Entre Ríos         38\n",
      "7                        Río Negro         32\n",
      "8                          Neuquén         31\n",
      "9                            Salta         26\n",
      "Cantidad total de entradas: 3479.\n",
      "Entradas en las 3 más populares: 3051.\n",
      "Porcentaje de las 3 provincias mayoritarias: 88%.\n"
     ]
    }
   ],
   "source": [
    "df_prov = df2_gen2.copy()\n",
    "\n",
    "prov_count = df_prov.work_province.value_counts()\\\n",
    "    .reset_index()\\\n",
    "    .rename(columns={'index': 'work_province', 'work_province': 'frequency'})\n",
    "\n",
    "print(prov_count[:10])\n",
    "\n",
    "print(f'Cantidad total de entradas: {len(df_prov)}.')\n",
    "tops = np.sum(prov_count[\"frequency\"][0:4])\n",
    "int_prov = prov_count[\"work_province\"][0:4].to_list()\n",
    "print(f'Entradas en las 3 más populares: {tops}.')\n",
    "print(f'Porcentaje de las 3 provincias mayoritarias: {tops * 100 / len(df_prov):.0f}%.')\n",
    "\n",
    "#filtro\n",
    "df_prov2 = df_prov[df_prov.work_province.isin(int_prov)]\n",
    "#renombramos las etiquetas mayoritarias\n",
    "df_prov2.loc[:,'work_prov'] = df_prov2.work_province.replace(\n",
    "    {\n",
    "        'Ciudad Autónoma de Buenos Aires':'caba',\n",
    "        'Córdoba':'cordoba',\n",
    "        'Provincia de Buenos Aires': 'bs_as',\n",
    "        'Santa Fe':'santa_fe',\n",
    "     })"
   ]
  },
  {
   "cell_type": "code",
   "execution_count": 19,
   "metadata": {},
   "outputs": [],
   "source": [
    "\n",
    "# fig, ax = plt.subplots(1,2,figsize=(12,5))\n",
    "# sns.countplot(x=df_prov.work_province, color='steelblue', ax = ax[0])\n",
    "# ax[0].set_xlabel(\"provincia\")\n",
    "# ax[0].set_ylabel(\"\")\n",
    "# ax[0].set_yscale(\"log\")\n",
    "# ax[0].xaxis.set_tick_params(rotation=90)\n",
    "# ax[0].yaxis.get_ticklocs(minor=True)\n",
    "# sns.countplot(x=df_prov2.work_province, color='steelblue', ax = ax[1])\n",
    "# ax[1].set_xlabel(\"provincia\")\n",
    "# ax[1].set_ylabel(\"\")\n",
    "# ax[1].set_yscale(\"log\")\n",
    "# ax[1].xaxis.set_tick_params(rotation=90)\n",
    "# ax[1].yaxis.get_ticklocs(minor=True)\n",
    "# plt.show()\n"
   ]
  },
  {
   "cell_type": "markdown",
   "metadata": {},
   "source": [
    "### Edades y años de experiencia\n",
    "\n",
    "La edad laboral mínima en Argentina es de 18 años y la edad máxima jubilatoria es de 65 años. Filtramos los datos con estos criterios. \n",
    "\n",
    "Además, observamos en los datos que algunas personas o empezaron a trabajar antes de los 18 años, mintieron o se equivocaron en cargar los años de experiencia. En la tercera entrada por ejemplo, esa persona empezó a trabajar a los 13 años. Decidimos filtrar todos estos casos de la siguiente forma:\n",
    "\n",
    "$$\n",
    "    \\text{edad}-18 \\geq \\text{años de experiencia}\n",
    "$$\n",
    "\n"
   ]
  },
  {
   "cell_type": "code",
   "execution_count": 20,
   "metadata": {},
   "outputs": [
    {
     "name": "stdout",
     "output_type": "stream",
     "text": [
      "     profile_age  profile_years_experience\n",
      "118           21                       4.0\n",
      "269           46                      30.0\n",
      "368           38                      25.0\n",
      "373           38                      23.0\n",
      "469           34                      25.0\n",
      "518           25                       8.0\n",
      "533           32                      20.0\n",
      "862           38                      23.0\n",
      "951           18                       1.0\n",
      "956           19                       3.0\n"
     ]
    }
   ],
   "source": [
    "df_age = df_prov2.copy()\n",
    "\n",
    "age_min = 18\n",
    "age_max = 65\n",
    "\n",
    "#filtro por edades laborales\n",
    "df_age = df_age[df_age[\"profile_age\"]>=age_min]\n",
    "df_age = df_age[df_age[\"profile_age\"]<=age_max]\n",
    "\n",
    "#algunos datos sospechosos:\n",
    "print(df_age[df_age[\"profile_age\"]-age_min < df_age[\"profile_years_experience\"]]\\\n",
    "      [[\"profile_age\",\"profile_years_experience\"]][0:10])\n",
    "\n",
    "#filtro de datos sospechosos\n",
    "df_age = df_age[df_age[\"profile_age\"]-age_min >= df_age[\"profile_years_experience\"]] # años de exp no superan edad\n",
    "\n",
    "\n"
   ]
  },
  {
   "cell_type": "markdown",
   "metadata": {},
   "source": [
    "## a) Densidad conjunta\n",
    "\n",
    "\n",
    "Que herramientas visuales y modelos puede utilizar para estudiar la distribución y comportamiento de sus datos? \n",
    "\n",
    "Elija tres variables numéricas y 2 variables categóricas. Visualice la base según varias de las variables elegidas. Puede describir de alguna forma el comportamiento de sus datos? Que herramientas utilizaría? Describa\n",
    "\n",
    "\n"
   ]
  },
  {
   "cell_type": "markdown",
   "metadata": {},
   "source": [
    "## b) Asociación\n",
    "\n",
    "\n",
    "En base a lo realizado en el ejercicio 1 (ver secciones 'Análisis preliminar' y 'Filtrado/limpieza'), notamos que la gran mayoría de los datos tienen una correlación positiva en el sentido que cuando una variable crece, la otra también lo hace. Aquellos datos que rompen esta tendencia fueron descartados en base a los criterios ya discutidos previamente. En resumen, decidimos trabajar solamente con el salario neto. \n",
    "\n",
    "Para mejorar futuras encuestas, agregaríamos dichos criterios, o bien pedir sólamente el salario neto, ya que creemos que a la gente le importa más saber cuánto dinero le queda 'en el bolsillo'."
   ]
  },
  {
   "cell_type": "markdown",
   "metadata": {},
   "source": [
    "## c) Densidad condicional \n",
    "\n",
    "Estudie la distribución del salario según el nivel de estudio.\n",
    "\n",
    "Separe la población según el nivel de estudio (elija dos subpoblaciones numerosas) y grafique de manera comparativa ambos histogramas de la variable `'salary_monthly_NETO'`\n",
    "¿Considera que ambas variables son independientes?\n",
    "¿Qué analizaría al respecto?\n",
    "\n",
    "Calcule medidas de centralización y dispersión para cada subpoblación\n",
    "\n",
    "\n",
    "\n"
   ]
  },
  {
   "cell_type": "markdown",
   "metadata": {},
   "source": [
    "## d) Densidad Conjunta condicional\n",
    "\n",
    "Elija dos variables numéricas y una categórica. \n",
    "Estudie la dispersión (scatterplot) de las dos variables discriminando en color por la variable categórica (ayuda: hue en seaborn)"
   ]
  }
 ],
 "metadata": {
  "colab": {
   "provenance": [
    {
     "file_id": "1NXWXyebR6mzAabyOPqghXpZQdyy05cRV",
     "timestamp": 1680785357097
    },
    {
     "file_id": "1OZLULlr-RkXwyhar7ED5fcXmPdgc6tGb",
     "timestamp": 1617224538047
    },
    {
     "file_id": "1xPL68eVaR0UF7XTcLU1rCMfpzuS7r6s0",
     "timestamp": 1617223947184
    },
    {
     "file_id": "1bChseZSrdGJSXfa-D2_lS0dx98wplQtD",
     "timestamp": 1614968149245
    }
   ]
  },
  "kernelspec": {
   "display_name": "Python 3 (ipykernel)",
   "language": "python",
   "name": "python3"
  },
  "language_info": {
   "codemirror_mode": {
    "name": "ipython",
    "version": 3
   },
   "file_extension": ".py",
   "mimetype": "text/x-python",
   "name": "python",
   "nbconvert_exporter": "python",
   "pygments_lexer": "ipython3",
   "version": "3.9.12"
  }
 },
 "nbformat": 4,
 "nbformat_minor": 1
}
