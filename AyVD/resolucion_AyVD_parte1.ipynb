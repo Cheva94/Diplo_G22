{
 "cells": [
  {
   "cell_type": "markdown",
   "metadata": {
    "id": "LYvAOR2VzHmW"
   },
   "source": [
    "\n",
    "# Diplomatura en ciencia de datos, aprendizaje automático y sus aplicaciones - Edición 2023 - FAMAF (UNC)"
   ]
  },
  {
   "cell_type": "markdown",
   "metadata": {},
   "source": [
    "## Análisis y visualización de datos\n",
    "\n",
    "### Trabajo práctico entregable - Grupo 22 - Parte 1\n",
    "\n",
    "**Integrantes:**\n",
    "- Chevallier-Boutell, Ignacio José\n",
    "- Ribetto, Federico Daniel\n",
    "- Rosa, Santiago\n",
    "\n",
    "**Seguimiento:** Meinardi, Vanesa\n",
    "\n",
    "\n",
    "**Observación:** como los datasets son muy pequeños, nuestro flujo de trabajo se basó en hacer copias *ad hoc*. Somos concientes que esto es un gasto innecesario de memoria pero que no tiene un impacto en la performance en este caso. no nos bajen puntos porfis.\n",
    "\n",
    "---"
   ]
  },
  {
   "cell_type": "markdown",
   "metadata": {},
   "source": [
    "## Librerías"
   ]
  },
  {
   "cell_type": "code",
   "execution_count": null,
   "metadata": {
    "executionInfo": {
     "elapsed": 743,
     "status": "ok",
     "timestamp": 1680803577547,
     "user": {
      "displayName": "Laura Minuet",
      "userId": "00787725849952937741"
     },
     "user_tz": 180
    },
    "id": "Xwdfo7z20TUK"
   },
   "outputs": [],
   "source": [
    "import io\n",
    "import matplotlib\n",
    "import matplotlib.pyplot as plt\n",
    "import numpy as np\n",
    "import pandas as pd\n",
    "import seaborn as sns\n",
    "import scipy\n",
    "\n",
    "pd.set_option('display.max_rows', 1000) # cambiar el número de filas que se mostrarán usando display.max_rows.\n",
    "pd.set_option('display.max_columns', 1000)\n",
    "pd.set_option('display.width', 1000)\n",
    "pd.options.mode.chained_assignment = None  # default='warn'\n",
    "\n",
    "sns.set_context('talk')\n",
    "sns.set_theme(style='white')"
   ]
  },
  {
   "cell_type": "markdown",
   "metadata": {
    "id": "XY2Hl-Ma07Nn"
   },
   "source": [
    "## Lectura del dataset"
   ]
  },
  {
   "cell_type": "markdown",
   "metadata": {},
   "source": [
    "El dataset a utilizar es la encuesta Sysarmy del año 2022 versión 2, en formato csv, la cual es una una encuesta personal y voluntaria que busca relevar información sobre salarios y condiciones de trabajo de programadores, que se realiza anualmente. Se analizarán sólo los datos provenientes de Argentina. \n",
    "\n",
    "Se utilizará un dataset que ya ha tenido un pretratamiento: \n",
    "* Se eliminó el encabezado de la encuesta original.\n",
    "* Se renombraron las columnas.\n",
    "\n",
    "Este dataset está disponible en internet, desde donde lo usaremos."
   ]
  },
  {
   "cell_type": "code",
   "execution_count": null,
   "metadata": {
    "executionInfo": {
     "elapsed": 1525,
     "status": "ok",
     "timestamp": 1680803579067,
     "user": {
      "displayName": "Laura Minuet",
      "userId": "00787725849952937741"
     },
     "user_tz": 180
    },
    "id": "Vviv_sqXdR5W"
   },
   "outputs": [],
   "source": [
    "url = 'https://raw.githubusercontent.com/DiploDatos/AnalisisyVisualizacion/master/sysarmy_survey_2022_processed.csv'\n",
    "df = pd.read_csv(url)\n",
    "total_ans = len(df) # cantidad de respuestas en tel dataset"
   ]
  },
  {
   "cell_type": "markdown",
   "metadata": {
    "id": "-ZSQYANFHHgV"
   },
   "source": [
    "---\n",
    "# Ejercicio 1 - Análisis descriptivo"
   ]
  },
  {
   "cell_type": "markdown",
   "metadata": {},
   "source": [
    "## Selección de columnas"
   ]
  },
  {
   "cell_type": "markdown",
   "metadata": {},
   "source": [
    "En este primer ejercicio, debemos dar respuesta a **¿Cuáles son los lenguajes de programación asociados a los mejores salarios?** Para ello, creemos que las columnas que contienen la información relevante son salary_monthly_BRUTO, salary_monthly_NETO y tools_programming_languages. Crearemos un nuevo DataFrame que contenga entonces sólo esta información. Luego, eliminamos las filas que están vacías.\n",
    "\n",
    "**Observación:** tomaremos también las variables categóricas work_province, profile_gender y profile_studies_level junto a las variables numéricas profile_years_experience y profile_age ya que el proceso de filtrado que haremos nos sirve como puntapié para responder el ejercicio 2."
   ]
  },
  {
   "cell_type": "code",
   "execution_count": null,
   "metadata": {},
   "outputs": [],
   "source": [
    "relevant_columns = [\"salary_monthly_BRUTO\",\n",
    "                    \"salary_monthly_NETO\",\n",
    "                    \"tools_programming_languages\", \n",
    "                    \"profile_years_experience\", \n",
    "                    \"profile_age\", \n",
    "                    \"work_province\", \n",
    "                    \"profile_gender\", \n",
    "                    \"profile_studies_level\"]\n",
    "\n",
    "df1 = df[relevant_columns] # Nuevo DataFrame\n",
    "\n",
    "print(f'Cantidad inicial de filas: {total_ans}.')\n",
    "df1 = df1.dropna(subset=relevant_columns[:3])  # Evito limpiar con profile_studies_level\n",
    "print(f'Quedan {len(df1)} filas.')"
   ]
  },
  {
   "cell_type": "code",
   "execution_count": null,
   "metadata": {},
   "outputs": [],
   "source": [
    "# Modificación de etiquetas a usar en este ejercicio\n",
    "df1.rename(columns = {\"salary_monthly_BRUTO\":'bruto', \n",
    "                      \"salary_monthly_NETO\":'neto',\n",
    "                      \"tools_programming_languages\":'lenguajes'}\n",
    "                      , inplace = True)"
   ]
  },
  {
   "cell_type": "markdown",
   "metadata": {},
   "source": [
    "## Análisis preliminar"
   ]
  },
  {
   "cell_type": "markdown",
   "metadata": {},
   "source": [
    "La estadística descriptiva del sueldo bruto muestra que hay una gran dispersión de datos: el sueldo bruto promedio es de $363.445, pero hay gente que llega a cobrar hasta 28 millones de pesos (más de 77 veces la media). Esto se ve reflejado también en su gran desviación estándar. Vemos también que hay gente que supuestamente tiene un sueldo nulo. Algo similar se observa con el sueldo neto."
   ]
  },
  {
   "cell_type": "code",
   "execution_count": null,
   "metadata": {},
   "outputs": [],
   "source": [
    "print('Resultados del describe:')\n",
    "print(df1[[\"bruto\",\"neto\"]].describe().round(0))"
   ]
  },
  {
   "cell_type": "markdown",
   "metadata": {},
   "source": [
    "Esto mismo lo apreciamos gráficamente: vemos que la distribución es extremadamente asimétrica, teniendo una cola ampliamente extendida hacia la derecha. Además, considerando que el Salario Mínimo Vital y Móvil (SMVM) en Abril de 2022 es de $38.940, hay varias respuestas que caen por debajo de este valor."
   ]
  },
  {
   "cell_type": "code",
   "execution_count": null,
   "metadata": {},
   "outputs": [],
   "source": [
    "fig, axs = plt.subplots(1,2, figsize=(12,5))\n",
    "\n",
    "sns.histplot(df1[[\"bruto\",\"neto\"]], ax=axs[0], color='steelblue')\n",
    "\n",
    "axs[0].ticklabel_format(style='sci', axis='x', scilimits=(6,6))\n",
    "axs[0].set_ylim((-5,600))\n",
    "axs[0].set_xlim((-1*10**6,30*10**6))\n",
    "axs[0].set_ylabel(\"\")\n",
    "axs[0].set_xlabel(\"salario ($)\")\n",
    "\n",
    "sns.histplot(df1[[\"bruto\",\"neto\"]], ax=axs[1], color='steelblue')\n",
    "axs[1].ticklabel_format(style='sci', axis='x', scilimits=(4,4))\n",
    "axs[1].set_ylim((-5,600))\n",
    "axs[1].set_xlim((-1000,4*10**4))\n",
    "axs[1].set_ylabel(\"\")\n",
    "axs[1].set_xlabel(\"salario ($)\")\n",
    "\n",
    "plt.show()"
   ]
  },
  {
   "cell_type": "markdown",
   "metadata": {},
   "source": [
    "Analicemos ahora la relación entre el sueldo bruto y el neto. Sabemos que el sueldo bruto tiene que ser estrictamente mayor que el sueldo neto. Esto implica que, gráficamente, todos los puntos deberían caer por encima de la diagonal principal (marcada en rojo). Limpiamos entonces los datos, considerando esta condición. Notamos también que hay una serie de datos encolumnados en torno a un sueldo neto nulo."
   ]
  },
  {
   "cell_type": "code",
   "execution_count": null,
   "metadata": {},
   "outputs": [],
   "source": [
    "sns.pairplot(data=df1, y_vars=['bruto'], x_vars=['neto'], aspect=2, height=4)\n",
    "plt.ticklabel_format(style='sci', axis='both', scilimits=(6,6))\n",
    "plt.axline(xy1=(10000, 10000), xy2=(2000000, 2000000), color=\"red\")\n",
    "plt.xlabel(\"salario neto ($)\")\n",
    "plt.ylabel(\"salario bruto ($)\")\n",
    "plt.show()"
   ]
  },
  {
   "cell_type": "markdown",
   "metadata": {},
   "source": [
    "## Filtrado/limpieza"
   ]
  },
  {
   "cell_type": "markdown",
   "metadata": {},
   "source": [
    "Primero vamos a eliminar aquellos datos que no cumplan con la condición de que el sueldo bruto sea estrictamente mayor que el neto. Además, dada la pregunta que queremos responder, vamos a quedarnos con aquellas personas que cobran desde un SMVM hasta hasta 2 millones de pesos, inclusive, imponiendo estas condiciones sobre el sueldo neto."
   ]
  },
  {
   "cell_type": "code",
   "execution_count": null,
   "metadata": {},
   "outputs": [],
   "source": [
    "print(f'Con todos los datos, teníamos {len(df1)} filas.')\n",
    "\n",
    "df_acot = df1\n",
    "df_acot = df_acot[df_acot[\"bruto\"]>df_acot[\"neto\"]] # Filtramos bruto > neto\n",
    "\n",
    "SMVM = 38940\n",
    "df_acot = df_acot[df_acot[\"neto\"]>=SMVM] # Filtramos desde el SMVM.\n",
    "df_acot = df_acot[df_acot[\"neto\"]<=2*1e6] # Filtramoshasta 2 millones.\n",
    "\n",
    "print(f'Luego de filtrar, nos quedan {len(df_acot)} filas.')\n",
    "\n"
   ]
  },
  {
   "cell_type": "markdown",
   "metadata": {},
   "source": [
    "Luego de filtrar, repetimos el pairplot y vemos que ahora tiene más sentido."
   ]
  },
  {
   "cell_type": "code",
   "execution_count": null,
   "metadata": {},
   "outputs": [],
   "source": [
    "sns.pairplot(data=df_acot, y_vars=['bruto'], x_vars=['neto'], aspect=2, height=4)\n",
    "plt.ticklabel_format(style='sci', axis='both', scilimits=(6,6))\n",
    "plt.axline(xy1=(10000, 10000), xy2=(2000000, 2000000), color=\"red\")\n",
    "plt.xlabel(\"salario neto ($)\")\n",
    "plt.ylabel(\"salario bruto ($)\")\n",
    "plt.show()"
   ]
  },
  {
   "cell_type": "markdown",
   "metadata": {},
   "source": [
    "Al repetir los histogramas, vemos que aún tenemos una distribución bastante asimetríca con muchos puntos a derecha, tanto en bruto como en neto."
   ]
  },
  {
   "cell_type": "code",
   "execution_count": null,
   "metadata": {},
   "outputs": [],
   "source": [
    "fig, axs = plt.subplots(figsize=(6,5))\n",
    "\n",
    "sns.histplot(df_acot[[\"bruto\",\"neto\"]], ax=axs)\n",
    "axs.ticklabel_format(style='sci', axis='x', scilimits=(6,6))\n",
    "axs.set_ylim((-5,350))\n",
    "axs.set_xlim((0,2.05*10**6))\n",
    "axs.set_xlabel(\"salario ($)\")\n",
    "axs.set_ylabel(\"\")\n",
    "plt.show()"
   ]
  },
  {
   "cell_type": "markdown",
   "metadata": {},
   "source": [
    "## Selección de la porción central de la distribución"
   ]
  },
  {
   "cell_type": "markdown",
   "metadata": {},
   "source": [
    "Consideramos que sería apropiado tomar el 85 % central de nuestra muestra para llevar a cabo el análisis. Como suele de ser de interés el sueldo \"de bolsillo\" (el neto), seguiremos en adelante considerando sólo el sueldo neto y dejando de lado el bruto."
   ]
  },
  {
   "cell_type": "code",
   "execution_count": null,
   "metadata": {},
   "outputs": [],
   "source": [
    "print(f'Teníamos {len(df_acot)} filas.')\n",
    "\n",
    "df85 = df_acot[['neto', 'lenguajes', 'profile_years_experience', \n",
    "                'profile_age', 'work_province', 'profile_gender', \n",
    "                'profile_studies_level']] # Nuevo DataFrame\n",
    "\n",
    "k = 15\n",
    "percentile_inf = df85[\"neto\"].quantile(k * 0.5 / 100)\n",
    "percentile_sup = df85[\"neto\"].quantile((100 - k * 0.5) / 100)\n",
    "\n",
    "df85 = df85[df85[\"neto\"] > percentile_inf]\n",
    "df85 = df85[df85[\"neto\"] < percentile_sup]\n",
    "\n",
    "print(f'Tomando el 85% central ahora tenemos {len(df85)} filas.')\n"
   ]
  },
  {
   "cell_type": "code",
   "execution_count": null,
   "metadata": {},
   "outputs": [],
   "source": [
    "fig, axs = plt.subplots(figsize=(6,5))\n",
    "\n",
    "sns.histplot(df85[\"neto\"], ax=axs, color='steelblue', legend=False)\n",
    "axs.ticklabel_format(style='sci', axis='x', scilimits=(6,6))\n",
    "axs.set_ylim((-5,320))\n",
    "axs.set_xlim((38000, 0.55*10**6))\n",
    "axs.set_xlabel(\"salario neto ($)\")\n",
    "axs.set_ylabel(\"\")\n",
    "axs.vlines(df85[\"neto\"].median(), 0, np.amax(df85[\"neto\"]), color=\"tab:orange\", label = f'Mediana = ${df85[\"neto\"].median():.0f}', ls='-.')\n",
    "axs.vlines(df85[\"neto\"].mean(), 0, np.amax(df85[\"neto\"]), color=\"black\", label = f'Promedio = ${df85[\"neto\"].mean():.0f}', ls='-.')\n",
    "axs.legend()\n",
    "\n",
    "plt.show()"
   ]
  },
  {
   "cell_type": "markdown",
   "metadata": {},
   "source": [
    "## Selección de lenguajes de programación a analizar\n",
    "\n"
   ]
  },
  {
   "cell_type": "markdown",
   "metadata": {},
   "source": [
    "La columna que contiene información sobre los lenguajes de programación utilizados es `tools_prog_langs`, la cual no hemos considerado hasta ahora. Lo primero que hay que hacer es eliminar aquellas entradas cuya respuesta sea \"Ninguna de las anteriores\". Luego  separar las listas de lenguajes, para que queden cada uno por su cuenta, asociado al respectivo sueldo neto. En la columna `prog_lang` se encuentra cada lenguaje por separado (las filas con igual índice hacen referencia a la misma persona)."
   ]
  },
  {
   "cell_type": "code",
   "execution_count": null,
   "metadata": {},
   "outputs": [],
   "source": [
    "# Convert the comma-separated string of languages to a list of string.\n",
    "# Remove 'ninguno de los anteriores' option, spaces and training commas.\n",
    "def split_languages(languages_str):\n",
    "    if not isinstance(languages_str, str):\n",
    "    \n",
    "        return []\n",
    "  \n",
    "    # Remove 'other' option\n",
    "    languages_str = languages_str.lower().replace('ninguno de los anteriores', '')\n",
    "    # Split string into list of items\n",
    "    # Remove spaces and commas for each item\n",
    "    return [lang.strip().replace(',', '') for lang in languages_str.split()]\n",
    "\n",
    "# Create a new column with the list of languages\n",
    "df85.loc[:, 'cured_lang'] = df85.lenguajes\\\n",
    "    .apply(split_languages)\n",
    "\n",
    "new_relevant_columns = ['neto', 'lenguajes', 'cured_lang']\n",
    "\n",
    "# Duplicate each row of df for each programming language\n",
    "# mentioned in the response.\n",
    "# We only include in df_lang the columns we are going to analyze later, so we\n",
    "# don't duplicate innecesary information.\n",
    "\n",
    "# Uso la columna que me interesa\n",
    "# Transformo a series. No entiendo por que hay 19 columnas.\n",
    "# Desdoblado línea por línea para que se entienda.\n",
    "df_lang = df85[\"cured_lang\"].apply(pd.Series)\n",
    "df_lang = df_lang.stack()\n",
    "df_lang = df_lang.reset_index(level=-1, drop=True)\n",
    "df_lang = df_lang.to_frame()\n",
    "df_lang = df_lang.join(df85[new_relevant_columns])\n",
    "df_lang = df_lang.rename(columns={0: 'prog_lang'})\n",
    "\n",
    "print(df_lang[:5])\n",
    "print(len(df_lang))"
   ]
  },
  {
   "cell_type": "markdown",
   "metadata": {},
   "source": [
    "Si contamos cuántas veces aparece cada lenguaje y ordenamos de manera creciente, vemos que los 6 lenguajes más usados son sql, javascript, html, python, css y java, llevándose el 62% de la población. Éstos son los lenguajes que consideraremos en nuestro análisis."
   ]
  },
  {
   "cell_type": "code",
   "execution_count": null,
   "metadata": {},
   "outputs": [],
   "source": [
    "language_count = df_lang.prog_lang.value_counts()\\\n",
    "    .reset_index()\\\n",
    "    .rename(columns={'index': 'lenguaje', 'prog_lang': 'frequency'})\n",
    "\n",
    "print(language_count[:10])\n",
    "\n",
    "print(f'Cantidad total de entradas: {len(df_lang)}.')\n",
    "top6 = np.sum(language_count[\"frequency\"][0:6])\n",
    "int_lang = language_count[\"lenguaje\"][0:6].to_list()\n",
    "print(f'Entradas en los 6 más populares: {top6}.')\n",
    "print(f'Porcentaje de los 6 lenguajes más usados: {top6 * 100 / len(df_lang):.0f}%.')\n"
   ]
  },
  {
   "cell_type": "markdown",
   "metadata": {},
   "source": [
    "## Reformulación de la pregunta inicial"
   ]
  },
  {
   "cell_type": "markdown",
   "metadata": {},
   "source": [
    "La pregunta que nos hacemos ahora es la siguiente. Considerando que en Argentina el SMVM en Abril de 2022 es de $\\$ 38.940$ y que los 6 lenguajes de programación más populares son sql, javascript, html, python, css y java, ¿cuales de estos lenguajes de programación están asociados a los mejores salarios de bolsillo, considerando un sueldo mensual neto desde los $\\$ 38.940$ hasta los 2 millones de pesos?\n",
    "\n",
    "A continuación construimos el DataFrame que nos servirá para responder esta pregunta."
   ]
  },
  {
   "cell_type": "code",
   "execution_count": null,
   "metadata": {
    "scrolled": true
   },
   "outputs": [],
   "source": [
    "df_intlang = df_lang[df_lang.prog_lang.isin(int_lang)]\n",
    "\n",
    "print(df_intlang[:6])\n",
    "print(len(df_intlang))"
   ]
  },
  {
   "cell_type": "markdown",
   "metadata": {},
   "source": [
    "## Visualizaciones"
   ]
  },
  {
   "cell_type": "markdown",
   "metadata": {},
   "source": [
    "Para comparar las distribuciones del salario en función del lenguaje, elegimos utilizar visualizaciones. Dada la característica categórica de los datos analizados, consideramos usar histogramas y gráficos de cajas. "
   ]
  },
  {
   "cell_type": "markdown",
   "metadata": {},
   "source": [
    "### Respuesta con histogramas "
   ]
  },
  {
   "cell_type": "markdown",
   "metadata": {},
   "source": [
    "Como las distribuciones están sesgadas positivamente en todos los lenguajes, vemos que los promedios son mayores a las medianas. Sin embargo, podemos apreciar que en todos los lenguajes la diferencia entre estas cantidades es pequeña en comparación al rango de salarios en general. Esto se puede cuantificar mediante la siguiente cantidad:\n",
    "\n",
    "$$\n",
    "    \\text{razones} = \\frac{\\text{media} - \\text{mediana} }{\\text{rango total}} * 100\\%\n",
    "$$\n",
    "\n",
    "En todos los casos, como esperábamos, esta cantidad toma valores  pequeños (entre un 2\\% y 3\\%). Por esto, concluímos que tanto la media como la mediana son buenos indicadores de la tendencia central de estas distribuciones. Teniendo en cuenta esto, al comparar las medias podemos afirmar que, entre los 6 lenguajes de programación más populares, el mejor salario neto se consige con python."
   ]
  },
  {
   "cell_type": "code",
   "execution_count": null,
   "metadata": {
    "scrolled": true
   },
   "outputs": [],
   "source": [
    "fig, axs = plt.subplots(2,3, figsize=(18,10))\n",
    "\n",
    "\n",
    "m = 0\n",
    "nbins=20\n",
    "binrange = [38000, 0.55*10**6]\n",
    "\n",
    "range_salary = -np.amin(df_intlang[\"neto\"]) + np.amax(df_intlang[\"neto\"])\n",
    "ratio = []\n",
    "\n",
    "for i in [0,1]:\n",
    "    for j in [0,1,2]:\n",
    "        data = df_intlang[df_intlang[\"prog_lang\"]==int_lang[m]][\"neto\"]\n",
    "\n",
    "        sns.histplot(data, bins=nbins, binrange=binrange, ax=axs[i, j], color='steelblue')\n",
    "        \n",
    "        median = data.median()\n",
    "        mean = data.mean()\n",
    "        \n",
    "        axs[i, j].vlines(median, 0, 220, color=\"tab:orange\", label = f'Mediana = ${median:.0f}', ls='-.')\n",
    "        axs[i, j].vlines(mean, 0, 220, color=\"black\", label = f'Promedio = ${mean:.0f}', ls='-.')\n",
    "\n",
    "        axs[i, j].annotate(f'{int_lang[m]}', xy = (0.5e5, 200), fontsize=12, ha='left')\n",
    "        axs[i, j].legend(frameon=False, loc='best')\n",
    "\n",
    "        axs[i, j].ticklabel_format(style='sci', axis='x', scilimits=(5,5))\n",
    "        axs[i, j].set_ylim((-1,220))\n",
    "        axs[i, j].set_xlim((38000, 0.55*10**6))\n",
    "        axs[i, j].set_xlabel(\"salario ($)\")\n",
    "        axs[i, j].set_ylabel(\"\")\n",
    "        \n",
    "        ratio.append( round((mean-median)/range_salary * 100, 2) )\n",
    "        \n",
    "        m += 1\n",
    "\n",
    "print(\"razones por lenguaje:\")\n",
    "print()\n",
    "for i in range (len(int_lang)):\n",
    "    print(int_lang[i]+\":\", str(ratio[i])+\"%\")\n",
    "        \n",
    "plt.show()"
   ]
  },
  {
   "cell_type": "markdown",
   "metadata": {},
   "source": [
    "### Respuesta con gráfico de cajas"
   ]
  },
  {
   "cell_type": "markdown",
   "metadata": {},
   "source": [
    "Una forma más compacta de visualizar los datos provistos es a través de gráficos de caja, los cuales muestran explícitamente los cuartiles asociados y dejan a los valores menos representativos en forma de puntos individuales.\n",
    "\n",
    "Al igual que en el caso de histogramas, mostramos el valor medio de los salarios. Con este tipo de visualización ahora es más fácil de visualizar el hecho de que el lenguaje Python es el que mejor salario asociado tiene. También es posible apreciar que, a pesar de que el rango intercuartílico es muy parecido en todos los casos, algunos lenguajes tienen muchos más datos \"outliers\" que otros."
   ]
  },
  {
   "cell_type": "code",
   "execution_count": null,
   "metadata": {},
   "outputs": [],
   "source": [
    "fig, axs = plt.subplots(figsize=(8,6))\n",
    "sns.boxplot(data=df_intlang,\n",
    "            x='neto',\n",
    "            y='prog_lang',\n",
    "            ax=axs,\n",
    "            color = 'steelblue',\n",
    "            medianprops={\"color\": \"tab:orange\", \"ls\": \"-.\"},\n",
    "            showmeans=True,\n",
    "            meanline=True,\n",
    "            meanprops={\"color\": \"black\", \"ls\": \"-.\"})\n",
    "axs.ticklabel_format(style='plain', axis='x')\n",
    "axs.set_xlabel(\"Salario neto ($)\")\n",
    "axs.set_ylabel(\"Lenguaje de programación\")\n",
    "axs.xaxis.grid(True)\n",
    "plt.show()"
   ]
  },
  {
   "cell_type": "markdown",
   "metadata": {
    "id": "-ZSQYANFHHgV"
   },
   "source": [
    "---\n",
    "# Ejercicio 2 - Densidades y varias variables"
   ]
  },
  {
   "cell_type": "markdown",
   "metadata": {},
   "source": [
    "## Selección de filas y columnas"
   ]
  },
  {
   "cell_type": "markdown",
   "metadata": {},
   "source": [
    "En este segundo ejercicio, debemos dar respuesta a **¿Que herramientas (prácticas y teóricas) són útiles para explorar la base, descubrir patrones, asociaciones?** \n",
    "\n",
    "Dado un DataFrame, podemos considerar que cada columna es un conjunto de datos, los cuales se puede modelar con el concepto matemático de **variable aleatoria**. Luego, cada dato de esa columna es una **realización** u **observación** de dicha variable aleatoria. Habrá datos o intervalo de datos más frecuentes y otros más atípicos. Esto último se modela con el concepto de **distribución** o **densidad** de la variable aleatoria. Estas son las herramientas matemáticas que nos brinda la probabilidad y la estadística.\n",
    "\n",
    "En particular, elegimos las variables categóricas work_province y profile_gender junto a las variables numéricas salary_monthly_NETO, profile_years_experience y profile_age. Partimos desde el DataFrame df85 utilizado en el ejercicio anterior, donde ya tenemos una serie de filtros aplicados."
   ]
  },
  {
   "cell_type": "code",
   "execution_count": null,
   "metadata": {},
   "outputs": [],
   "source": [
    "relevant_columns = [\"neto\", \n",
    "                    \"profile_years_experience\", \n",
    "                    \"profile_age\", \n",
    "                    \"work_province\", \n",
    "                    \"profile_gender\",\n",
    "                    \"profile_studies_level\"\n",
    "                   ]\n",
    "\n",
    "df2 = df85[relevant_columns] # Nuevo DataFrame\n",
    "\n",
    "print(f'Cantidad inicial de filas: {len(df85)}.')\n",
    "df2 = df2.dropna(subset=relevant_columns[:-1]) # Evito limpiar con profile_studies_level\n",
    "print(f'Quedan {len(df2)} filas.')"
   ]
  },
  {
   "cell_type": "markdown",
   "metadata": {},
   "source": [
    "## Filtros"
   ]
  },
  {
   "cell_type": "markdown",
   "metadata": {},
   "source": [
    "### Género\n",
    "\n",
    "Dada que la encuesta no tiene respuestas prefijadas, la categoría contiene una gran variedad de respuestas equivalentes, sólo que escritas de distinta manera. En una primera instancia, se unificaron estas categorías para evitar ambigüedades y se graficó un histograma con las nuevas etiquetas.\n",
    "\n",
    "Observamos que hay dos categorías dominantes, que son varon_cis y mujer_cis. Utilizando una escala logarítmica en el histograma, vemos que el resto está dos órdenes de magnitud por abajo. En base a esto, tomamos el criterio de agrupar las categorías minoritarias bajo la etiqueta \"diversidades\" para darle más significancia estadística para futuros análisis."
   ]
  },
  {
   "cell_type": "code",
   "execution_count": null,
   "metadata": {},
   "outputs": [],
   "source": [
    "print(\"Distintas respuestas a la sección 'genero'\")\n",
    "print()\n",
    "print(\"Originalmente:\")\n",
    "print(df2.profile_gender.unique())\n",
    "print(\"Número de etiquetas: \",len(df2.profile_gender.unique()))\n",
    "\n",
    "print(\"------------------------------------------------------\")\n",
    "\n",
    "df2_gen = df2.copy()\n",
    "\n",
    "df2_gen.loc[:,'profile_g'] = df2_gen.profile_gender.replace(\n",
    "    {'Varón Cis': 'varon_cis',\n",
    "     'Varón cis': 'varon_cis',\n",
    "     'Mujer': 'mujer_cis',\n",
    "     'Mujer Cis': 'mujer_cis',\n",
    "     'Mujer cis': 'mujer_cis',\n",
    "     'Femenino': 'mujer_cis',\n",
    "     'mujer': 'mujer_cis',\n",
    "     'Mujer':'mujer_cis',\n",
    "     'Queer':'queer',\n",
    "     'Varón Trans':'varon_trans',\n",
    "     'No binarie':'no_binarie',\n",
    "     'Mujer Trans':'mujer_trans',\n",
    "     'Fluido':'fluido',\n",
    "     'Bigénero':'bigenero',\n",
    "     'Gay':'gay'\n",
    "    })\n",
    "\n",
    "print(\"Unificando etiquetas equivalentes\")\n",
    "print(df2_gen.profile_g.unique())\n",
    "print(\"Número de etiquetas: \",len(df2_gen.profile_g.unique()))\n",
    "print(\"------------------------------------------------------\")\n",
    "\n",
    "print(\"Agrupando diversidades\")\n",
    "\n",
    "df2_gen2 = df2_gen.copy()\n",
    "df2_gen2.loc[:,'profile_g'] = df2_gen2.profile_g.replace(\n",
    "    {\n",
    "     'queer':'diversidades',\n",
    "     'varon_trans':'diversidades',\n",
    "     'no_binarie':'diversidades',\n",
    "     'mujer_trans':'diversidades',\n",
    "     'fluido':'diversidades',\n",
    "     'bigenero':'diversidades',\n",
    "     'gay':'diversidades'\n",
    "    })\n",
    "\n",
    "print(df2_gen2.profile_g.unique())\n",
    "print(\"Número de etiquetas: \",len(df2_gen2.profile_g.unique()))\n",
    "\n",
    "fig, ax = plt.subplots(1,2,figsize=(12,5))\n",
    "sns.countplot(x=df2_gen.profile_g, color='steelblue', ax = ax[0])\n",
    "sns.countplot(x=df2_gen2.profile_g, color='steelblue', ax = ax[1])\n",
    "\n",
    "ax[0].set_xlabel(\"géneros\")\n",
    "ax[1].set_xlabel(\"géneros\")\n",
    "ax[0].set_ylabel(\"\")\n",
    "ax[1].set_ylabel(\"\")\n",
    "ax[0].set_yscale(\"log\")\n",
    "ax[1].set_yscale(\"log\")\n",
    "ax[0].xaxis.set_tick_params(rotation=45)\n",
    "ax[1].xaxis.set_tick_params(rotation=45)\n",
    "plt.show()"
   ]
  },
  {
   "cell_type": "markdown",
   "metadata": {},
   "source": [
    "### Provincias\n",
    "\n",
    "Se analizaron las respuestas provistas a la sección 'work_province'. Observamos que el 88% de les programadorxs están concentrades en cuatro provincias principalmente: Ciudad Autónoma de Buenos Aires, Provincia de Buenos Aires, Córdoba y Santa Fe, las cuales fueron renombradas para mayor conveniencia. Los análisis posteriores estarán basados  sólo en estas cuatro provincias.\n",
    "\n"
   ]
  },
  {
   "cell_type": "code",
   "execution_count": null,
   "metadata": {},
   "outputs": [],
   "source": [
    "df_prov = df2_gen2.copy()\n",
    "\n",
    "prov_count = df_prov.work_province.value_counts()\\\n",
    "    .reset_index()\\\n",
    "    .rename(columns={'index': 'work_province', 'work_province': 'frequency'})\n",
    "\n",
    "print(prov_count[:10])\n",
    "\n",
    "print(f'Cantidad total de entradas: {len(df_prov)}.')\n",
    "tops = np.sum(prov_count[\"frequency\"][0:4])\n",
    "int_prov = prov_count[\"work_province\"][0:4].to_list()\n",
    "print(f'Entradas en las 3 más populares: {tops}.')\n",
    "print(f'Porcentaje de las 3 provincias mayoritarias: {tops * 100 / len(df_prov):.0f}%.')\n",
    "\n",
    "#filtro\n",
    "df_prov2 = df_prov[df_prov.work_province.isin(int_prov)]\n",
    "#renombramos las etiquetas mayoritarias\n",
    "df_prov2.loc[:,'work_prov'] = df_prov2.work_province.replace(\n",
    "    {\n",
    "        'Ciudad Autónoma de Buenos Aires':'caba',\n",
    "        'Córdoba':'cordoba',\n",
    "        'Provincia de Buenos Aires': 'bs_as',\n",
    "        'Santa Fe':'santa_fe',\n",
    "     })"
   ]
  },
  {
   "cell_type": "markdown",
   "metadata": {},
   "source": [
    "### Edades y años de experiencia\n",
    "\n",
    "La edad laboral mínima en Argentina es de 18 años y la edad máxima jubilatoria es de 65 años. Filtramos los datos con estos criterios. \n",
    "\n",
    "Además, observamos en los datos que algunas personas o empezaron a trabajar antes de los 18 años, mintieron o se equivocaron en cargar los años de experiencia. En la tercera entrada por ejemplo, esa persona empezó a trabajar a los 13 años. Decidimos filtrar todos estos casos de la siguiente forma:\n",
    "\n",
    "$$\n",
    "    \\text{edad}-18 \\geq \\text{años de experiencia}\n",
    "$$\n",
    "\n"
   ]
  },
  {
   "cell_type": "code",
   "execution_count": null,
   "metadata": {},
   "outputs": [],
   "source": [
    "df_age = df_prov2.copy()\n",
    "\n",
    "age_min = 18\n",
    "age_max = 65\n",
    "\n",
    "#filtro por edades laborales\n",
    "df_age = df_age[df_age[\"profile_age\"]>=age_min]\n",
    "df_age = df_age[df_age[\"profile_age\"]<=age_max]\n",
    "\n",
    "#algunos datos sospechosos:\n",
    "print(df_age[df_age[\"profile_age\"]-age_min < df_age[\"profile_years_experience\"]]\\\n",
    "      [[\"profile_age\",\"profile_years_experience\"]][0:10])\n",
    "\n",
    "#filtro de datos sospechosos\n",
    "df_age = df_age[df_age[\"profile_age\"]-age_min >= df_age[\"profile_years_experience\"]] # años de exp no superan edad"
   ]
  },
  {
   "cell_type": "markdown",
   "metadata": {},
   "source": [
    "## a) Densidad conjunta"
   ]
  },
  {
   "attachments": {},
   "cell_type": "markdown",
   "metadata": {},
   "source": [
    "**Consigna:**\n",
    "\n",
    "Que herramientas visuales y modelos puede utilizar para estudiar la distribución y comportamiento de sus datos? \n",
    "\n",
    "Elija tres variables numéricas y 2 variables categóricas. Visualice la base según varias de las variables elegidas. Puede describir de alguna forma el comportamiento de sus datos? Que herramientas utilizaría? Describa"
   ]
  },
  {
   "attachments": {},
   "cell_type": "markdown",
   "metadata": {},
   "source": [
    "Las variables que vamos a estudiar son:\n",
    "- **Categóricas:** provincia y género.\n",
    "- **Numéricas:** sueldo neto, edad y experiencia laboral.\n",
    "\n",
    "Armamos un DataFrame que las contenga."
   ]
  },
  {
   "cell_type": "code",
   "execution_count": null,
   "metadata": {},
   "outputs": [],
   "source": [
    "# Me quedo sólo con las 5 columnas que me hacen falta y reemplazo los nombres para facilitar la escritura.\n",
    "\n",
    "df_dc = df_age[['neto', 'profile_years_experience', 'profile_age', 'profile_g', 'work_prov']]\n",
    "\n",
    "df_dc.rename(columns = {'salary_monthly_NETO':'neto', \n",
    "                        'profile_years_experience':'experiencia', \n",
    "                        'profile_age':'edad', \n",
    "                        'profile_g':'genero', \n",
    "                        'work_prov':'provincia'}\n",
    "                        , inplace = True)\n",
    "\n",
    "Omega = len(df_dc)\n",
    "print(f'El universo que vamos a estudiar tiene un tamaño igual a {Omega}.')\n",
    "\n",
    "# Esto es para que las gráficas queden más bonitas\n",
    "hueord_gen = ['varon_cis', 'mujer_cis', 'diversidades']\n",
    "hueord_prov = ['caba', 'bs_as', 'cordoba', 'santa_fe']"
   ]
  },
  {
   "attachments": {},
   "cell_type": "markdown",
   "metadata": {},
   "source": [
    "### Comparación entre las variables categóricas"
   ]
  },
  {
   "attachments": {},
   "cell_type": "markdown",
   "metadata": {},
   "source": [
    "Empezamos comparando las variables categóricas. Armamos entonces tablas de contingencia y las visualizamos con un mapa de calor. Notamos que una amplia mayoría (47% del total) son varones cis que viven en CABA. La gráfica refleja además la extrema preponderancia de varones cis en todas las provincias."
   ]
  },
  {
   "cell_type": "code",
   "execution_count": null,
   "metadata": {},
   "outputs": [],
   "source": [
    "vad_nNorm = pd.crosstab(df_dc.genero, df_dc.provincia) # No está normalizado\n",
    "vad_Norm = pd.crosstab(df_dc.genero, df_dc.provincia, normalize=True) # Normalizado sobre el total\n",
    "\n",
    "fig, axs = plt.subplots(1, 2, figsize=(12, 5))\n",
    "sns.heatmap(vad_nNorm, annot=True, fmt=\".0f\", linewidth=.5, ax=axs[0], cmap='viridis')\n",
    "axs[0].xaxis.tick_top()\n",
    "\n",
    "sns.heatmap(vad_Norm, annot=True, fmt=\".4f\", linewidth=.5, ax=axs[1], cmap='viridis')\n",
    "axs[1].xaxis.tick_top()\n",
    "\n",
    "plt.show()"
   ]
  },
  {
   "attachments": {},
   "cell_type": "markdown",
   "metadata": {},
   "source": [
    "#### Histograma categórico"
   ]
  },
  {
   "cell_type": "code",
   "execution_count": null,
   "metadata": {},
   "outputs": [],
   "source": [
    "fig, axs = plt.subplots(1, 2, figsize=(12, 5))\n",
    "sns.countplot(x= df_dc.provincia, hue=df_dc.genero, ax=axs[0])\n",
    "sns.countplot(x= df_dc.genero, hue=df_dc.provincia, ax=axs[1])\n",
    "\n",
    "axs[0].set_yscale(\"log\")\n",
    "axs[1].set_yscale(\"log\")\n",
    "\n",
    "plt.show()"
   ]
  },
  {
   "attachments": {},
   "cell_type": "markdown",
   "metadata": {},
   "source": [
    "### Comparación entre las variables numéricas"
   ]
  },
  {
   "attachments": {},
   "cell_type": "markdown",
   "metadata": {},
   "source": [
    "Ahora vamos a analizar las variables numéricas. Al hacer la comparación entre todas las posibles combinaciones entre las variables numéricas vemos que:\n",
    "- La relación más evidente es que a mayor edad, mayor experiencia se tiene. Sin embargo, ambas distribuciones tienen un sesgo positivo, siendo éste más marcado para la experiencia que para los años. La mayoría tiene unos 30 años de edad, pero unos 5 años de experiencia. Esto nos estaría indicando que en general las personas entran tarde a este mercado laboral.\n",
    "- Al comparar el sueldo neto con la edad y la experiencia, la relación no es tan evidente debido al mar de puntos. De todas maneras, se nota que hay una mayor concentración en ciertas zonas: \n",
    "    - Hay una gran variedad de sueldos para personas que tienen hasta 20 años de experiencia. Incluso hay personas que con 5 años de experiencia ya están cobrando $ 500.000.\n",
    "    - Hay una barrera más restrictiva en términos de edad, ya que hay gente de hasta unos 50 años que cobran menos de $ 300.000. \n",
    "    - Estas dos últimas observaciones nos estarían indicando el mayor peso que tiene la experiencia frente a la edad a la hora del sueldo."
   ]
  },
  {
   "cell_type": "code",
   "execution_count": null,
   "metadata": {},
   "outputs": [],
   "source": [
    "print('Comparaciones sin categorizar:')\n",
    "sns.pairplot(data=df_dc, diag_kind='kde')\n",
    "\n",
    "plt.show()"
   ]
  },
  {
   "attachments": {},
   "cell_type": "markdown",
   "metadata": {},
   "source": [
    "Si ahora clasificamos los resultados recién vistos según el género, se tiene que:\n",
    "- La edad y la experiencia laboral no afecta entre estas categorías, ya que sus modas están prácticamente superpuestas.\n",
    "- Los varones cis reciben los mayores sueldos, siendo más de 2.5 veces el sueldo máximo de las mujeres cis.\n",
    "- Es más probable tener un sueldo mayor a $ 200.000 siendo varon cis.\n",
    "- Todas las diversidades tienen sueldos menores a $ 100.000."
   ]
  },
  {
   "cell_type": "code",
   "execution_count": null,
   "metadata": {},
   "outputs": [],
   "source": [
    "print('Comparaciones según género:')\n",
    "sns.pairplot(data=df_dc, hue='genero', hue_order=hueord_gen)\n",
    "\n",
    "plt.show()"
   ]
  },
  {
   "attachments": {},
   "cell_type": "markdown",
   "metadata": {},
   "source": [
    "Finalmente, categorizando por provincias podemos decir que:\n",
    "- Es más probable tener alrededor de 30 años en CABA, Bs. As. y CBA, pero alrededor de 35 años en Santa Fe. A pesar de esta diferencia, la mayoría tiene unos 5 años de experiencia, indicando que las personas de Santa Fe han ingresado más tarde a este mercado laboral.\n",
    "- Es más probable cobrar un sueldo mayor a $ 200.000 en CABA que en los demás lugares.\n",
    "- En Santa Fe y CBA se cobran sueldos similares, mientras que en Bs. As. es más probable tener un sueldo entre \\$ 150.000 y \\$ 200.000."
   ]
  },
  {
   "cell_type": "code",
   "execution_count": null,
   "metadata": {},
   "outputs": [],
   "source": [
    "print('Comparaciones según provincia:')\n",
    "sns.pairplot(data=df_dc, hue='provincia', hue_order=hueord_prov)\n",
    "\n",
    "plt.show()"
   ]
  },
  {
   "cell_type": "markdown",
   "metadata": {},
   "source": [
    "## b) Asociación\n",
    "\n",
    "\n",
    "En base a lo realizado en el ejercicio 1 (ver secciones 'Análisis preliminar' y 'Filtrado/limpieza'), notamos que la gran mayoría de los datos tienen una correlación positiva en el sentido que cuando una variable crece, la otra también lo hace. Aquellos datos que rompen esta tendencia fueron descartados en base a los criterios ya discutidos previamente. En resumen, decidimos trabajar solamente con el salario neto. \n",
    "\n",
    "Para mejorar futuras encuestas, agregaríamos dichos criterios, o bien pedir sólamente el salario neto, ya que creemos que a la gente le importa más saber cuánto dinero le queda 'en el bolsillo'."
   ]
  },
  {
   "cell_type": "markdown",
   "metadata": {},
   "source": [
    "## c) Densidad condicional \n",
    "\n",
    "Estudie la distribución del salario según el nivel de estudio.\n",
    "\n",
    "Separe la población según el nivel de estudio (elija dos subpoblaciones numerosas) y grafique de manera comparativa ambos histogramas de la variable `'salary_monthly_NETO'`\n",
    "¿Considera que ambas variables son independientes?\n",
    "¿Qué analizaría al respecto?\n",
    "\n",
    "Calcule medidas de centralización y dispersión para cada subpoblación\n",
    "\n"
   ]
  },
  {
   "cell_type": "code",
   "execution_count": null,
   "metadata": {},
   "outputs": [],
   "source": [
    "from matplotlib import gridspec\n",
    "\n",
    "df_estudio = df85.copy()\n",
    "df_estudio.dropna(inplace=True)\n",
    "\n",
    "niveles = df_estudio[\"profile_studies_level\"].unique()\n",
    "gs = gridspec.GridSpec(2, 8)\n",
    "\n",
    "y_max = [130,25,50,30,25,5,2]\n",
    "\n",
    "\n",
    "#grafico de los histogramas por nivel de educación\n",
    "fig = plt.figure(figsize=(20,8))\n",
    "ii=0\n",
    "for nivel in niveles:\n",
    "    data = df_estudio[df_estudio[\"profile_studies_level\"]==nivel][\"neto\"]\n",
    "    print(len(data))\n",
    "    if ii<4:\n",
    "        ax = plt.subplot(gs[0, 2 * ii:2 * ii + 2])\n",
    "    else:\n",
    "        ax = plt.subplot(gs[1, 2 * ii - 7:2 * ii + 2 - 7])\n",
    "    plot = sns.histplot(df_estudio[df_estudio[\"profile_studies_level\"]==nivel][\"neto\"], ax=ax, color = 'steelblue')\n",
    "    \n",
    "    median = data.median()\n",
    "    mean = data.mean()\n",
    "    \n",
    "    ax.set_title(nivel)\n",
    "    ax.set_xlabel(\"salario ($)\")\n",
    "    ax.set_ylabel(\"\")\n",
    "    ax.ticklabel_format(style='sci', axis='x', scilimits=(5,5))\n",
    "    \n",
    "    ax.vlines(median, 0, y_max[ii], color=\"tab:orange\", label = f'Mediana = ${median:.0f}', ls='-.')\n",
    "    ax.vlines(mean, 0, y_max[ii], color=\"black\", label = f'Promedio = ${mean:.0f}', ls='-.')\n",
    "    ax.annotate(f'{niveles[ii]}', xy = (0.5e5, 200), fontsize=12, ha='left')\n",
    "    ax.legend(frameon=False, loc='best')\n",
    "#     ax.annotate(f'{nivel[ii]}', xy = (1e5, 5), fontsize=12, ha='left')\n",
    "    ax.legend(frameon=False, loc='best')\n",
    "    \n",
    "    ii+=1\n",
    "    \n",
    "fig.tight_layout()\n",
    "plt.show()"
   ]
  },
  {
   "cell_type": "code",
   "execution_count": null,
   "metadata": {},
   "outputs": [],
   "source": [
    "df_uni=df_estudio[df_estudio[\"profile_studies_level\"]=='Universitario']\n",
    "df_ter=df_estudio[df_estudio[\"profile_studies_level\"]=='Terciario']\n",
    "\n",
    "print('N uni= ',len(df_uni), ', N ter= ' , len(df_ter))\n",
    "\n",
    "avg_uni = df_uni[\"neto\"].mean()\n",
    "med_uni = df_uni[\"neto\"].median()\n",
    "std_uni = df_uni[\"neto\"].std()\n",
    "\n",
    "avg_ter = df_ter[\"neto\"].mean()\n",
    "med_ter = df_ter[\"neto\"].median()\n",
    "std_ter = df_ter[\"neto\"].std()\n",
    "\n",
    "#print(std_uni,std_ter)\n",
    "\n",
    "fig,ax = plt.subplots(figsize=(6,4))\n",
    "sns.histplot(df_uni[\"neto\"],ax=ax, color = 'lightsteelblue', bins=15)\n",
    "sns.histplot(df_ter[\"neto\"],ax=ax, color = 'yellowgreen', bins=15)\n",
    "ax.set_ylabel('')\n",
    "#ax.set_yscale('log')\n",
    "ax.ticklabel_format(style='sci', axis='x', scilimits=(5,5))\n",
    "\n",
    "ax.vlines(avg_uni, 0, 190, color=\"tab:blue\", label = f'avg uni = ${avg_uni:.0f}', ls='-')\n",
    "ax.vlines(med_uni, 0, 190, color=\"tab:blue\", label = f'med uni = ${med_uni:.0f}', ls='--')\n",
    "ax.vlines(avg_ter, 0, 190, color=\"tab:green\", label = f'avg ter = ${avg_ter:.0f}', ls='-')\n",
    "ax.vlines(med_ter, 0, 190, color=\"tab:green\", label = f'med ter = ${med_ter:.0f}', ls='--')\n",
    "\n",
    "ax.legend()\n",
    "plt.show()"
   ]
  },
  {
   "cell_type": "markdown",
   "metadata": {},
   "source": [
    "## d) Densidad Conjunta condicional\n",
    "\n",
    "Elija dos variables numéricas y una categórica. \n",
    "Estudie la dispersión (scatterplot) de las dos variables discriminando en color por la variable categórica (ayuda: hue en seaborn)"
   ]
  }
 ],
 "metadata": {
  "colab": {
   "provenance": [
    {
     "file_id": "1NXWXyebR6mzAabyOPqghXpZQdyy05cRV",
     "timestamp": 1680785357097
    },
    {
     "file_id": "1OZLULlr-RkXwyhar7ED5fcXmPdgc6tGb",
     "timestamp": 1617224538047
    },
    {
     "file_id": "1xPL68eVaR0UF7XTcLU1rCMfpzuS7r6s0",
     "timestamp": 1617223947184
    },
    {
     "file_id": "1bChseZSrdGJSXfa-D2_lS0dx98wplQtD",
     "timestamp": 1614968149245
    }
   ]
  },
  "kernelspec": {
   "display_name": "Python 3 (ipykernel)",
   "language": "python",
   "name": "python3"
  },
  "language_info": {
   "codemirror_mode": {
    "name": "ipython",
    "version": 3
   },
   "file_extension": ".py",
   "mimetype": "text/x-python",
   "name": "python",
   "nbconvert_exporter": "python",
   "pygments_lexer": "ipython3",
   "version": "3.9.12"
  }
 },
 "nbformat": 4,
 "nbformat_minor": 1
}
