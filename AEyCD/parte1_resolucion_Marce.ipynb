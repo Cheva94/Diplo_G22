{
  "cells": [
    {
      "attachments": {},
      "cell_type": "markdown",
      "id": "e0ff301b-5595-4a0b-a2b8-3d5609a0485d",
      "metadata": {
        "id": "e0ff301b-5595-4a0b-a2b8-3d5609a0485d"
      },
      "source": [
        "**Diplomatura en Ciencia de Datos, Aprendizaje Automático y sus Aplicaciones**\n",
        "\n",
        "**Exploración y Curación de Datos**\n",
        "\n",
        "*Edición 2023*\n",
        "\n",
        "### Trabajo práctico entregable - Grupo 22 - Parte 1\n",
        "\n",
        "**Integrantes:**\n",
        "- Chevallier-Boutell, Ignacio José\n",
        "- Ribetto, Federico Daniel\n",
        "- Rosa, Santiago\n",
        "- Spano, Marcelo\n",
        "\n",
        "**Seguimiento:** Meinardi, Vanesa\n",
        "\n",
        "\n",
        "# Trabajo práctico entregable - parte 1\n",
        "\n",
        "En esta notebook, vamos a cargar el conjunto de datos de [la compentencia Kaggle](https://www.kaggle.com/dansbecker/melbourne-housing-snapshot) sobre estimación de precios de ventas de propiedades en Melbourne, Australia.\n",
        "\n",
        "Utilizaremos el conjunto de datos reducido producido por [DanB](https://www.kaggle.com/dansbecker). Hemos subido una copia a un servidor de la Universidad Nacional de Córdoba para facilitar su acceso remoto."
      ]
    },
    {
      "cell_type": "code",
      "execution_count": null,
      "id": "f5ac98f7-51f3-4f91-ac49-60ef5fe249be",
      "metadata": {
        "id": "f5ac98f7-51f3-4f91-ac49-60ef5fe249be"
      },
      "outputs": [],
      "source": [
        "import matplotlib.pyplot as plt\n",
        "import numpy as np\n",
        "import pandas as pd\n",
        "pd.set_option('display.max_columns', None)\n",
        "pd.set_option('display.max_rows', None)\n",
        "\n",
        "import seaborn as sns\n",
        "sns.set_context('talk')\n",
        "\n",
        "from sqlalchemy import create_engine, text"
      ]
    },
    {
      "cell_type": "code",
      "execution_count": null,
      "id": "ce478cbd-0f49-4f15-8dc5-1fe1a5b39f17",
      "metadata": {
        "colab": {
          "base_uri": "https://localhost:8080/",
          "height": 35
        },
        "id": "ce478cbd-0f49-4f15-8dc5-1fe1a5b39f17",
        "outputId": "1a8c715a-b98a-4b83-f0bc-bd94fed3e567"
      },
      "outputs": [],
      "source": [
        "import plotly\n",
        "plotly.__version__\n"
      ]
    },
    {
      "attachments": {},
      "cell_type": "markdown",
      "id": "6cffe5bf-2498-498c-aa06-3e61422d91e6",
      "metadata": {
        "id": "6cffe5bf-2498-498c-aa06-3e61422d91e6"
      },
      "source": [
        "## Ejercicio 1 SQL: \n",
        "\n",
        "1. Crear una base de datos en SQLite utilizando la libreria [SQLalchemy](https://stackoverflow.com/questions/2268050/execute-sql-from-file-in-sqlalchemy).\n",
        "https://docs.sqlalchemy.org/en/14/core/engines.html#sqlite\n",
        "\n",
        "2. Ingestar los datos provistos en 'https://cs.famaf.unc.edu.ar/~mteruel/datasets/diplodatos/melb_data.csv' en una tabla y el dataset generado en clase con datos de airbnb y sus precios por codigo postal en otra.\n",
        "\n",
        "3. Implementar consultas en SQL que respondan con la siguiente información:\n",
        "\n",
        "    - cantidad de registros totales por ciudad.\n",
        "    - cantidad de registros totales por barrio y ciudad.\n",
        "\n",
        "4. Combinar los datasets de ambas tablas ingestadas utilizando el comando JOIN de SQL  para obtener un resultado similar a lo realizado con Pandas en clase.  \n",
        "\n"
      ]
    },
    {
      "attachments": {},
      "cell_type": "markdown",
      "id": "bs0-NOfTWPCq",
      "metadata": {
        "id": "bs0-NOfTWPCq"
      },
      "source": [
        "### Actividad 1\n",
        "#### Conexión"
      ]
    },
    {
      "attachments": {},
      "cell_type": "markdown",
      "id": "gEui8LliW3gz",
      "metadata": {
        "id": "gEui8LliW3gz"
      },
      "source": [
        "Se crea una conexión a una base de datos SQLite"
      ]
    },
    {
      "cell_type": "code",
      "execution_count": null,
      "id": "gVIU2dQpVHIJ",
      "metadata": {
        "id": "gVIU2dQpVHIJ"
      },
      "outputs": [],
      "source": [
        "engine = create_engine('sqlite:///database.sqlite3', echo=True)"
      ]
    },
    {
      "attachments": {},
      "cell_type": "markdown",
      "id": "BOfh8B3OWUox",
      "metadata": {
        "id": "BOfh8B3OWUox"
      },
      "source": [
        "### Actividad 2\n",
        "#### Ingesta de datos de melb_data"
      ]
    },
    {
      "attachments": {},
      "cell_type": "markdown",
      "id": "dvhmoAw3WyGz",
      "metadata": {
        "id": "dvhmoAw3WyGz"
      },
      "source": [
        "Se leen los datos de melb_data utilizando pandas:"
      ]
    },
    {
      "cell_type": "code",
      "execution_count": null,
      "id": "5ba8bfd5-199a-4390-a5b4-11ec9669b3e1",
      "metadata": {
        "colab": {
          "base_uri": "https://localhost:8080/",
          "height": 277
        },
        "id": "5ba8bfd5-199a-4390-a5b4-11ec9669b3e1",
        "outputId": "058098bc-04b8-4e47-edec-394ceb3cdc3d"
      },
      "outputs": [],
      "source": [
        "melb_df = pd.read_csv(\n",
        "    'https://cs.famaf.unc.edu.ar/~mteruel/datasets/diplodatos/melb_data.csv')\n",
        "melb_df[:3]"
      ]
    },
    {
      "attachments": {},
      "cell_type": "markdown",
      "id": "yI3Kr3vZX8pu",
      "metadata": {
        "id": "yI3Kr3vZX8pu"
      },
      "source": [
        "Se guardan los datos de melb_data en la tabla \"prop_melb\" en la base de datos creada previamente."
      ]
    },
    {
      "cell_type": "code",
      "execution_count": null,
      "id": "XWCIaD2kWKHD",
      "metadata": {
        "colab": {
          "base_uri": "https://localhost:8080/"
        },
        "id": "XWCIaD2kWKHD",
        "outputId": "44cd6972-0b84-4a8b-b255-8c1e0dde218a"
      },
      "outputs": [],
      "source": [
        "melb_df.to_sql('prop_melb', con=engine, if_exists=\"replace\")"
      ]
    },
    {
      "attachments": {},
      "cell_type": "markdown",
      "id": "e_JbLgxWWoTZ",
      "metadata": {
        "id": "e_JbLgxWWoTZ"
      },
      "source": [
        "#### Ingesta de datos de airbnb"
      ]
    },
    {
      "attachments": {},
      "cell_type": "markdown",
      "id": "sg89ZXBUYPrs",
      "metadata": {
        "id": "sg89ZXBUYPrs"
      },
      "source": [
        "Se leen los datos crudos de airbnb"
      ]
    },
    {
      "cell_type": "code",
      "execution_count": null,
      "id": "G6rO4bRcWl19",
      "metadata": {
        "colab": {
          "base_uri": "https://localhost:8080/"
        },
        "id": "G6rO4bRcWl19",
        "outputId": "a54cbfca-9e52-4300-cb8c-34e298dd80f0"
      },
      "outputs": [],
      "source": [
        "# data source:\n",
        "# https://www.kaggle.com/tylerx/melbourne-airbnb-open-data?select=cleansed_listings_dec18.csv\n",
        "interesting_cols = [\n",
        "  'description', 'neighborhood_overview',\n",
        "  'street', 'neighborhood', 'city', 'suburb', 'state', 'zipcode',\n",
        "  'price', 'weekly_price', 'monthly_price',\n",
        "  'latitude', 'longitude',\n",
        "]\n",
        "airbnb_df = pd.read_csv(\n",
        "    'https://cs.famaf.unc.edu.ar/~mteruel/datasets/diplodatos/cleansed_listings_dec18.csv',\n",
        "    usecols=interesting_cols)"
      ]
    },
    {
      "attachments": {},
      "cell_type": "markdown",
      "id": "FlShsrxpWelr",
      "metadata": {
        "id": "FlShsrxpWelr"
      },
      "source": [
        "Queremos agregar información al dataset de melb_data utilizando el código postal como clave para joinear. Por eso debemos asegurarnos que se encuentre limpia."
      ]
    },
    {
      "cell_type": "code",
      "execution_count": null,
      "id": "B6sLy8HBYpkI",
      "metadata": {
        "colab": {
          "base_uri": "https://localhost:8080/"
        },
        "id": "B6sLy8HBYpkI",
        "outputId": "583e335c-7142-46c8-8581-6cdb0d11a602"
      },
      "outputs": [],
      "source": [
        "# Vemos que la variable zipcode tiene diferentes tipos de datos:\n",
        "airbnb_df['zipcode'].value_counts().head(5)"
      ]
    },
    {
      "cell_type": "code",
      "execution_count": null,
      "id": "VtPq-m9BYSeI",
      "metadata": {
        "id": "VtPq-m9BYSeI"
      },
      "outputs": [],
      "source": [
        "# Se estandariza el tipo de datos para la columna zipcode\n",
        "airbnb_df['zipcode'] = pd.to_numeric(airbnb_df.zipcode, errors='coerce')"
      ]
    },
    {
      "cell_type": "code",
      "execution_count": null,
      "id": "9fij-XnYY1EB",
      "metadata": {
        "colab": {
          "base_uri": "https://localhost:8080/"
        },
        "id": "9fij-XnYY1EB",
        "outputId": "6c1daed5-ff4f-4e93-efca-4d0ae4057b74"
      },
      "outputs": [],
      "source": [
        "airbnb_df.zipcode.value_counts().head(5)"
      ]
    },
    {
      "attachments": {},
      "cell_type": "markdown",
      "id": "puFeR7YVU6W6",
      "metadata": {
        "id": "puFeR7YVU6W6"
      },
      "source": [
        "Se guardan los datos de airbnb en la tabla \"airbnb\" en la base de datos creada previamente."
      ]
    },
    {
      "cell_type": "code",
      "execution_count": null,
      "id": "3f6Vb5IYU178",
      "metadata": {
        "colab": {
          "base_uri": "https://localhost:8080/"
        },
        "id": "3f6Vb5IYU178",
        "outputId": "72975d29-126e-47e2-88d7-caeffffd9cd7"
      },
      "outputs": [],
      "source": [
        "airbnb_df.to_sql('airbnb', con=engine, if_exists=\"replace\")"
      ]
    },
    {
      "attachments": {},
      "cell_type": "markdown",
      "id": "M20dPLbCq7C8",
      "metadata": {
        "id": "M20dPLbCq7C8"
      },
      "source": [
        "### Actividad 3\n",
        "Implementar consultas en SQL que respondan con la siguiente información:\n",
        "\n",
        "- cantidad de registros totales por ciudad.\n",
        "- cantidad de registros totales por barrio y ciudad."
      ]
    },
    {
      "attachments": {},
      "cell_type": "markdown",
      "id": "ml-Fb8bfsGGy",
      "metadata": {
        "id": "ml-Fb8bfsGGy"
      },
      "source": [
        "Se define una función para ejecutar queries con la conexión creada previamente:"
      ]
    },
    {
      "cell_type": "code",
      "execution_count": null,
      "id": "-_t8FAjPbFV0",
      "metadata": {
        "id": "-_t8FAjPbFV0"
      },
      "outputs": [],
      "source": [
        "def execute_query(query):\n",
        "  with engine.connect() as con:\n",
        "    rs = con.execute(text(query))\n",
        "    df_rs = pd.DataFrame(rs.fetchall())\n",
        "  return df_rs"
      ]
    },
    {
      "attachments": {},
      "cell_type": "markdown",
      "id": "14ap9VyeXOth",
      "metadata": {
        "id": "14ap9VyeXOth"
      },
      "source": [
        "Vemos la cantidad de registros totales por ciudad agrupando por la columna CITY:"
      ]
    },
    {
      "cell_type": "code",
      "execution_count": null,
      "id": "SAWxAHd-VxEL",
      "metadata": {
        "colab": {
          "base_uri": "https://localhost:8080/",
          "height": 571
        },
        "id": "SAWxAHd-VxEL",
        "outputId": "744785ca-d85f-4149-cb48-eeb07860fad4"
      },
      "outputs": [],
      "source": [
        "query_city = \"\"\"SELECT CITY AS CIUDAD, COUNT(*) AS CANT_REGISTROS \n",
        "                FROM AIRBNB\n",
        "                GROUP BY CITY\"\"\"\n",
        "df_city = execute_query(query_city)\n",
        "df_city.head(10)"
      ]
    },
    {
      "attachments": {},
      "cell_type": "markdown",
      "id": "3UvfDV0iXlwc",
      "metadata": {
        "id": "3UvfDV0iXlwc"
      },
      "source": [
        "Vemos la cantidad de registros totales por barrio y ciudad agrupando por las columnas NEIGHBORHOOD y CITY:"
      ]
    },
    {
      "cell_type": "code",
      "execution_count": null,
      "id": "ep3ol9h3V85w",
      "metadata": {
        "colab": {
          "base_uri": "https://localhost:8080/",
          "height": 571
        },
        "id": "ep3ol9h3V85w",
        "outputId": "2197a491-7ad2-4058-b77e-c4dacd04eedd"
      },
      "outputs": [],
      "source": [
        "query_neighborhood_city = \"\"\"SELECT NEIGHBORHOOD AS BARRIO, CITY AS CIUDAD, COUNT(*) AS CANT_REGISTROS \n",
        "                              FROM AIRBNB\n",
        "                              GROUP BY NEIGHBORHOOD, CITY\"\"\"\n",
        "df_neighborhood_city = execute_query(query_neighborhood_city)\n",
        "df_neighborhood_city.tail(10)"
      ]
    },
    {
      "attachments": {},
      "cell_type": "markdown",
      "id": "XeQ1_5UXX_11",
      "metadata": {
        "id": "XeQ1_5UXX_11"
      },
      "source": [
        "### Actividad 4\n",
        "Combinar los datasets de ambas tablas ingestadas utilizando el comando JOIN de SQL  para obtener un resultado similar a lo realizado con Pandas en clase."
      ]
    },
    {
      "cell_type": "code",
      "execution_count": null,
      "id": "Fa2ynaSgmtbk",
      "metadata": {
        "colab": {
          "base_uri": "https://localhost:8080/"
        },
        "id": "Fa2ynaSgmtbk",
        "outputId": "8ef2cd2e-2b79-4d85-9f60-2255fffa7af7"
      },
      "outputs": [],
      "source": [
        "# Se realiza una subquery en la que se define AIRBNB_AGG con las agregaciones generadas en clase con Pandas.\n",
        "# AIRBNB_AGG es joineada con la tabla original PROP_MELB\n",
        "query_join = \"\"\"WITH AIRBNB_AGG AS (\n",
        "                  SELECT ZIPCODE, \n",
        "                    AVG(PRICE) AS AIRBNB_PRICE_MEAN,\n",
        "                    COUNT(PRICE) AS AIRBNB_RECORD_COUNT,\n",
        "                    AVG(WEEKLY_PRICE) AS AIRBNB_WEEKLY_PRICE_MEAN,\n",
        "                    AVG(MONTHLY_PRICE) AS AIRBNB_MONTHLY_PRICE_MEAN\n",
        "                  FROM AIRBNB\n",
        "                  GROUP BY ZIPCODE\n",
        "                )\n",
        "                SELECT * FROM PROP_MELB A\n",
        "                LEFT JOIN AIRBNB_AGG B \n",
        "                ON A.Postcode = B.zipcode\"\"\"\n",
        "df_join = execute_query(query_join)"
      ]
    },
    {
      "cell_type": "code",
      "execution_count": null,
      "id": "3CIyrZ_DwqVF",
      "metadata": {
        "colab": {
          "base_uri": "https://localhost:8080/",
          "height": 687
        },
        "id": "3CIyrZ_DwqVF",
        "outputId": "ec73f302-6eba-4ce3-ef21-70af114080c0"
      },
      "outputs": [],
      "source": [
        "df_join.sample(10)"
      ]
    },
    {
      "attachments": {},
      "cell_type": "markdown",
      "id": "c5468c4f-5cdf-4df4-a317-60e1fb0c00db",
      "metadata": {
        "id": "c5468c4f-5cdf-4df4-a317-60e1fb0c00db"
      },
      "source": [
        "## Ejercicio 2 - Pandas: \n",
        "\n",
        "1. Seleccionar un subconjunto de columnas que les parezcan relevantes al problema de predicción del valor de la propiedad. Justificar las columnas seleccionadas y las que no lo fueron.\n",
        " - Eliminar los valores extremos que no sean relevantes para la predicción de valores de las propiedades.\n",
        "\n",
        " \n",
        "2. Agregar información adicional respectiva al entorno de una propiedad a partir del [conjunto de datos de AirBnB](https://www.kaggle.com/tylerx/melbourne-airbnb-open-data?select=cleansed_listings_dec18.csv) utilizado en el práctico. \n",
        "  1. Seleccionar qué variables agregar y qué combinaciones aplicar a cada una. Por ejemplo, pueden utilizar solo la columna `price`, o aplicar múltiples transformaciones como la mediana o el mínimo.\n",
        "  1. Utilizar la variable zipcode para unir los conjuntos de datos. Sólo incluir los zipcodes que tengan una cantidad mínima de registros (a elección) como para que la información agregada sea relevante.\n",
        "  2. Investigar al menos otras 2 variables que puedan servir para combinar los datos, y justificar si serían adecuadas o no. Pueden asumir que cuentan con la ayuda de anotadores expertos para encontrar equivalencias entre barrios o direcciones, o que cuentan con algoritmos para encontrar las n ubicaciones más cercanas a una propiedad a partir de sus coordenadas geográficas. **NO** es necesario que realicen la implementación.\n",
        "\n",
        "Pueden leer otras columnas del conjunto de AirBnB además de las que están en `interesting_cols`, si les parecen relevantes."
      ]
    },
    {
      "attachments": {},
      "cell_type": "markdown",
      "id": "87dfW-vmxvfJ",
      "metadata": {
        "id": "87dfW-vmxvfJ"
      },
      "source": [
        "### Actividad 1"
      ]
    },
    {
      "attachments": {},
      "cell_type": "markdown",
      "id": "DRabcD-IjMXw",
      "metadata": {
        "id": "DRabcD-IjMXw"
      },
      "source": [
        "Leemos el dataset nuevamente con Pandas"
      ]
    },
    {
      "cell_type": "code",
      "execution_count": null,
      "id": "2dceppBMjFW9",
      "metadata": {
        "colab": {
          "base_uri": "https://localhost:8080/",
          "height": 277
        },
        "id": "2dceppBMjFW9",
        "outputId": "8c3e9d06-7f60-45e6-8450-eba3685a9610"
      },
      "outputs": [],
      "source": [
        "df = pd.read_csv(\n",
        "    'https://cs.famaf.unc.edu.ar/~mteruel/datasets/diplodatos/melb_data.csv')\n",
        "df[:3]"
      ]
    },
    {
      "attachments": {},
      "cell_type": "markdown",
      "id": "gX7iqbqZxc0y",
      "metadata": {
        "id": "gX7iqbqZxc0y"
      },
      "source": [
        "Separamos las columnas categóricas de las numéricas"
      ]
    },
    {
      "cell_type": "code",
      "execution_count": null,
      "id": "eI0IMosExUGT",
      "metadata": {
        "id": "eI0IMosExUGT"
      },
      "outputs": [],
      "source": [
        "cols = df.columns\n",
        "num_cols = ['Rooms', 'Price', 'Distance', 'Bedroom2', 'Bathroom',\n",
        "       'Car', 'Landsize', 'BuildingArea', 'YearBuilt',\n",
        "       'Lattitude', 'Longtitude', 'Propertycount']\n",
        "cat_cols = [x for x in cols if x not in num_cols and x != 'index']"
      ]
    },
    {
      "attachments": {},
      "cell_type": "markdown",
      "id": "EAMSZ1jkxpyK",
      "metadata": {
        "id": "EAMSZ1jkxpyK"
      },
      "source": [
        "#### Análisis de variables numéricas"
      ]
    },
    {
      "attachments": {},
      "cell_type": "markdown",
      "id": "nhn4SO8eyD36",
      "metadata": {
        "id": "nhn4SO8eyD36"
      },
      "source": [
        "Vemos la correlación de las variables numéricas con el precio"
      ]
    },
    {
      "cell_type": "code",
      "execution_count": null,
      "id": "eQznEJEnxiYx",
      "metadata": {
        "colab": {
          "base_uri": "https://localhost:8080/"
        },
        "id": "eQznEJEnxiYx",
        "outputId": "e35a2357-e390-4218-915e-bac791757662"
      },
      "outputs": [],
      "source": [
        "df[num_cols].corr()['Price']"
      ]
    },
    {
      "attachments": {},
      "cell_type": "markdown",
      "id": "xuUGB68G2aFR",
      "metadata": {
        "id": "xuUGB68G2aFR"
      },
      "source": [
        "Se realiza un scatterplot del Precio en función de todas las variables numéricas"
      ]
    },
    {
      "cell_type": "code",
      "execution_count": null,
      "id": "VzUpkCFk1DAT",
      "metadata": {
        "colab": {
          "base_uri": "https://localhost:8080/",
          "height": 1000
        },
        "id": "VzUpkCFk1DAT",
        "outputId": "011be27f-544f-4eae-e7e9-4d416b53516b"
      },
      "outputs": [],
      "source": [
        "for col in num_cols:\n",
        "  plt.figure(figsize=(8,3))\n",
        "  plt.scatter(df[col], df['Price'])\n",
        "  plt.axvline(df[col].mode()[0], color='r')\n",
        "  plt.grid()\n",
        "  plt.title(col)\n",
        "  plt.show()"
      ]
    },
    {
      "attachments": {},
      "cell_type": "markdown",
      "id": "_qU6j91R2eGd",
      "metadata": {
        "id": "_qU6j91R2eGd"
      },
      "source": [
        "Outliers:\n",
        "- En la variable Bedroom2 vemos que tiene un valor extremo = 20.\n",
        "- En la variable Landsize vemos que tiene un valor extremo > 400000\n",
        "- En la variable BuildingArea vemos que tiene un valor extremo > 40000\n",
        "- En la variable YearBuilt vemos que tiene un valor extremo en 1200\n",
        "\n",
        "Quitamos estos valores extremos"
      ]
    },
    {
      "cell_type": "code",
      "execution_count": null,
      "id": "vlmZIEn-2XDc",
      "metadata": {
        "id": "vlmZIEn-2XDc"
      },
      "outputs": [],
      "source": [
        "df = df[df['Bedroom2'] < 20]\n",
        "df = df[df['Landsize'] < 400000]\n",
        "df = df[df['BuildingArea'] < 40000]\n",
        "df = df[df['YearBuilt'] > 1200]"
      ]
    },
    {
      "attachments": {},
      "cell_type": "markdown",
      "id": "6ASmwoYm3dMU",
      "metadata": {
        "id": "6ASmwoYm3dMU"
      },
      "source": [
        "Veamos nuevamente la correlación"
      ]
    },
    {
      "cell_type": "code",
      "execution_count": null,
      "id": "CTaAX-eK3cEV",
      "metadata": {
        "colab": {
          "base_uri": "https://localhost:8080/"
        },
        "id": "CTaAX-eK3cEV",
        "outputId": "5ca4bdc2-bbdb-4a80-aac9-291352117dc4"
      },
      "outputs": [],
      "source": [
        "corr = df_join[num_cols].corr()['Price']\n",
        "corr"
      ]
    },
    {
      "attachments": {},
      "cell_type": "markdown",
      "id": "Q9oYE9Pbj_hD",
      "metadata": {
        "id": "Q9oYE9Pbj_hD"
      },
      "source": [
        "Realizamos boxplots para las variables discretas"
      ]
    },
    {
      "cell_type": "code",
      "execution_count": null,
      "id": "CdT7b4OVkbyu",
      "metadata": {
        "colab": {
          "base_uri": "https://localhost:8080/",
          "height": 1000
        },
        "id": "CdT7b4OVkbyu",
        "outputId": "f085de04-6645-48ad-ec4d-f45d8c436104"
      },
      "outputs": [],
      "source": [
        "discrete_cols = ['Rooms', 'Bedroom2', 'Bathroom', 'Car']\n",
        "for col in discrete_cols:\n",
        "  df_var = df[[col, 'Price']]\n",
        "  df_var['count'] = df_var[col].astype(str)\n",
        "  plt.figure(figsize=(8,3))\n",
        "  sns.boxplot(data=df_var, x='Price', y='count')\n",
        "  plt.title(col)\n",
        "  plt.show()"
      ]
    },
    {
      "attachments": {},
      "cell_type": "markdown",
      "id": "wrOUO8l-oKYP",
      "metadata": {
        "id": "wrOUO8l-oKYP"
      },
      "source": [
        "Separamos a las variables continuas en 6 cuantiles y realizamos los boxplots del Precio.\n",
        "\n",
        "Se eligen 6 ya que para más cuantiles el código da el siguiente error:\n",
        "\n",
        "\"ValueError: Bin labels must be one fewer than the number of bin edges\""
      ]
    },
    {
      "cell_type": "code",
      "execution_count": null,
      "id": "4fe4bhDWj9Ua",
      "metadata": {
        "colab": {
          "base_uri": "https://localhost:8080/",
          "height": 1000
        },
        "id": "4fe4bhDWj9Ua",
        "outputId": "f9699860-9cab-4e68-e704-1b04c0035cec"
      },
      "outputs": [],
      "source": [
        "continuous_cols = [x for x in num_cols if x not in discrete_cols and x!='Price']\n",
        "for col in continuous_cols:\n",
        "  df_var = df[[col, 'Price']]\n",
        "  df_var['quantile'] = pd.qcut(df_var[col], 6, labels=['1','2','3','4','5','6'])\n",
        "  plt.figure(figsize=(8,3))\n",
        "  sns.boxplot(data=df_var, x='Price', y='quantile')\n",
        "  plt.title(col)\n",
        "  plt.show()"
      ]
    },
    {
      "attachments": {},
      "cell_type": "markdown",
      "id": "vPheyLdOo5wZ",
      "metadata": {
        "id": "vPheyLdOo5wZ"
      },
      "source": [
        "Viendo la correlación y los gráficos anteriores tomamos deciciones respecto a cada columna:\n",
        "\n",
        "\n",
        "*   Rooms: La correlación con el Precio es de 0.52 por lo que consideramos que es importante para la predicción del valor de la propiedad.\n",
        "*   Bedroom2: La correlación con el Precio es de 0.5 por lo que consideramos que es importante para la predicción del valor de la propiedad.\n",
        "*   Bathroom: La correlación con el Precio es de 0.49 por lo que consideramos que es importante para la predicción del valor de la propiedad.\n",
        "*   Car: La correlación Con el Precio es de 0.25. Viendo el scatterplot y el boxplot de la variable Car no se ve una relación clara con el Precio por lo que la descartamos.\n",
        "*   Distance: Si bien la correlación con el Precio es relativamente baja (-0.16), se puede observar que para valores en el scatterplot que para valores menores a 20, el precio alcanza los valores más altos mientras que para valores mayores a 20 el precio permanece acotado a valores pequeños. Por esta razón la consideramos en el dataset.\n",
        "*   Landsize: Se puede observar en el boxplot que las distribuciones son diferentes para cada cuantil, por lo que consideramos que es una variable importante para predecir el valor de la propiedad y la consideramos en el dataset.\n",
        "*   BuildingArea: Sucede lo mismo que en la variable Landsize, además que posee una correlación alta con el Precio, por lo que la consideramos en el dataset. \n",
        "*   YearBuilt: En el boxplot se puede observar que para cuantiles más bajos (1 y 2) el Precio alcanza valores mayores que para el resto de los cuantiles. Además la correlación es negativa, lo que tiene sentido suponiendo que, cuando más vieja es la propiedad, esta pierde valor. La consideramos en el dataset.\n",
        "*   Lattitude: En el boxplot se puede observar que para cuantiles intermedios (2 y 3) el Precio alcanza valores mayores que para el resto de los cuantiles. La consideramos en el dataset.\n",
        "*   Longitude: En el boxplot se puede observar que para cuantiles intermedios (4 y 5) el Precio alcanza valores mayores que para el resto de los cuantiles. La consideramos en el dataset.\n",
        "*   Propertycount: La correlación Con el Precio es de -0.05. Viendo el scatterplot y el boxplot de la variable Propertycount no se ve una relación clara con el Precio por lo que la descartamos.\n",
        "\n"
      ]
    },
    {
      "cell_type": "code",
      "execution_count": null,
      "id": "gMB6lusot0C-",
      "metadata": {
        "id": "gMB6lusot0C-"
      },
      "outputs": [],
      "source": [
        "selected_num_cols = ['Rooms', 'Bedroom2', 'Bathroom', 'Distance', 'Landsize',\n",
        "                    'BuildingArea', 'YearBuilt', 'Lattitude', 'Longtitude']"
      ]
    },
    {
      "attachments": {},
      "cell_type": "markdown",
      "id": "ackz6214uTVV",
      "metadata": {
        "id": "ackz6214uTVV"
      },
      "source": [
        "#### Análisis de variables categóricas"
      ]
    },
    {
      "cell_type": "code",
      "execution_count": null,
      "id": "33pqoLsjuO-m",
      "metadata": {
        "colab": {
          "base_uri": "https://localhost:8080/"
        },
        "id": "33pqoLsjuO-m",
        "outputId": "54b4a35b-3aa0-40ff-840d-e0b28a2cf16a"
      },
      "outputs": [],
      "source": [
        "cat_cols"
      ]
    },
    {
      "attachments": {},
      "cell_type": "markdown",
      "id": "NPfsdkMpuXVH",
      "metadata": {
        "id": "NPfsdkMpuXVH"
      },
      "source": [
        "Veamos la cardinalidad de cada una y el porcentaje de repeticiones que tienen las 10 categorías con mayor cantidad:"
      ]
    },
    {
      "cell_type": "code",
      "execution_count": null,
      "id": "2Mpx78CuvWsG",
      "metadata": {
        "colab": {
          "base_uri": "https://localhost:8080/"
        },
        "id": "2Mpx78CuvWsG",
        "outputId": "7cc69dba-aa89-429c-ddbe-c7b626c35886"
      },
      "outputs": [],
      "source": [
        "for col in cat_cols:\n",
        "  print(col)\n",
        "  print('Cardinalidad:', df[col].nunique())\n",
        "  print(100*df[col].value_counts(normalize=True).iloc[:10])\n",
        "  print()"
      ]
    },
    {
      "attachments": {},
      "cell_type": "markdown",
      "id": "NHGFYBg3wDoX",
      "metadata": {
        "id": "NHGFYBg3wDoX"
      },
      "source": [
        "* Suburb: Tiene 300 valores diferentes y la categoría que posee la mayor cantidad de casos solo tiene el 2,5% por lo que la descartamos.\n",
        "* Address: La descartamos ya que la dirección es única para cada propiedad y no es representativa.\n",
        "* Type: Tiene 3 valores únicos, la consideramos en el dataset.\n",
        "* Method: Posee 5 valores únicos, la consideramos en el dataset.\n",
        "* SellerG: Posee 214 valores únicos, pero vemos que algunos de estos valores poseen un gran porcentaje, como Nelson que tiene el 12% o Jellis con el 10%. La consideramos en el dataset.\n",
        "* Date: No consieramos que sea relevante, la descartamos.\n",
        "* Postcode: Tiene 190 valores diferentes y la categoría que posee la mayor cantidad de casos solo tiene el 2,5% por lo que la descartamos.\n",
        "* CouncilArea: Posee 31 valores únicos, pero vemos que algunos de estos valores poseen un gran porcentaje de casos, como Moreland que tiene el 10% o Boroondara con el 9%. La consideramos en el dataset.\n",
        "* Regionname: Tiene 8 valores únicos, la consideramos en el dataset."
      ]
    },
    {
      "cell_type": "code",
      "execution_count": null,
      "id": "B9ckLLlswC_1",
      "metadata": {
        "id": "B9ckLLlswC_1"
      },
      "outputs": [],
      "source": [
        "preselected_cat_cols = ['Type', 'Method', 'SellerG', 'CouncilArea', 'Regionname']"
      ]
    },
    {
      "attachments": {},
      "cell_type": "markdown",
      "id": "WBizLxtAyCiP",
      "metadata": {
        "id": "WBizLxtAyCiP"
      },
      "source": [
        "En el caso de las variables de mayor cardinalidad, CouncilArea y SellerG, creamos una categoría nueva \"Other\" para agrupar a los valores que posean menos del 1% de los casos."
      ]
    },
    {
      "cell_type": "code",
      "execution_count": null,
      "id": "s4lReOB-x4Bg",
      "metadata": {
        "id": "s4lReOB-x4Bg"
      },
      "outputs": [],
      "source": [
        "for col in ['SellerG', 'CouncilArea']:\n",
        "  value_counts = 100*df[col].value_counts(normalize=True)\n",
        "  lower_values = value_counts[value_counts<1].index.tolist()\n",
        "  df[col] = df[col].apply(lambda x: 'Other' if x in lower_values else x)"
      ]
    },
    {
      "attachments": {},
      "cell_type": "markdown",
      "id": "-HzQsVzCzNiq",
      "metadata": {
        "id": "-HzQsVzCzNiq"
      },
      "source": [
        "Veamos la nueva cardinalidad de ambas variables"
      ]
    },
    {
      "cell_type": "code",
      "execution_count": null,
      "id": "4GWgq0v_zG5b",
      "metadata": {
        "colab": {
          "base_uri": "https://localhost:8080/"
        },
        "id": "4GWgq0v_zG5b",
        "outputId": "ab8089c6-82e7-48dc-d99e-f84187afe566"
      },
      "outputs": [],
      "source": [
        "df['SellerG'].nunique()"
      ]
    },
    {
      "cell_type": "code",
      "execution_count": null,
      "id": "sxph6qegzSHK",
      "metadata": {
        "colab": {
          "base_uri": "https://localhost:8080/"
        },
        "id": "sxph6qegzSHK",
        "outputId": "2c8fe031-fe0c-458d-d653-da823bd80dbd"
      },
      "outputs": [],
      "source": [
        "df['CouncilArea'].nunique()"
      ]
    },
    {
      "attachments": {},
      "cell_type": "markdown",
      "id": "JzzUrpINzXU9",
      "metadata": {
        "id": "JzzUrpINzXU9"
      },
      "source": [
        "Ahora veamos los boxplots para las variables categóricas preseleccionadas"
      ]
    },
    {
      "cell_type": "code",
      "execution_count": null,
      "id": "kLQSddc0uWm0",
      "metadata": {
        "colab": {
          "base_uri": "https://localhost:8080/",
          "height": 1000
        },
        "id": "kLQSddc0uWm0",
        "outputId": "2af5dd30-3423-41dd-de90-d5bbcd3a0df1"
      },
      "outputs": [],
      "source": [
        "for col in preselected_cat_cols:\n",
        "  values = df[col].value_counts(normalize=True).index[:10].tolist()\n",
        "  plt.figure(figsize=(8,4))\n",
        "  sns.boxplot(data=df[df[col].isin(values)], y=col, x='Price')\n",
        "  plt.show()"
      ]
    },
    {
      "attachments": {},
      "cell_type": "markdown",
      "id": "x1muHNbjziKw",
      "metadata": {
        "id": "x1muHNbjziKw"
      },
      "source": [
        "En todos los casos vemos que hay valores para los cuales el precio tiende a tener precios mayores que en otros por lo que seleccionamos todas estas variables"
      ]
    },
    {
      "cell_type": "code",
      "execution_count": null,
      "id": "XM6C2e_azpH1",
      "metadata": {
        "id": "XM6C2e_azpH1"
      },
      "outputs": [],
      "source": [
        "selected_cat_cols = preselected_cat_cols"
      ]
    },
    {
      "attachments": {},
      "cell_type": "markdown",
      "id": "nBVvRfVmzsPW",
      "metadata": {
        "id": "nBVvRfVmzsPW"
      },
      "source": [
        "#### Unificamos variables seleccionadas numéricas y categóricas"
      ]
    },
    {
      "cell_type": "code",
      "execution_count": null,
      "id": "dhFyFshFzro5",
      "metadata": {
        "id": "dhFyFshFzro5"
      },
      "outputs": [],
      "source": [
        "selected_cols = selected_num_cols + selected_cat_cols"
      ]
    },
    {
      "cell_type": "code",
      "execution_count": null,
      "id": "kQeaTAEHz2Xq",
      "metadata": {
        "colab": {
          "base_uri": "https://localhost:8080/"
        },
        "id": "kQeaTAEHz2Xq",
        "outputId": "8ae900ac-a080-4f29-96cc-b68e87a2e762"
      },
      "outputs": [],
      "source": [
        "selected_cols"
      ]
    },
    {
      "cell_type": "code",
      "execution_count": null,
      "id": "5vIGmOSl5-xn",
      "metadata": {
        "id": "5vIGmOSl5-xn"
      },
      "outputs": [],
      "source": [
        "df = df[selected_cols + ['Price', 'Postcode']]"
      ]
    },
    {
      "cell_type": "code",
      "execution_count": null,
      "id": "JEs_XSAa6D8L",
      "metadata": {
        "colab": {
          "base_uri": "https://localhost:8080/",
          "height": 206
        },
        "id": "JEs_XSAa6D8L",
        "outputId": "84118a66-1ab7-4e11-d326-838e91c53641"
      },
      "outputs": [],
      "source": [
        "df.head()"
      ]
    },
    {
      "attachments": {},
      "cell_type": "markdown",
      "id": "I2BwPneK0CKo",
      "metadata": {
        "id": "I2BwPneK0CKo"
      },
      "source": [
        "### Actividad 2"
      ]
    },
    {
      "cell_type": "code",
      "execution_count": null,
      "id": "5cJXN9RX0XCz",
      "metadata": {
        "colab": {
          "base_uri": "https://localhost:8080/"
        },
        "id": "5cJXN9RX0XCz",
        "outputId": "bd72d946-bc23-4bfa-e64e-f6a241b49c9c"
      },
      "outputs": [],
      "source": [
        "airbnb_df = pd.read_csv(\n",
        "    'https://cs.famaf.unc.edu.ar/~mteruel/datasets/diplodatos/cleansed_listings_dec18.csv')"
      ]
    },
    {
      "cell_type": "code",
      "execution_count": null,
      "id": "lj-YnNGT0Zru",
      "metadata": {
        "id": "lj-YnNGT0Zru"
      },
      "outputs": [],
      "source": [
        "# Se estandariza el tipo de datos para la columna zipcode\n",
        "airbnb_df['zipcode'] = pd.to_numeric(airbnb_df.zipcode, errors='coerce')"
      ]
    },
    {
      "cell_type": "code",
      "execution_count": null,
      "id": "w8T_p7Dbz_8Q",
      "metadata": {
        "colab": {
          "base_uri": "https://localhost:8080/",
          "height": 503
        },
        "id": "w8T_p7Dbz_8Q",
        "outputId": "930ce732-979b-4aa2-f71f-8f9efb39e74c"
      },
      "outputs": [],
      "source": [
        "airbnb_df.head(3)"
      ]
    },
    {
      "cell_type": "code",
      "execution_count": null,
      "id": "1DWy6l7032VM",
      "metadata": {
        "colab": {
          "base_uri": "https://localhost:8080/",
          "height": 469
        },
        "id": "1DWy6l7032VM",
        "outputId": "4ed3ed19-738a-495d-9bc8-5360bb2ab482"
      },
      "outputs": [],
      "source": [
        "sns.scatterplot(airbnb_df.zipcode.value_counts().values)\n",
        "plt.axhline(100, color='g')\n",
        "plt.axhline(50, color='r')"
      ]
    },
    {
      "attachments": {},
      "cell_type": "markdown",
      "id": "lLVm10vP48Iw",
      "metadata": {
        "id": "lLVm10vP48Iw"
      },
      "source": [
        "Incluimos los zipcodes que tengan una cantidad mayor o igual a 100 registros para que la información agregada sea relevante"
      ]
    },
    {
      "cell_type": "code",
      "execution_count": null,
      "id": "3i30qaqQ4zbp",
      "metadata": {
        "id": "3i30qaqQ4zbp"
      },
      "outputs": [],
      "source": [
        "value_counts = airbnb_df.zipcode.value_counts()\n",
        "value_counts = value_counts[value_counts>=100]\n",
        "airbnb_df = airbnb_df[airbnb_df['zipcode'].isin(value_counts.index.tolist())]"
      ]
    },
    {
      "cell_type": "code",
      "execution_count": null,
      "id": "X5dDlBa80mIG",
      "metadata": {
        "id": "X5dDlBa80mIG"
      },
      "outputs": [],
      "source": [
        "airbnb_price_by_zipcode = airbnb_df.groupby('zipcode')\\\n",
        "  .agg({'price': ['mean', 'count'], 'weekly_price': 'mean',\n",
        "        'monthly_price': 'mean', 'number_of_reviews': ['sum', 'mean'],\n",
        "        'review_scores_rating': ['min', 'max', 'mean']})\\\n",
        "  .reset_index()\n",
        "# Flatten the two level columns\n",
        "airbnb_price_by_zipcode.columns = [\n",
        "  ' '.join(col).strip()\n",
        "  for col in airbnb_price_by_zipcode.columns.values]"
      ]
    },
    {
      "cell_type": "code",
      "execution_count": null,
      "id": "tS_yBSpz3O3I",
      "metadata": {
        "colab": {
          "base_uri": "https://localhost:8080/"
        },
        "id": "tS_yBSpz3O3I",
        "outputId": "f126af78-9e2f-4ee2-dd59-b0f5609a81c4"
      },
      "outputs": [],
      "source": [
        "airbnb_price_by_zipcode.columns"
      ]
    },
    {
      "cell_type": "code",
      "execution_count": null,
      "id": "WIv-DUXv3Oe7",
      "metadata": {
        "id": "WIv-DUXv3Oe7"
      },
      "outputs": [],
      "source": [
        "# Rename columns\n",
        "airbnb_price_by_zipcode = airbnb_price_by_zipcode.rename(\n",
        "    columns={'price mean': 'airbnb_price_mean',\n",
        "             'price count': 'airbnb_record_count',\n",
        "             'weekly_price mean': 'airbnb_weekly_price_mean',\n",
        "             'monthly_price mean': 'airbnb_monthly_price_mean',\n",
        "             'number_of_reviews sum': 'airbnb_number_of_reviews_sum', \n",
        "             'number_of_reviews mean': 'airbnb_number_of_reviews_mean', \n",
        "             'review_scores_rating min': 'airbnb_review_scores_rating_min', \n",
        "             'review_scores_rating max': 'airbnb_review_scores_rating_max',\n",
        "             'review_scores_rating mean': 'airbnb_review_scores_rating_mean'}\n",
        ")"
      ]
    },
    {
      "cell_type": "code",
      "execution_count": null,
      "id": "4ZboiWUJ3sx0",
      "metadata": {
        "colab": {
          "base_uri": "https://localhost:8080/",
          "height": 270
        },
        "id": "4ZboiWUJ3sx0",
        "outputId": "ba1f9e49-6be5-480e-eef8-39a3703530ce"
      },
      "outputs": [],
      "source": [
        "airbnb_price_by_zipcode.head()"
      ]
    },
    {
      "cell_type": "code",
      "execution_count": null,
      "id": "tUlcAXs05lah",
      "metadata": {
        "colab": {
          "base_uri": "https://localhost:8080/",
          "height": 357
        },
        "id": "tUlcAXs05lah",
        "outputId": "2e3c8c10-cf3e-4f37-e0fe-69c0b573418a"
      },
      "outputs": [],
      "source": [
        "df_join = df.merge(\n",
        "    airbnb_price_by_zipcode, how='left',\n",
        "    left_on='Postcode', right_on='zipcode'\n",
        ")\n",
        "df_join.sample(5)"
      ]
    },
    {
      "attachments": {},
      "cell_type": "markdown",
      "id": "kjLeFgRb7VAw",
      "metadata": {
        "id": "kjLeFgRb7VAw"
      },
      "source": [
        "### Actividad 3"
      ]
    },
    {
      "attachments": {},
      "cell_type": "markdown",
      "id": "WfWhZ0I17XIu",
      "metadata": {
        "id": "WfWhZ0I17XIu"
      },
      "source": [
        "Se podría utilizar la variable Suburb que se encuentra en ambos datasets y posee una cardinalidad mayor al código postal en ambos casos"
      ]
    },
    {
      "cell_type": "code",
      "execution_count": null,
      "id": "r5nO8koM7cxu",
      "metadata": {
        "colab": {
          "base_uri": "https://localhost:8080/"
        },
        "id": "r5nO8koM7cxu",
        "outputId": "25a27b26-00a4-4011-f0fd-21479cb99c3c"
      },
      "outputs": [],
      "source": [
        "print('Cardinalidad Código postal:', melb_df.Postcode.nunique())\n",
        "print('Cardinalidad Suburbio:', melb_df.Suburb.nunique())"
      ]
    },
    {
      "cell_type": "code",
      "execution_count": null,
      "id": "degoab687Ufq",
      "metadata": {
        "colab": {
          "base_uri": "https://localhost:8080/"
        },
        "id": "degoab687Ufq",
        "outputId": "bdb540cf-e7b7-42ea-b40c-542ffbb084ce"
      },
      "outputs": [],
      "source": [
        "print('Cardinalidad Código postal:', airbnb_df.zipcode.nunique())\n",
        "print('Cardinalidad Suburbio:', airbnb_df.suburb.nunique())"
      ]
    },
    {
      "attachments": {},
      "cell_type": "markdown",
      "id": "y2vJg2oE8D0-",
      "metadata": {
        "id": "y2vJg2oE8D0-"
      },
      "source": [
        "Otra opción sería utilizar la latitud y longitud que se encuentra en ambos datasets y encontrar todas las propiedades que se encuentren a cierta distancia."
      ]
    },
    {
      "attachments": {},
      "cell_type": "markdown",
      "id": "c5303f27-3b15-441b-b291-8caf1c734139",
      "metadata": {
        "id": "c5303f27-3b15-441b-b291-8caf1c734139"
      },
      "source": [
        "## Ejercicio 3:\n",
        "\n",
        "Crear y guardar un nuevo conjunto de datos con todas las transformaciones realizadas anteriormente."
      ]
    },
    {
      "cell_type": "code",
      "execution_count": null,
      "id": "U8QYt28-z633",
      "metadata": {
        "colab": {
          "base_uri": "https://localhost:8080/",
          "height": 357
        },
        "id": "U8QYt28-z633",
        "outputId": "51083bc6-b39a-4969-ac3c-90c9621fd27c"
      },
      "outputs": [],
      "source": [
        "df_join.head()"
      ]
    },
    {
      "attachments": {},
      "cell_type": "markdown",
      "id": "XhWjcEiz8w-t",
      "metadata": {
        "id": "XhWjcEiz8w-t"
      },
      "source": [
        "Guardamos el dataset en un archivo csv:"
      ]
    },
    {
      "cell_type": "code",
      "execution_count": null,
      "id": "PLnRWvV48wGn",
      "metadata": {
        "colab": {
          "base_uri": "https://localhost:8080/"
        },
        "id": "PLnRWvV48wGn",
        "outputId": "f79c31bd-60d8-44a8-cf88-56903c86f6ad"
      },
      "outputs": [],
      "source": [
        "from google.colab import drive\n",
        "drive.mount('/content/drive')\n",
        "path = '/content/drive/My Drive/new_dataset.csv'\n",
        "\n",
        "df_join.to_csv(path)"
      ]
    },
    {
      "attachments": {},
      "cell_type": "markdown",
      "id": "abfd3eeb-d466-424b-b58e-d1364ac39206",
      "metadata": {
        "id": "abfd3eeb-d466-424b-b58e-d1364ac39206"
      },
      "source": [
        "## Ejercicios opcionales:\n",
        "\n",
        "1. Armar un script en python (archivo .py) [ETL](https://towardsdatascience.com/what-to-log-from-python-etl-pipelines-9e0cfe29950e) que corra los pasos de extraccion, transformacion y carga, armando una funcion para cada etapa del proceso y luego un main que corra todos los pasos requeridos.\n",
        "\n",
        "2. Armar un DAG en Apache Airflow que corra el ETL. (https://airflow.apache.org/docs/apache-airflow/stable/tutorial.html)"
      ]
    },
    {
      "cell_type": "code",
      "execution_count": null,
      "id": "5d210b95-836f-45ac-a52d-1a4dafdb447a",
      "metadata": {
        "id": "5d210b95-836f-45ac-a52d-1a4dafdb447a"
      },
      "outputs": [],
      "source": []
    }
  ],
  "metadata": {
    "colab": {
      "provenance": [],
      "toc_visible": true
    },
    "kernelspec": {
      "display_name": "Python 3",
      "language": "python",
      "name": "python3"
    },
    "language_info": {
      "codemirror_mode": {
        "name": "ipython",
        "version": 3
      },
      "file_extension": ".py",
      "mimetype": "text/x-python",
      "name": "python",
      "nbconvert_exporter": "python",
      "pygments_lexer": "ipython3",
      "version": "3.8.8"
    }
  },
  "nbformat": 4,
  "nbformat_minor": 5
}
