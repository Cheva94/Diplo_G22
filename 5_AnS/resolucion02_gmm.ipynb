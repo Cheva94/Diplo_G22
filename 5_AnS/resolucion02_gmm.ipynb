{
 "cells": [
  {
   "cell_type": "markdown",
   "metadata": {},
   "source": [
    "# Diplomatura en ciencia de datos, aprendizaje automático y sus aplicaciones - Edición 2023 - FAMAF (UNC)\n",
    "\n",
    "## Aprendizaje no supervisado\n",
    "\n",
    "### Trabajo práctico entregable - Grupo 22 - FIFA female players 2023 - Parte 2: implementación de modelos de ML\n",
    "\n",
    "**Integrantes:**\n",
    "- Chevallier-Boutell, Ignacio José\n",
    "- Ribetto, Federico Daniel\n",
    "- Rosa, Santiago\n",
    "- Spano, Marcelo\n",
    "\n",
    "**Seguimiento:** Meinardi, Vanesa\n",
    "\n",
    "---"
   ]
  },
  {
   "cell_type": "markdown",
   "metadata": {},
   "source": [
    "## Librerías\n",
    "\n",
    "Inicializamos el entorno."
   ]
  },
  {
   "cell_type": "code",
   "execution_count": null,
   "metadata": {},
   "outputs": [],
   "source": [
    "import numpy as np\n",
    "import pandas as pd\n",
    "import matplotlib.pyplot as plt\n",
    "import seaborn as sns\n",
    "\n",
    "from sklearn import decomposition, preprocessing\n",
    "from sklearn.mixture import GaussianMixture\n",
    "\n",
    "pd.set_option('display.max_columns', 150)\n",
    "pd.set_option('display.max_rows',150)\n",
    "sns.set_context('talk')\n",
    "sns.set_theme(style='white')"
   ]
  },
  {
   "cell_type": "markdown",
   "metadata": {},
   "source": [
    "## Lectura del dataset\n",
    "\n",
    "Cargamos el conjunto de datos procesado previamente."
   ]
  },
  {
   "cell_type": "code",
   "execution_count": null,
   "metadata": {},
   "outputs": [],
   "source": [
    "path = 'fifa2023.csv'\n",
    "df = pd.read_csv(path)"
   ]
  },
  {
   "cell_type": "code",
   "execution_count": null,
   "metadata": {},
   "outputs": [],
   "source": [
    "df.head()"
   ]
  },
  {
   "cell_type": "markdown",
   "metadata": {},
   "source": [
    "Como fue mencionado previamente, se decide eliminar a las arqueras de la clusterización.\n",
    "\n",
    "Se seleccionan las variables que se utilizarán para clusterizar."
   ]
  },
  {
   "cell_type": "code",
   "execution_count": null,
   "metadata": {},
   "outputs": [],
   "source": [
    "df_mod = df[df['pos_gral'] != 'arq'].copy()\n",
    "\n",
    "vars_mod = ['crossing', 'finishing', 'heading', 'short_passing', 'volleys', \n",
    "            'marking', 'standing_tackle', 'sliding_tackle', 'acceleration', \n",
    "            'sprint', 'agility', 'balance', 'shot_power', 'stamina', \n",
    "            'long_shots', 'dribbling', 'curve', 'fk_acc', 'long_passing', \n",
    "            'ball_control', 'aggression', 'interceptions', 'positioning', \n",
    "            'vision', 'penalties', 'composure', 'ls', 'st', 'rs', 'lw', 'lf', \n",
    "            'cf', 'rf', 'rw', 'lam', 'cam', 'ram', 'lm', 'lcm', 'cm', 'rcm', \n",
    "            'rm', 'ldm', 'cdm', 'rdm', 'lwb', 'rwb', 'lb', 'lcb', 'cb', 'rcb', \n",
    "            'rb']\n",
    "df_mod = df_mod[vars_mod]\n",
    "df_mod.shape"
   ]
  },
  {
   "cell_type": "code",
   "execution_count": null,
   "metadata": {},
   "outputs": [],
   "source": [
    "df_mod.head()"
   ]
  },
  {
   "cell_type": "markdown",
   "metadata": {},
   "source": [
    "## GMM"
   ]
  },
  {
   "cell_type": "markdown",
   "metadata": {},
   "source": [
    "### Vemos el porcentaje de jugadoras en cada cluster para diferentes cantidades de componentes entre 2 y 10"
   ]
  },
  {
   "cell_type": "markdown",
   "metadata": {},
   "source": [
    "Utilizamos covariance_type='full' ya que suponemos que cada cluster puede poseer posición y forma diferentes."
   ]
  },
  {
   "cell_type": "code",
   "execution_count": null,
   "metadata": {},
   "outputs": [],
   "source": [
    "value_counts = []\n",
    "n_clusters=np.arange(2, 11)\n",
    "sils=[]\n",
    "sils_err=[]\n",
    "for n in n_clusters:\n",
    "    gmm=GaussianMixture(n, covariance_type='full', random_state=42).fit(df_mod) \n",
    "    labels=gmm.predict(df_mod)\n",
    "    value_counts.append(pd.DataFrame(labels).value_counts(normalize=True).reset_index(drop=True))"
   ]
  },
  {
   "cell_type": "code",
   "execution_count": null,
   "metadata": {},
   "outputs": [],
   "source": [
    "df_clusters = pd.DataFrame(value_counts).reset_index(drop=True)\n",
    "df_clusters.insert(loc=0, column='n_components', value=np.arange(2,11))\n",
    "df_clusters\n"
   ]
  },
  {
   "cell_type": "markdown",
   "metadata": {},
   "source": [
    "Seleccionamos n=5 para así tener clusters que tengan al menos un 10% de jugadoras. Además, con 5 clusters no hay mucha variación en el porcentaje de jugadoras por cluster: el cluster más grande contiene al 27% de los jugadoras mientras que el más chico el 14%."
   ]
  },
  {
   "cell_type": "code",
   "execution_count": null,
   "metadata": {},
   "outputs": [],
   "source": [
    "n = 5\n",
    "gmm = GaussianMixture(n, covariance_type='full', random_state=42).fit(df_mod) \n",
    "labels = gmm.predict(df_mod)\n",
    "df_res = df[df['pos_gral'] != 'arq'].copy()\n",
    "df_res['cluster'] = labels"
   ]
  },
  {
   "cell_type": "code",
   "execution_count": null,
   "metadata": {},
   "outputs": [],
   "source": [
    "df_res.cluster.value_counts(normalize=True)"
   ]
  },
  {
   "cell_type": "markdown",
   "metadata": {},
   "source": [
    "### Distribución de posiciones por cluster"
   ]
  },
  {
   "cell_type": "markdown",
   "metadata": {},
   "source": [
    "A continuación se muestra, para cada cluster, qué porcentaje de jugadoras hay para cada posición.\n",
    "\n",
    "* Cluster 0: En orden de porcentaje decreciente, el cluster se compone por:\n",
    "    * Mediocampista defensiva central: 22.7%\n",
    "    * Defensora central: 22%\n",
    "    * Defensora izquierda: 19.6%\n",
    "    * Defensora derecha: 19%\n",
    "    * Mediocampista central: 11.6%\n",
    "\n",
    "    El resto de las posiciones componen menos del 5% del cluster.\n",
    "<br/><br/>\n",
    "* Cluster 1: En orden de porcentaje decreciente, el cluster se compone por:\n",
    "    * Pateadora central: 50.4%\n",
    "    * Mediocampista derecha: 12.6%\n",
    "    * Mediocampista ofensiva central: 12.4%\n",
    "    * Volante delantera derecha: 9%\n",
    "    * Mediocampista izquierda: 7%\n",
    "    * Volante delantera izquierda: 7%\n",
    "    * Mediocampista central: 1%\n",
    "    * Delantera central: 0.5%\n",
    "<br/><br/>\n",
    "* Cluster 2: En orden de porcentaje decreciente, el cluster se compone por:\n",
    "    * Mediocampista central: 21.9%\n",
    "    * Pateadora central: 21.8%\n",
    "    * Mediocampista ofensiva central: 18.1%\n",
    "    * Volante delantera derecha: 10.1%\n",
    "    * Mediocampista derecha: 9.8%\n",
    "    * Volante delantera izquierda: 9.3%\n",
    "    * Mediocampista izquierda: 8.1%\n",
    "    * Defensora derecha: 1%\n",
    "<br/><br/>\n",
    "* Cluster 3: En orden de porcentaje decreciente, el cluster se compone por:\n",
    "    * Defensora central: 58.5%\n",
    "    * Defensora izquierda: 15.8%\n",
    "    * Defensora derecha: 15.3%\n",
    "    * Mediocampista defensiva central: 7.1%\n",
    "    \n",
    "    El resto de las posiciones componen menos del 5% del cluster.\n",
    "<br/><br/>\n",
    "* Cluster 4: En orden de porcentaje decreciente, el cluster se compone por:\n",
    "    * Mediocampista central: 56.8%\n",
    "    * Mediocampista defensiva central: 15.1%\n",
    "    * Defensora derecha: 8%\n",
    "    * Mediocampista ofensiva central: 5.9%\n",
    "    * Mediocampista izquierda: 3.5%\n",
    "    * Mediocampista derecha: 3.3%\n",
    "    * Defensora izquierda: 2.9% \n",
    "    \n",
    "    El resto de las posiciones componen menos del 5% del cluster."
   ]
  },
  {
   "cell_type": "code",
   "execution_count": null,
   "metadata": {},
   "outputs": [],
   "source": [
    "df_res.groupby('cluster').position.value_counts(normalize=True)"
   ]
  },
  {
   "cell_type": "markdown",
   "metadata": {},
   "source": [
    "### Distribución de las variables por cluster"
   ]
  },
  {
   "cell_type": "markdown",
   "metadata": {},
   "source": [
    "Del gráfico siguiente se deduce que en los clusters 0 y 2 se concentran las jugadoras con mayor overall."
   ]
  },
  {
   "cell_type": "code",
   "execution_count": null,
   "metadata": {},
   "outputs": [],
   "source": [
    "sns.boxplot(x='cluster', y='overall', data=df_res)\n",
    "plt.show()"
   ]
  },
  {
   "cell_type": "markdown",
   "metadata": {},
   "source": [
    "A continuación se grafica la distribución por cluster para todas las variables que se utilizaron para clusterizar con lo cual se puede caracterizar cada cluster:\n",
    "\n",
    "* Cluster 0: Posee los valores de ldm, cdm, rdm, lwb, cwb, rwb, lb, lcb, cb, rcb, rb más altos. Estas variables representan el puntaje asignado a posiciones de defensa.\n",
    "* Cluster 1: Posee los valores más bajos de marking, standing tackle, siding tackle, aggression, interceptions, ldm, cdm, rdm, lwb, cwb, rwb, lb, lcb, cb, rcb, rb.\n",
    "* Cluster 2: Posee los valores más altos de finishing, volleys, acceleration, sprint, agility, shot power, long shots, dribblign, curve, fk_acc, ball_control, positioning, vision, penalties, ls, st, rs, lw, lf, cf, rf, rw, lam, cam, ram, lm, rm. Estas variables representan el puntaje asignado a características ofensivas, movimientos, potencia, habilidades físicas, y posiciones de mediacompista, delandera, volante y pateadora.\n",
    "* Cluster 3: Posee los valores más bajos de finishing, volleys, shot_power, long_shots, dribbling, curve, fk_acc, ball_control, positioning, vision, penalties, ls, st, rs, lw, lf, cf, rf, rw, lam, cam, ram, lm, lcm, cm, rcm, rm.\n",
    "* Cluster 4: Posee valores intermedios en todas sus variables. "
   ]
  },
  {
   "cell_type": "code",
   "execution_count": null,
   "metadata": {},
   "outputs": [],
   "source": [
    "for col in vars_mod:\n",
    "    sns.boxplot(x='cluster', y=col, data=df_res)\n",
    "    plt.show()"
   ]
  },
  {
   "cell_type": "markdown",
   "metadata": {},
   "source": [
    "# PCA"
   ]
  },
  {
   "cell_type": "markdown",
   "metadata": {},
   "source": [
    "Para visualizar los resultados de la clusterización se realiza un embedding con PCA."
   ]
  },
  {
   "cell_type": "code",
   "execution_count": null,
   "metadata": {},
   "outputs": [],
   "source": [
    "std_scale=preprocessing.StandardScaler().fit(df_mod)\n",
    "X_scaled=std_scale.transform(df_mod)"
   ]
  },
  {
   "cell_type": "markdown",
   "metadata": {},
   "source": [
    "A continuación se realiza una descomposición en las 3 componentes principales utilizando PCA y se observa la varianza para cada componente y la acumulada. Con las primeras dos componentes se tiene el 79% de la varianza, y la tercer componente solo aporta un 4% más."
   ]
  },
  {
   "cell_type": "code",
   "execution_count": null,
   "metadata": {},
   "outputs": [],
   "source": [
    "pca=decomposition.PCA(n_components=3)\n",
    "\n",
    "pca.fit(X_scaled) #input data is centered but not scaled for each feature before applying the SVD\n",
    "\n",
    "# proporción de varianza\n",
    "print('proporción de varianza por componente: ', pca.explained_variance_ratio_)\n",
    "# proporción de varianza acumulada\n",
    "print ('proporción de varianza por componente acumulada: ', pca.explained_variance_ratio_.cumsum())\n",
    "\n",
    "X_projected=pca.transform(X_scaled) #numpy array\n",
    "print ('tamaño de los datos: ', X_projected.shape)"
   ]
  },
  {
   "cell_type": "code",
   "execution_count": null,
   "metadata": {},
   "outputs": [],
   "source": [
    "df_projected = pd.DataFrame(X_projected)\n",
    "df_projected['cluster'] = labels"
   ]
  },
  {
   "cell_type": "markdown",
   "metadata": {},
   "source": [
    "Se grafican las primeras dos componentes y se colorean los diferentes clusters.\n",
    "Se puede ver una superposición entre los clusters 1 y 2 y entre los clusters 0 y 3."
   ]
  },
  {
   "cell_type": "code",
   "execution_count": null,
   "metadata": {},
   "outputs": [],
   "source": [
    "plt.figure(figsize=(20,10))\n",
    "sns.scatterplot(data=df_projected, x=0, y=1, hue='cluster', palette='tab10')\n",
    "plt.grid()\n",
    "plt.show()"
   ]
  },
  {
   "cell_type": "markdown",
   "metadata": {},
   "source": [
    "## Conclusiones"
   ]
  },
  {
   "cell_type": "markdown",
   "metadata": {},
   "source": [
    "Se realizó un clustering utilizando Gaussian Mixture Models (GMM). Se probaron diferentes cantidades de componentes y se definió utilizar 5 componentes para tener clusters que tengan al menos un 10% de jugadoras. Además, con 5 clusters no hay tanta variación en el porcentaje de jugadoras por cluster: el cluster más grande contiene al 27% de los jugadoras mientras que el más chico el 14%.\n",
    "\n",
    "Del análisis realizado sobre los clusters se puede concluir lo siguiente:\n",
    "* El cluster 0 está compuesto por defensoras y mediocampistas centrales y poseen el puntaje asignado a posiciones de defensa más altos. \n",
    "* El cluster 1 está compuesto mayoritariamente por pateadoras centrales, componiendo el 50% del cluster. El resto son mediocampistas y volantes. Estas jugadoras poseen bajos valores en los puntajes asignados a posiciones de defensa.\n",
    "* El cluster 2 está compuesto por pateadoras centrales, mediocampistas y volantes. La diferencia con el cluster 1 es que posee los puntajes asignados más altos a características ofensivas, movimientos, potencia, habilidades físicas, y posiciones de mediacompista, delandera, volante y pateadora.\n",
    "* Por lo visto en los puntos anteriores, los clusters 1 y 2 poseen jugadoras que juegan en las mismas posiciones aunque con habilidades diferentes. Y por esta razón en el gráfico de PCA se observa una superposición entre estos clusters.\n",
    "* El cluster 3 se encuentra conformado por defensoras. La diferencia con el cluster 0 es que posee los puntajes asignados más bajos a habilidades físicas y posiciones de mediacompista, delandera, volante y pateadora.\n",
    "* Los clusters 0 y 3 están conformados mayoritariamente por defensoras pero con puntajes diferentes. Por esta razón en el gráfico de pCA se observa una superposición entre estos clusters.\n",
    "* El cluster 4 posee mayoritariamente mediocampistas centrales (un 57%). Además se compone de otras mediocampistas y defensoras. Posee valores intermedios en todas las variables, lo cual es observable en el gráfico de PCA, en donde se encuentra en el medio del gráfico y rodeado por el resto de los clusters.\n",
    "* Como en cada cluster los puntajes de las características son similares entre si, se podría considerar intercambiar jugadoras que se encuentran en un mismo cluster de ser necesario. Además, podría considerarse al cluster 4 como un cluster comodín ya que las jugadoras pertenecientes al mismo poseen habilidades y puntajes intermedios y juegan en diferentes posiciones."
   ]
  }
 ],
 "metadata": {
  "kernelspec": {
   "display_name": "Python 3",
   "language": "python",
   "name": "python3"
  },
  "language_info": {
   "codemirror_mode": {
    "name": "ipython",
    "version": 3
   },
   "file_extension": ".py",
   "mimetype": "text/x-python",
   "name": "python",
   "nbconvert_exporter": "python",
   "pygments_lexer": "ipython3",
   "version": "3.9.7"
  },
  "orig_nbformat": 4
 },
 "nbformat": 4,
 "nbformat_minor": 2
}
