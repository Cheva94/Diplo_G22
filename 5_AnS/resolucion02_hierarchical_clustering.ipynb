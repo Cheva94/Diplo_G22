{
 "cells": [
  {
   "cell_type": "markdown",
   "metadata": {},
   "source": [
    "# Diplomatura en ciencia de datos, aprendizaje automático y sus aplicaciones - Edición 2023 - FAMAF (UNC)\n",
    "\n",
    "## Aprendizaje no supervisado\n",
    "\n",
    "### Trabajo práctico entregable - Grupo 22 - FIFA female players 2023 - Parte 2: implementación de modelos de ML\n",
    "\n",
    "**Integrantes:**\n",
    "- Chevallier-Boutell, Ignacio José\n",
    "- Ribetto, Federico Daniel\n",
    "- Rosa, Santiago\n",
    "- Spano, Marcelo\n",
    "\n",
    "**Seguimiento:** Meinardi, Vanesa\n",
    "\n",
    "---"
   ]
  },
  {
   "cell_type": "markdown",
   "metadata": {},
   "source": [
    "## Enunciados:\n",
    "\n",
    "4- Aplicación de clustering para encontrar grupos de jugadoras con habilidades equivalentes, por ejemplo, jugadoras que podrían intercambiarse en el caso de una lesión o cuando una jugadora está cansada. Para esto utilice como mínimo dos técnicas de clustering: por ejemplo k-medias, DBSCAN, mezcla de Gaussianas y/o alguna jerárquica. Justifiquen por qué eligen los diferentes hiper-parámetros que se puedan elegir según el método: número de clusters, medida de distancia, criterio de aglomeración… \n",
    "\n",
    "5- Análisis cualitativo de los clusters encontrados. ¿Qué hay en cada cluster? ¿Son efectivamente equivalentes las jugadoras de un cluster, es decir, podrían cumplir el mismo rol en un equipo? Si se trata de clusters heterogéneos, ¿por qué razón pueden haber sido agrupadas las jugadoras del cluster? ¿Qué motiva las diferencias en tamaño?\n",
    "\n",
    "6- Uso de alguna transformación (proyección, Embedding) para visualizar los resultados y/o usarla como preprocesado para aplicar alguna técnica de clustering."
   ]
  },
  {
   "cell_type": "markdown",
   "metadata": {},
   "source": [
    "## Librerías\n",
    "\n",
    "Inicializamos el entorno."
   ]
  },
  {
   "cell_type": "code",
   "execution_count": null,
   "metadata": {},
   "outputs": [],
   "source": [
    "import numpy as np\n",
    "import pandas as pd\n",
    "import matplotlib.pyplot as plt\n",
    "\n",
    "from plots import plots\n",
    "\n",
    "import matplotlib.cm as cm\n",
    "import numpy as np\n",
    "from sklearn.cluster import AgglomerativeClustering\n",
    "from sklearn.metrics import silhouette_samples, silhouette_score\n",
    "\n",
    "pd.set_option('display.max_columns',150)\n",
    "pd.set_option('display.max_rows',150)"
   ]
  },
  {
   "cell_type": "markdown",
   "metadata": {},
   "source": [
    "## Lectura del dataset\n",
    "\n",
    "Cargamos el conjunto de datos y lo procesamos para quedarnos sólo con lo que nos interesa. No usamos a las arqueras ya que son un cluster propio."
   ]
  },
  {
   "cell_type": "code",
   "execution_count": null,
   "metadata": {},
   "outputs": [],
   "source": [
    "path = 'fifa2023.csv'\n",
    "fifa23 = pd.read_csv(path)\n",
    "print(fifa23.keys())\n",
    "fifa23_mod = fifa23[fifa23['gk']<50].copy()\n",
    "\n",
    "vars_mod = ['crossing', 'finishing', 'heading', 'short_passing', 'volleys', \n",
    "            'marking', 'standing_tackle', 'sliding_tackle', 'acceleration', \n",
    "            'sprint', 'agility', 'balance', 'shot_power', 'stamina', \n",
    "            'long_shots', 'dribbling', 'curve', 'fk_acc', 'long_passing', \n",
    "            'ball_control', 'aggression', 'interceptions', 'positioning', \n",
    "            'vision', 'penalties', 'composure', 'ls', 'st', 'rs', 'lw', 'lf', \n",
    "            'cf', 'rf', 'rw', 'lam', 'cam', 'ram', 'lm', 'lcm', 'cm', 'rcm', \n",
    "            'rm', 'ldm', 'cdm', 'rdm', 'lwb', 'rwb', 'lb', 'lcb', 'cb', 'rcb', \n",
    "            'rb']\n",
    "\n",
    "# No resetear índices, para que después sea fácil buscar nombre y demás\n",
    "fifa23_mod = fifa23_mod[vars_mod]/100."
   ]
  },
  {
   "cell_type": "markdown",
   "metadata": {},
   "source": [
    "# Hierarchical Clustering\n",
    "\n",
    "Un método de realizar clusterizaciones de puntos es construir una jerarquía de clusters. La estrategia puede ser **aglomerativa**, en la cual cada punto es un cluster distinto y en cada iteración se van agrupando, o **divisiva**, donde todos los puntos comienzan en el mismo cluster y se van dividiendo.\n",
    "\n",
    "Para decidir cómo aglomerar o dividir los clusters, se utiliza como criterio la distancia entre puntos como métrica. El criterio y la definición de distancia varía de método a método. En particular, utilizamos la clusterización aglomerativa de scikit-learn `sklearn.cluster.AgglomerativeClustering` con la distancia default (euclidea), y el criterio de asignación default (minimización de los clusters aglomerados)."
   ]
  },
  {
   "cell_type": "markdown",
   "metadata": {},
   "source": [
    "## Criterio del score de silueta\n",
    "\n",
    "Para obtener el número óptimo de clústers, utilizamos el *score de silueta*.\n",
    "\n",
    "Asumamos que tenemos nuestro conjunto de datos clusterizado. Sea $i \\in C_{I}$ ($i$-esimo punto del cluster $C_I$), y sea\n",
    "\n",
    "$$\n",
    "    a(i) = \\frac{1}{|C_I|-1}\\sum_{j\\in C_I, i \\neq j} d(i,j)\n",
    "$$\n",
    "\n",
    "la distancia media entre $i$ y el resto de los puntos del cluster, donde $|C_I|$ es el número de puntos del clúster $C_I$ y $d(i,j)$ es la distancia entre los puntos $i$ y $j$.\n",
    "\n",
    "Definimos la disimilaridad media $b(i)$ de un punto $i$ con un cluster $C_J$ como la distancia media entre el punto $i$ y todos los puntos en $C_J$ (con $C_J \\neq C_I$).\n",
    "\n",
    "Para cada punto $i \\in C_I$, definimos \n",
    "\n",
    "$$\n",
    "    b(i) = \\min_{J \\neq I} \\frac{1}{|C_J|}\\sum_{j\\in C_J} d(i,j)\n",
    "$$\n",
    "\n",
    "como la distancia media más pequeña a todos los puntos en cualquier otro cluster (donde no pertenece $i$). El cluster con la disimilaridad más pequeña se denomina 'cluster vecino' de $i$. Definimos ahora la *silueta* de un punto $i$ como \n",
    "\n",
    "\n",
    "$$\n",
    "    s(i) = \\frac{b(i)-a(i)}{\\max{a(i),b(i)}}\n",
    "$$\n",
    "\n",
    "coeficiente que toma valores en el intervalo $[-1,1]$. Si $s(i)$ está cerca de 1, el punto está apropiadamente clusterizado, mientras que si toma valores cercanos a -1, el punto tedría que estar asociado a su cluster vecino.\n",
    "\n",
    "La media de $s(i)$ sobre todos los puntos $i$ es una medida que nos indica qué tan estrechamente agrupado está el clúster.\n"
   ]
  },
  {
   "cell_type": "markdown",
   "metadata": {},
   "source": [
    "En esta nueva gráfica vemos que el cluster 0 (de carácter mediocampo/defensivo) y el cluster 2 (de carácter defensivo) se localizan en la región derecha, lo cual tiene sentido ya que en esa dirección juegan un rol importante las habilidades defensivas. Además, los clusters restantes (con naturalezas más ofensivas) de ubican del lado izquierdo, sentido en el que pesan más las habilidades ofensivas."
   ]
  },
  {
   "cell_type": "markdown",
   "metadata": {},
   "source": [
    "# Clustering"
   ]
  },
  {
   "cell_type": "markdown",
   "metadata": {},
   "source": [
    "Empezamos cargando la base de datos y quedándonos con las variables que nos interesa, como vimos en la exploración de los datos."
   ]
  },
  {
   "cell_type": "markdown",
   "metadata": {},
   "source": [
    "Hagamos algunas clusterizaciones iniciales y midamos su efectividad utilizando el score de silueta, utilizando algunas posiciones para calcular dicha métrica.\n",
    "\n",
    "Vemos que la efectividad de la clusterización depende de las variables con que medimos el score de silueta y del número de clusters."
   ]
  },
  {
   "cell_type": "code",
   "execution_count": null,
   "metadata": {
    "scrolled": false
   },
   "outputs": [],
   "source": [
    "from random import sample\n",
    "\n",
    "positions = ['ls', 'st', 'rs', 'lw', 'lf',\n",
    "'cf', 'rf', 'rw', 'lam', 'cam', 'ram', 'lm', 'lcm', 'cm', 'rcm',\n",
    "'rm', 'ldm', 'cdm', 'rdm', 'lwb', 'rwb', 'lb', 'lcb', 'cb', 'rcb',\n",
    "'rb']\n",
    "\n",
    "npicks = 5\n",
    "\n",
    "positions0 = sample(positions,npicks)\n",
    "nvar = len(positions0)\n",
    "\n",
    "#ploteo el score de silueta para algunas variables para tener una idea de la clusterización\n",
    "for nclus in range(2,5):\n",
    "\n",
    "    for i in range(npicks):\n",
    "        for j in range(i):\n",
    "\n",
    "            x = fifa23_mod[positions0[i]]\n",
    "            y = fifa23_mod[positions0[j]]\n",
    "\n",
    "            hierarchical_cluster = AgglomerativeClustering(n_clusters=nclus, metric='euclidean', linkage='ward')\n",
    "            labels = hierarchical_cluster.fit_predict(fifa23_mod)\n",
    "\n",
    "            # The silhouette_score gives the average value for all the samples.\n",
    "            # This gives a perspective into the density and separation of the formed\n",
    "            # clusters\n",
    "            silhouette_avg = silhouette_score(np.array([x,y]).T, labels)\n",
    "            # Compute the silhouette scores for each sample\n",
    "            sample_silhouette_values = silhouette_samples(np.array([x,y]).T, labels)\n",
    "\n",
    "            x_label = positions0[i]\n",
    "            y_label = positions0[j]\n",
    "            fig_name = 'tmp/results__nclus'+str(nclus)+'_comun_pos_'+positions0[i]+'_'+positions0[j]\n",
    "\n",
    "            plots(x,y,x_label,y_label,labels,nclus,sample_silhouette_values,silhouette_avg,fig_name)\n"
   ]
  },
  {
   "cell_type": "markdown",
   "metadata": {},
   "source": [
    "Para tener una idea más cuantitativa de la cantidad de clusters óptimos según el score de silueta, calculamos el score promedio para cada posición en función del número de clústers.\n",
    "\n",
    "**warning**: esta celda tarda mucho en correr (aprox. una hora y media). \n",
    "\n",
    "**Spoiler alert**: el número óptimo de clusters es 3, se puede pasar directamente a las otras celdas.\n"
   ]
  },
  {
   "cell_type": "code",
   "execution_count": null,
   "metadata": {
    "scrolled": true
   },
   "outputs": [],
   "source": [
    "import os\n",
    "try: os.mkdir('./tmp')\n",
    "except: pass\n",
    "\n",
    "n_max = 6\n",
    "optimal_n_clus = []\n",
    "for i in range(len(positions)):\n",
    "    print('posición: '+positions[i]+', '+str(len(positions[:i])+1)+' de '+str(len(positions)))\n",
    "    \n",
    "    silhouette_avg_lst = []\n",
    "    fig = plt.figure()\n",
    "    ax = fig.add_subplot(111)\n",
    "    ax.set_title('avg score of '+positions[i])\n",
    "    ax.set_ylabel('silouette score')\n",
    "    ax.set_xlabel('number ofclusters')\n",
    "\n",
    "    x = fifa23_mod[positions[i]]\n",
    "    for nclus in range(2,n_max+1):\n",
    "        silhouette_avg=0\n",
    "        for j in range(len(positions)):\n",
    "            if i!=j:\n",
    "\n",
    "                y = fifa23_mod[positions[j]]\n",
    "\n",
    "                hierarchical_cluster = AgglomerativeClustering(n_clusters=nclus, metric='euclidean', linkage='ward')\n",
    "                labels = hierarchical_cluster.fit_predict(fifa23_mod)\n",
    "                silhouette_avg += silhouette_score(np.array([x,y]).T, labels)\n",
    "                \n",
    "        silhouette_avg_lst.append(silhouette_avg)\n",
    "    silhouette_avg_lst = np.array(silhouette_avg_lst)/(len(positions)-1)\n",
    "    optimal_n_clus.append(np.argmax(silhouette_avg_lst))\n",
    "\n",
    "    ax.plot(np.linspace(2,n_max,n_max-1,dtype='int'), silhouette_avg_lst, linestyle = '--',linewidth=.7, marker='.',markersize=8)\n",
    "    fig.savefig('tmp/avg_sil_score_'+str(positions[i]))\n",
    "\n",
    "nclus_opt = int(round(np.mean(optimal_n_clus))+2,0) #redondeo el promedio\n",
    "\n",
    "print('nro optimo de clusters:',nclus_opt)"
   ]
  },
  {
   "cell_type": "markdown",
   "metadata": {},
   "source": [
    "Ahora que tenemos el número óptimo de clusters, veamos si la clusterización jerárquica realizada tiene sentido."
   ]
  },
  {
   "cell_type": "code",
   "execution_count": null,
   "metadata": {},
   "outputs": [],
   "source": [
    "nclus_opt = 3\n",
    "\n",
    "hierarchical_cluster = AgglomerativeClustering(n_clusters=nclus_opt, metric='euclidean', linkage='ward')\n",
    "labels = hierarchical_cluster.fit_predict(fifa23_mod)\n",
    "\n",
    "df_clusters = fifa23_mod.copy()\n",
    "df_clusters['ncluster'] = labels # Creamos una nueva columna con el cluster asignado\n",
    "df_clusters.head()"
   ]
  },
  {
   "cell_type": "markdown",
   "metadata": {},
   "source": [
    "Vemos que el cluster mayoritario contiene al 42% de las jugadoras, el segundo el 33%, y el minoritario el 25%."
   ]
  },
  {
   "cell_type": "code",
   "execution_count": null,
   "metadata": {},
   "outputs": [],
   "source": [
    "df_clusters.ncluster.value_counts(normalize=True)"
   ]
  },
  {
   "cell_type": "code",
   "execution_count": null,
   "metadata": {},
   "outputs": [],
   "source": []
  },
  {
   "cell_type": "markdown",
   "metadata": {},
   "source": [
    "En la siguiente imagen podemos ver cada una de las posiciones en la cancha:\n",
    "\n",
    "![](plt/positions_fifa.jpg )\n",
    "\n",
    "El primer cluster agrupa mayoritariamente a las mediocampistas (47% de los datos), y en menor medida, delanteras de los costados (21% de los datos).\n",
    "\n",
    "El segundo cluster agrupa a las defensoras (74%) y, en menor medida, mediocampistas (21%).\n",
    "\n",
    "El tercer cluster agrupa a las jugadoras ofensivas (87%).\n",
    "\n",
    "Concluimos que la clusterización jerárquica logra obtener un agrupamiento esperable, obteniendo tres clusters donde divide a las jugadoras en defensoras, mediocampistas y delanteras."
   ]
  },
  {
   "cell_type": "code",
   "execution_count": null,
   "metadata": {},
   "outputs": [],
   "source": [
    "df_pos = df_clusters.copy()\n",
    "df_pos['position'] = fifa23['position'] # Agrego las posisiones para filtrar\n",
    "\n",
    "for n in range(nclus_opt):\n",
    "    df_pos0 = df_pos[df_pos['ncluster']==n]\n",
    "    print(df_pos0.position.value_counts(normalize=True))\n"
   ]
  }
 ],
 "metadata": {
  "kernelspec": {
   "display_name": "Python 3 (ipykernel)",
   "language": "python",
   "name": "python3"
  },
  "language_info": {
   "codemirror_mode": {
    "name": "ipython",
    "version": 3
   },
   "file_extension": ".py",
   "mimetype": "text/x-python",
   "name": "python",
   "nbconvert_exporter": "python",
   "pygments_lexer": "ipython3",
   "version": "3.10.11"
  }
 },
 "nbformat": 4,
 "nbformat_minor": 2
}
