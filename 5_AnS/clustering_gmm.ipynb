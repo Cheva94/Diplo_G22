{
 "cells": [
  {
   "cell_type": "markdown",
   "metadata": {},
   "source": [
    "# Diplomatura en ciencia de datos, aprendizaje automático y sus aplicaciones - Edición 2023 - FAMAF (UNC)\n",
    "\n",
    "## Aprendizaje no supervisado\n",
    "\n",
    "### Trabajo práctico entregable - Grupo 22 - FIFA female players 2023 - Parte 2: implementación de modelos de ML\n",
    "\n",
    "**Integrantes:**\n",
    "- Chevallier-Boutell, Ignacio José\n",
    "- Ribetto, Federico Daniel\n",
    "- Rosa, Santiago\n",
    "- Spano, Marcelo\n",
    "\n",
    "**Seguimiento:** Meinardi, Vanesa\n",
    "\n",
    "---"
   ]
  },
  {
   "cell_type": "markdown",
   "metadata": {},
   "source": [
    "## Librerías\n",
    "\n",
    "Inicializamos el entorno."
   ]
  },
  {
   "cell_type": "code",
   "execution_count": null,
   "metadata": {},
   "outputs": [],
   "source": [
    "!pip install threadpoolctl -U\n",
    "!pip install plotly"
   ]
  },
  {
   "cell_type": "code",
   "execution_count": null,
   "metadata": {},
   "outputs": [],
   "source": [
    "import numpy as np\n",
    "import pandas as pd\n",
    "import matplotlib.pyplot as plt\n",
    "import seaborn as sns\n",
    "import plotly.graph_objs as go\n",
    "\n",
    "from sklearn import decomposition, preprocessing\n",
    "from sklearn.cluster import DBSCAN\n",
    "from sklearn.mixture import GaussianMixture\n",
    "\n",
    "pd.set_option('display.max_columns', 150)\n",
    "pd.set_option('display.max_rows',150)\n",
    "sns.set_context('talk')\n",
    "sns.set_theme(style='white')"
   ]
  },
  {
   "cell_type": "markdown",
   "metadata": {},
   "source": [
    "## Lectura del dataset\n",
    "\n",
    "Cargamos el conjunto de datos procesado previamente."
   ]
  },
  {
   "cell_type": "code",
   "execution_count": null,
   "metadata": {},
   "outputs": [],
   "source": [
    "path = 'fifa2023.csv'\n",
    "df = pd.read_csv(path)"
   ]
  },
  {
   "cell_type": "code",
   "execution_count": null,
   "metadata": {},
   "outputs": [],
   "source": [
    "df.head()"
   ]
  },
  {
   "cell_type": "code",
   "execution_count": null,
   "metadata": {},
   "outputs": [],
   "source": [
    "# Como fue mencionado previamente, se decide eliminar a las arqueras de la clusterización\n",
    "df_mod = df[df['pos_gral'] != 'arq'].copy()\n",
    "\n",
    "# Se seleccionan las variables que se utilizarán para clusterizar.\n",
    "vars_mod = ['crossing', 'finishing', 'heading', 'short_passing', 'volleys', \n",
    "            'marking', 'standing_tackle', 'sliding_tackle', 'acceleration', \n",
    "            'sprint', 'agility', 'balance', 'shot_power', 'stamina', \n",
    "            'long_shots', 'dribbling', 'curve', 'fk_acc', 'long_passing', \n",
    "            'ball_control', 'aggression', 'interceptions', 'positioning', \n",
    "            'vision', 'penalties', 'composure', 'ls', 'st', 'rs', 'lw', 'lf', \n",
    "            'cf', 'rf', 'rw', 'lam', 'cam', 'ram', 'lm', 'lcm', 'cm', 'rcm', \n",
    "            'rm', 'ldm', 'cdm', 'rdm', 'lwb', 'rwb', 'lb', 'lcb', 'cb', 'rcb', \n",
    "            'rb']\n",
    "df_mod = df_mod[vars_mod]\n",
    "df_mod.shape"
   ]
  },
  {
   "cell_type": "code",
   "execution_count": null,
   "metadata": {},
   "outputs": [],
   "source": [
    "df_mod.head()"
   ]
  },
  {
   "cell_type": "markdown",
   "metadata": {},
   "source": [
    "# DBScan"
   ]
  },
  {
   "cell_type": "code",
   "execution_count": null,
   "metadata": {},
   "outputs": [],
   "source": [
    "db = DBSCAN(eps=70, min_samples=100).fit(df_mod)\n",
    "labels = db.labels_"
   ]
  },
  {
   "cell_type": "code",
   "execution_count": null,
   "metadata": {},
   "outputs": [],
   "source": [
    "# Number of clusters in labels, ignoring noise if present.\n",
    "n_clusters_ = len(set(labels)) - (1 if -1 in labels else 0)\n",
    "n_noise_ = list(labels).count(-1)\n",
    "\n",
    "print(\"Estimated number of clusters: %d\" % n_clusters_)\n",
    "print(\"Estimated number of noise points: %d\" % n_noise_)"
   ]
  },
  {
   "cell_type": "code",
   "execution_count": null,
   "metadata": {},
   "outputs": [],
   "source": [
    "skill_1='ball_control'\n",
    "skill_2='acceleration'"
   ]
  },
  {
   "cell_type": "code",
   "execution_count": null,
   "metadata": {},
   "outputs": [],
   "source": [
    "clusters = go.Scatter(x=df_mod[skill_1], y=df_mod[skill_2],\n",
    "                           mode='markers',\n",
    "                        text=df.loc[:,'name'],\n",
    "                           marker=dict(\n",
    "                                size=5,\n",
    "                                color = labels.astype(np.float), #set color equal to a variable\n",
    "                                colorscale='Portland',\n",
    "                                showscale=False)\n",
    "                           )\n",
    "\n",
    "data=[clusters]\n",
    "\n",
    "layout = go.Layout(title=\"Clustering DBScan\",titlefont=dict(size=20),\n",
    "                xaxis=dict(title=skill_1),\n",
    "                yaxis=dict(title=skill_2),\n",
    "                autosize=False, width=1000,height=650)\n",
    "\n",
    "fig = go.Figure(data=data, layout=layout)"
   ]
  },
  {
   "cell_type": "code",
   "execution_count": null,
   "metadata": {},
   "outputs": [],
   "source": [
    "fig.show()"
   ]
  },
  {
   "cell_type": "markdown",
   "metadata": {},
   "source": [
    "# GMM"
   ]
  },
  {
   "cell_type": "markdown",
   "metadata": {},
   "source": [
    "### Probamos con 3 componentes"
   ]
  },
  {
   "cell_type": "code",
   "execution_count": null,
   "metadata": {},
   "outputs": [],
   "source": [
    "gmm = GaussianMixture(n_components = 3)\n",
    " \n",
    "# Fit the GMM model for the dataset\n",
    "# which expresses the dataset as a\n",
    "# mixture of 3 Gaussian Distribution\n",
    "gmm.fit(df_mod)\n",
    " \n",
    "# Assign a label to each sample\n",
    "labels = gmm.predict(df_mod)"
   ]
  },
  {
   "cell_type": "code",
   "execution_count": null,
   "metadata": {},
   "outputs": [],
   "source": [
    "# Number of clusters in labels, ignoring noise if present.\n",
    "n_clusters_ = len(set(labels)) - (1 if -1 in labels else 0)\n",
    "n_noise_ = list(labels).count(-1)\n",
    "\n",
    "print(\"Estimated number of clusters: %d\" % n_clusters_)\n",
    "print(\"Estimated number of noise points: %d\" % n_noise_)"
   ]
  },
  {
   "cell_type": "code",
   "execution_count": null,
   "metadata": {},
   "outputs": [],
   "source": [
    "skill_1='ball_control'\n",
    "skill_2='acceleration'"
   ]
  },
  {
   "cell_type": "code",
   "execution_count": null,
   "metadata": {},
   "outputs": [],
   "source": [
    "clusters = go.Scatter(x=df_mod[skill_1], y=df_mod[skill_2],\n",
    "                           mode='markers',\n",
    "                        text=df.loc[:,'name'],\n",
    "                           marker=dict(\n",
    "                                size=5,\n",
    "                                color = labels.astype(np.float), #set color equal to a variable\n",
    "                                colorscale='Portland',\n",
    "                                showscale=False)\n",
    "                           )\n",
    "\n",
    "data=[clusters]\n",
    "\n",
    "layout = go.Layout(title=\"Clustering DBScan\",titlefont=dict(size=20),\n",
    "                xaxis=dict(title=skill_1),\n",
    "                yaxis=dict(title=skill_2),\n",
    "                autosize=False, width=1000,height=650)\n",
    "\n",
    "fig = go.Figure(data=data, layout=layout)"
   ]
  },
  {
   "cell_type": "code",
   "execution_count": null,
   "metadata": {},
   "outputs": [],
   "source": [
    "fig.show()"
   ]
  },
  {
   "cell_type": "markdown",
   "metadata": {},
   "source": [
    "### Vemos el porcentaje de jugadoras en cada cluster para diferentes cantidades de componentes entre 2 y 10"
   ]
  },
  {
   "cell_type": "code",
   "execution_count": null,
   "metadata": {},
   "outputs": [],
   "source": [
    "value_counts = []\n",
    "n_clusters=np.arange(2, 11)\n",
    "sils=[]\n",
    "sils_err=[]\n",
    "for n in n_clusters:\n",
    "    gmm=GaussianMixture(n, n_init=2, random_state=42).fit(df_mod) \n",
    "    labels=gmm.predict(df_mod)\n",
    "    value_counts.append(pd.DataFrame(labels).value_counts(normalize=True).reset_index(drop=True))"
   ]
  },
  {
   "cell_type": "code",
   "execution_count": null,
   "metadata": {},
   "outputs": [],
   "source": [
    "df_clusters = pd.DataFrame(value_counts).reset_index(drop=True)\n",
    "df_clusters.insert(loc=0, column='n_components', value=np.arange(2,11))\n",
    "df_clusters\n"
   ]
  },
  {
   "cell_type": "markdown",
   "metadata": {},
   "source": [
    "Seleccionamos n=5 ya que con más componentes se encuentran clusters con menos del 10% de las jugadoras. Además, con 5 clusters no hay mucha variación en el porcentaje de jugadoras por cluster."
   ]
  },
  {
   "cell_type": "code",
   "execution_count": null,
   "metadata": {},
   "outputs": [],
   "source": [
    "n = 5\n",
    "gmm = GaussianMixture(n, n_init=2, random_state=42).fit(df_mod) \n",
    "labels = gmm.predict(df_mod)"
   ]
  },
  {
   "cell_type": "code",
   "execution_count": null,
   "metadata": {},
   "outputs": [],
   "source": [
    "df_res = df[df['pos_gral'] != 'arq'].copy()\n",
    "df_res['cluster'] = labels"
   ]
  },
  {
   "cell_type": "code",
   "execution_count": null,
   "metadata": {},
   "outputs": [],
   "source": [
    "df_res.cluster.value_counts(normalize=True)"
   ]
  },
  {
   "cell_type": "code",
   "execution_count": null,
   "metadata": {},
   "outputs": [],
   "source": [
    "df_res.groupby('cluster')[vars_mod].mean()"
   ]
  },
  {
   "cell_type": "code",
   "execution_count": null,
   "metadata": {},
   "outputs": [],
   "source": [
    "sns.boxplot(x='cluster', y='overall', data=df_res)\n",
    "plt.show()"
   ]
  },
  {
   "cell_type": "code",
   "execution_count": null,
   "metadata": {},
   "outputs": [],
   "source": [
    "for col in vars_mod:\n",
    "    sns.boxplot(x='cluster', y=col, data=df_res)\n",
    "    plt.show()"
   ]
  },
  {
   "cell_type": "code",
   "execution_count": null,
   "metadata": {},
   "outputs": [],
   "source": [
    "for n in range(5):\n",
    "    print(n)\n",
    "    df_c = df_res[df_res['cluster']==n]\n",
    "    print(df_c.position.value_counts(normalize=True))"
   ]
  },
  {
   "cell_type": "code",
   "execution_count": null,
   "metadata": {},
   "outputs": [],
   "source": [
    "for pos in df_res.position.unique():\n",
    "    print(pos)\n",
    "    df_p = df_res[df_res['position']==pos]\n",
    "    print(df_p.cluster.value_counts(normalize=True))"
   ]
  },
  {
   "cell_type": "code",
   "execution_count": null,
   "metadata": {},
   "outputs": [],
   "source": [
    "clusters = go.Scatter(x=df_mod[skill_1], y=df_mod[skill_2],\n",
    "                           mode='markers',\n",
    "                        text=df.loc[:,'name'],\n",
    "                           marker=dict(\n",
    "                                size=5,\n",
    "                                color = labels.astype(np.float), #set color equal to a variable\n",
    "                                colorscale='Portland',\n",
    "                                showscale=False)\n",
    "                           )\n",
    "\n",
    "data=[clusters]\n",
    "\n",
    "layout = go.Layout(title=\"Clustering GMM\",titlefont=dict(size=20),\n",
    "                xaxis=dict(title=skill_1),\n",
    "                yaxis=dict(title=skill_2),\n",
    "                autosize=False, width=1000,height=650)\n",
    "\n",
    "fig = go.Figure(data=data, layout=layout)\n",
    "fig.show()"
   ]
  },
  {
   "cell_type": "markdown",
   "metadata": {},
   "source": [
    "# PCA"
   ]
  },
  {
   "cell_type": "code",
   "execution_count": null,
   "metadata": {},
   "outputs": [],
   "source": [
    "std_scale=preprocessing.StandardScaler().fit(df_mod)\n",
    "X_scaled=std_scale.transform(df_mod)"
   ]
  },
  {
   "cell_type": "code",
   "execution_count": null,
   "metadata": {},
   "outputs": [],
   "source": [
    "pca=decomposition.PCA(n_components=3)\n",
    "\n",
    "pca.fit(X_scaled) #input data is centered but not scaled for each feature before applying the SVD\n",
    "\n",
    "# proporción de varianza\n",
    "print('proporción de varianza por componente: ', pca.explained_variance_ratio_)\n",
    "# proporción de varianza acumulada\n",
    "print ('proporción de varianza por componente acumulada: ', pca.explained_variance_ratio_.cumsum())\n",
    "\n",
    "X_projected=pca.transform(X_scaled) #numpy array\n",
    "print ('tamaño de los datos: ', X_projected.shape)"
   ]
  },
  {
   "cell_type": "code",
   "execution_count": null,
   "metadata": {},
   "outputs": [],
   "source": [
    "pcs=pca.components_  #\"composición\" de las componentes"
   ]
  },
  {
   "cell_type": "code",
   "execution_count": null,
   "metadata": {},
   "outputs": [],
   "source": [
    "data=[]\n",
    "\n",
    "for i, (x,y) in enumerate(zip(pcs[0,:],pcs[1,:])):\n",
    "    graph=go.Scatter(x=[0,x],y=[0,y],text=df_mod.columns[i],\n",
    "                     mode='lines+markers+text',textposition='top left',textfont=dict(family='sans serif',size=15))\n",
    "    data.append(graph)\n",
    "\n",
    "layout = go.Layout(title=\"ACP - Fifa Skills\",titlefont=dict(size=20),\n",
    "            xaxis=dict(title='Componente 1'),\n",
    "            yaxis=dict(title='Componente 2'),\n",
    "            autosize=False, width=1050,height=750,\n",
    "            showlegend=False)\n",
    "\n",
    "fig = go.Figure(data=data, layout=layout)\n",
    "fig.show()"
   ]
  },
  {
   "cell_type": "code",
   "execution_count": null,
   "metadata": {},
   "outputs": [],
   "source": [
    "df_projected = pd.DataFrame(X_projected)"
   ]
  },
  {
   "cell_type": "code",
   "execution_count": null,
   "metadata": {},
   "outputs": [],
   "source": [
    "df_projected['position'] = df['position']\n",
    "df_projected['crack'] = df['overall'].apply(lambda x: 0 if x<80 else 1)\n",
    "df_projected['cluster'] = labels"
   ]
  },
  {
   "cell_type": "code",
   "execution_count": null,
   "metadata": {},
   "outputs": [],
   "source": [
    "plt.figure(figsize=(20,10))\n",
    "sns.scatterplot(data=df_projected, x=0, y=1, hue='cluster')\n",
    "plt.grid()\n",
    "plt.show()"
   ]
  },
  {
   "cell_type": "code",
   "execution_count": null,
   "metadata": {},
   "outputs": [],
   "source": [
    "plt.figure(figsize=(20,10))\n",
    "sns.scatterplot(data=df_projected, x=0, y=1, hue='crack')\n",
    "plt.grid()\n",
    "plt.show()"
   ]
  }
 ],
 "metadata": {
  "kernelspec": {
   "display_name": "Python 3",
   "language": "python",
   "name": "python3"
  },
  "language_info": {
   "codemirror_mode": {
    "name": "ipython",
    "version": 3
   },
   "file_extension": ".py",
   "mimetype": "text/x-python",
   "name": "python",
   "nbconvert_exporter": "python",
   "pygments_lexer": "ipython3",
   "version": "3.9.7"
  },
  "orig_nbformat": 4
 },
 "nbformat": 4,
 "nbformat_minor": 2
}
