{
 "cells": [
  {
   "attachments": {},
   "cell_type": "markdown",
   "metadata": {},
   "source": [
    "# Diplomatura en ciencia de datos, aprendizaje automático y sus aplicaciones - Edición 2023 - FAMAF (UNC)"
   ]
  },
  {
   "attachments": {},
   "cell_type": "markdown",
   "metadata": {},
   "source": [
    "## Aprendizaje no supervisado\n",
    "\n",
    "### Trabajo práctico entregable - Grupo 22 - FIFA female players 2023\n",
    "\n",
    "**Integrantes:**\n",
    "- Chevallier-Boutell, Ignacio José\n",
    "- Ribetto, Federico Daniel\n",
    "- Rosa, Santiago\n",
    "- Spano, Marcelo\n",
    "\n",
    "**Seguimiento:** Meinardi, Vanesa\n",
    "\n",
    "---"
   ]
  },
  {
   "attachments": {},
   "cell_type": "markdown",
   "metadata": {},
   "source": [
    "## Librerías\n",
    "\n",
    "Inicializamos el entorno"
   ]
  },
  {
   "cell_type": "code",
   "execution_count": null,
   "metadata": {},
   "outputs": [],
   "source": [
    "import numpy as np\n",
    "import pandas as pd\n",
    "import matplotlib.pyplot as plt\n",
    "import seaborn as sns\n",
    "import missingno as msno\n",
    "\n",
    "pd.set_option('display.max_columns', 150)\n",
    "pd.set_option('display.max_rows',150)\n",
    "sns.set_context('talk')\n",
    "sns.set_theme(style='white')"
   ]
  },
  {
   "cell_type": "markdown",
   "metadata": {},
   "source": [
    "## Lectura del dataset\n",
    "\n",
    "Cargamos el conjunto de datos y vemos su contenido."
   ]
  },
  {
   "cell_type": "code",
   "execution_count": null,
   "metadata": {},
   "outputs": [],
   "source": [
    "path = 'female_players.csv'\n",
    "fifa = pd.read_csv(path)"
   ]
  },
  {
   "cell_type": "markdown",
   "metadata": {},
   "source": [
    "---\n",
    "# Exploración y visualización"
   ]
  },
  {
   "cell_type": "markdown",
   "metadata": {},
   "source": [
    "## Tamaño del dataset"
   ]
  },
  {
   "cell_type": "code",
   "execution_count": null,
   "metadata": {},
   "outputs": [],
   "source": [
    "print(f'La base de datos original consta de {fifa.shape[0]} registros y {fifa.shape[1]} variables.')\n",
    "\n",
    "print(f\"Tiene datos desde la versión {fifa['fifa_version'].min()} hasta la versión {fifa['fifa_version'].max()}\")\n",
    "\n",
    "print('\\n\\nComo nos interesan sólo las jugadoras del 2023, filtramos el dataset para quedarnos con este subconjunto.')\n",
    "\n",
    "fifa23 = fifa[fifa['fifa_version'] == 23].copy()\n",
    "\n",
    "print(f'La base de datos 2023 consta de {fifa23.shape[0]} registros y {fifa23.shape[1]} variables.')\n",
    "\n",
    "fifa23"
   ]
  },
  {
   "cell_type": "markdown",
   "metadata": {},
   "source": [
    "## Reducción de variables"
   ]
  },
  {
   "cell_type": "markdown",
   "metadata": {},
   "source": [
    "Vamos a eliminar aquellas columnas que creemos que no serán relevantes para nuestro objetivo.\n",
    "\n",
    "**Nota:** Algunas son eliminadas por el simple hecho de que no se cuenta con una descripción precisa de la variable y/o porque son superadas por otras variables. Éstas son: `pace`, `shooting`, `passing`, `dribbling`, `defending` y `physic`."
   ]
  },
  {
   "cell_type": "code",
   "execution_count": null,
   "metadata": {},
   "outputs": [],
   "source": [
    "fifa23.drop(inplace=True, columns=['player_id', 'player_url', 'fifa_version', \n",
    "            'fifa_update', 'fifa_update_date', 'long_name', 'value_eur', \n",
    "            'wage_eur', 'dob', 'league_id', 'league_name', 'league_level', \n",
    "            'club_team_id', 'club_name', 'club_position', 'club_jersey_number', \n",
    "            'club_loaned_from', 'club_joined_date', \n",
    "            'club_contract_valid_until_year', 'nationality_id', \n",
    "            'nation_team_id', 'nation_position', 'nation_jersey_number', \n",
    "            'weight_kg', 'skill_moves', 'international_reputation', 'body_type',\n",
    "            'real_face', 'release_clause_eur', 'player_tags', 'player_traits', \n",
    "            'player_face_url', 'pace', 'shooting', 'passing', 'dribbling', \n",
    "            'defending', 'physic'])"
   ]
  },
  {
   "cell_type": "code",
   "execution_count": null,
   "metadata": {},
   "outputs": [],
   "source": [
    "print(f'Ahora tenemos {fifa23.shape[1]} variables ({110-fifa23.shape[1]} menos).')\n",
    "\n",
    "fifa23"
   ]
  },
  {
   "cell_type": "markdown",
   "metadata": {},
   "source": [
    "## Datos faltantes"
   ]
  },
  {
   "cell_type": "markdown",
   "metadata": {},
   "source": [
    "Tenemos valores faltantes en `pace`, `shooting`, `passing`, `dribbling`, `defending`, `physic` y `goalkeeping_speed`. Entre las primeras 6 variables el mapa de calor de missingno nos arroja un valor de +1.00, lo cual indica que existe una probabilidad del 100% de que cuando falte un valor en la variable que está en la fila, va a faltar en la variable que está en la columna. Por ejemplo, cuando falta en `shooting`, también falta en `pace` y así. Para el caso de la variable `goalkeeping_speed` pasa lo opuesto, ya que tiene un valor de -1.00: siempre que falte un dato en esta variable, no faltará el dato asociado a las otras variables."
   ]
  },
  {
   "cell_type": "code",
   "execution_count": null,
   "metadata": {},
   "outputs": [],
   "source": [
    "msno.heatmap(fifa23, fontsize=12, figsize=(6, 5))\n",
    "plt.show()"
   ]
  },
  {
   "cell_type": "markdown",
   "metadata": {},
   "source": [
    "Acá ejemplificamos lo que acabamos de decir."
   ]
  },
  {
   "cell_type": "code",
   "execution_count": null,
   "metadata": {},
   "outputs": [],
   "source": [
    "faltantes = ['pace', 'shooting', 'passing', 'dribbling', 'defending', 'physic', 'goalkeeping_speed']\n",
    "fifa23[faltantes].iloc[45:55]"
   ]
  },
  {
   "cell_type": "markdown",
   "metadata": {},
   "source": [
    "Analizando los datos faltantes, están asociados a ser o no ser arquera. Esto lleva a que podríamos diferenciar el dataset entre arqueras y no arqueras. También esto nos da una pauta de qué características responden a alguien que recorre la cancha respecto a alguien que se queda al arco."
   ]
  },
  {
   "cell_type": "code",
   "execution_count": null,
   "metadata": {},
   "outputs": [],
   "source": [
    "fifa23[faltantes].info()\n",
    "\n",
    "print(f\"\\n\\nCantidad de arqueras: {len(fifa23[fifa23['player_positions'] == 'GK'])}\")"
   ]
  },
  {
   "cell_type": "markdown",
   "metadata": {},
   "source": [
    "## Discriminación entre arqueras y no arqueras"
   ]
  },
  {
   "cell_type": "markdown",
   "metadata": {},
   "source": []
  },
  {
   "cell_type": "code",
   "execution_count": null,
   "metadata": {},
   "outputs": [],
   "source": []
  },
  {
   "cell_type": "markdown",
   "metadata": {},
   "source": [
    "## Transformación de variables"
   ]
  },
  {
   "cell_type": "markdown",
   "metadata": {},
   "source": [
    "El `work_rate` de cada jugadora tiene el formato ataque/defensa, catalogando cada uno en `Low`, `Medium` y `High`. Desglosamos esta variable en 2 variables diferentes: `att_work_rate` y `def_work_rate`. Luego, eliminamos la variable original."
   ]
  },
  {
   "cell_type": "code",
   "execution_count": null,
   "metadata": {},
   "outputs": [],
   "source": [
    "fifa23['att_work_rate'] = [i.split('/')[0] for i in fifa23['work_rate']]\n",
    "fifa23['def_work_rate'] = [i.split('/')[1] for i in fifa23['work_rate']]\n",
    "fifa23.drop(columns=['work_rate'],inplace=True)"
   ]
  },
  {
   "cell_type": "markdown",
   "metadata": {},
   "source": [
    "Los puntajes de las posiciones aparecen con sumas y restas. Queremos que sean sólo enteros."
   ]
  },
  {
   "cell_type": "code",
   "execution_count": null,
   "metadata": {},
   "outputs": [],
   "source": [
    "fifa23[['ls', 'st', 'rs', 'lw', 'lf', 'cf', 'rf', 'rw', 'lam', 'cam', 'ram', \n",
    "       'lm', 'lcm', 'cm', 'rcm', 'rm', 'lwb', 'ldm', 'cdm', 'rdm', 'rwb', \n",
    "       'lb', 'lcb', 'cb', 'rcb', 'rb', 'gk']]"
   ]
  },
  {
   "cell_type": "code",
   "execution_count": null,
   "metadata": {},
   "outputs": [],
   "source": [
    "for col in ['ls', 'st', 'rs', 'lw', 'lf', 'cf', 'rf', 'rw', 'lam', 'cam', 'ram',\n",
    "            'lm', 'lcm', 'cm', 'rcm', 'rm', 'lwb', 'ldm', 'cdm', 'rdm', 'rwb', \n",
    "            'lb', 'lcb', 'cb', 'rcb', 'rb', 'gk']:\n",
    "    new = []\n",
    "    for i in fifa23[col]:\n",
    "        if len(i.split('+')) == 2:\n",
    "            new.append(int(i.split('+')[0])+int(i.split('+')[1]))\n",
    "        elif len(i.split('-')) == 2:\n",
    "            new.append(int(i.split('-')[0])-int(i.split('-')[1]))\n",
    "        else:\n",
    "            new.append(int(i))\n",
    "\n",
    "    fifa23[col] = new"
   ]
  },
  {
   "cell_type": "code",
   "execution_count": null,
   "metadata": {},
   "outputs": [],
   "source": [
    "fifa23[['ls', 'st', 'rs', 'lw', 'lf', 'cf', 'rf', 'rw', 'lam', 'cam', 'ram', \n",
    "       'lm', 'lcm', 'cm', 'rcm', 'rm', 'lwb', 'ldm', 'cdm', 'rdm', 'rwb', \n",
    "       'lb', 'lcb', 'cb', 'rcb', 'rb', 'gk']]"
   ]
  },
  {
   "cell_type": "markdown",
   "metadata": {},
   "source": [
    "## Simplificación de variables"
   ]
  },
  {
   "cell_type": "markdown",
   "metadata": {},
   "source": [
    "Vamos a simplificar el nombre de varias variables."
   ]
  },
  {
   "cell_type": "code",
   "execution_count": null,
   "metadata": {},
   "outputs": [],
   "source": [
    "fifa23.columns"
   ]
  },
  {
   "cell_type": "code",
   "execution_count": null,
   "metadata": {},
   "outputs": [],
   "source": [
    "{'short_name', \n",
    " 'player_positions', \n",
    "'height_cm', \n",
    "'nationality_name', \n",
    "'preferred_foot', \n",
    "'weak_foot', \n",
    "'shooting', \n",
    "'passing', \n",
    "'dribbling', \n",
    "'defending', \n",
    "'physic',\n",
    "'attacking_crossing', \n",
    "'attacking_finishing', \n",
    "'attacking_heading_accuracy', \n",
    "'attacking_short_passing',\n",
    "'attacking_volleys', \n",
    "'skill_dribbling', \n",
    "'skill_curve', \n",
    "'skill_fk_accuracy', \n",
    "'skill_long_passing', \n",
    "'skill_ball_control', \n",
    "'movement_acceleration', \n",
    "'movement_sprint_speed', \n",
    "'movement_agility', \n",
    "'movement_reactions', \n",
    "'movement_balance', \n",
    "'power_shot_power', \n",
    "'power_jumping', \n",
    "'power_stamina', \n",
    "'power_strength', \n",
    "'power_long_shots', \n",
    "'mentality_aggression', \n",
    "'mentality_interceptions', \n",
    "'mentality_positioning', \n",
    "'mentality_vision', \n",
    "'mentality_penalties', \n",
    "'mentality_composure', \n",
    "'defending_marking_awareness', \n",
    "'defending_standing_tackle', \n",
    "'defending_sliding_tackle', \n",
    "'goalkeeping_diving', \n",
    "'goalkeeping_handling', \n",
    "'goalkeeping_kicking', \n",
    "'goalkeeping_positioning', \n",
    "'goalkeeping_reflexes', \n",
    "'goalkeeping_speed', \n",
    "'att_work_rate', \n",
    "'def_work_rate'}"
   ]
  },
  {
   "cell_type": "code",
   "execution_count": null,
   "metadata": {},
   "outputs": [],
   "source": [
    "fifa23.rename(columns = {'short_name' : 'name', 'player_positions' : 'position', \n",
    "                         'height_cm' : 'height', \n",
    "                         'nationality_name' : 'nationality'}, inplace = True)\n",
    "\n",
    "\n",
    "# ventas_clean = ventas_clean[['ID_VENDEDOR', 'INSCRIPCION', 'SUB-CATEGORIA', \n",
    "#                              'DESC_TRATAMIENTO_FISCAL', 'TRATAMIENTO_FISCAL',\n",
    "#                              'TRATAMIENTO_DIFERNCIAL', 'CM04', 'AÑO', 'MES', \n",
    "#                              'DEPOSITO', 'TOTAL_VENTAS', \n",
    "#                              'PORCENTAJE_COMISION_EMPRESA', \n",
    "#                              'COMISION_EMPRESA', 'MODELO']]\n",
    "# ['name', 'position', 'overall', 'potential', 'age', 'height',\n",
    "# 'nationality', 'preferred_foot', 'weak_foot', 'work_rate', 'pace',\n",
    "# 'shooting', 'passing', 'dribbling', 'defending', 'physic',\n",
    "# 'attacking_crossing', 'attacking_finishing',\n",
    "# 'attacking_heading_accuracy', 'attacking_short_passing',\n",
    "# 'attacking_volleys', 'skill_dribbling', 'skill_curve',\n",
    "# 'skill_fk_accuracy', 'skill_long_passing', 'skill_ball_control',\n",
    "# 'movement_acceleration', 'movement_sprint_speed', 'movement_agility',\n",
    "# 'movement_reactions', 'movement_balance', 'power_shot_power',\n",
    "# 'power_jumping', 'power_stamina', 'power_strength', 'power_long_shots',\n",
    "# 'mentality_aggression', 'mentality_interceptions',\n",
    "# 'mentality_positioning', 'mentality_vision', 'mentality_penalties',\n",
    "# 'mentality_composure', 'defending_marking_awareness',\n",
    "# 'defending_standing_tackle', 'defending_sliding_tackle',\n",
    "# 'goalkeeping_diving', 'goalkeeping_handling', 'goalkeeping_kicking',\n",
    "# 'goalkeeping_positioning', 'goalkeeping_reflexes', 'goalkeeping_speed',\n",
    "# 'ls', 'st', 'rs', 'lw', 'lf', 'cf', 'rf', 'rw', 'lam', 'cam', 'ram',\n",
    "# 'lm', 'lcm', 'cm', 'rcm', 'rm', 'lwb', 'ldm', 'cdm', 'rdm', 'rwb', 'lb',\n",
    "# 'lcb', 'cb', 'rcb', 'rb', 'gk']\n",
    "\n",
    "\n",
    "fifa23"
   ]
  },
  {
   "cell_type": "markdown",
   "metadata": {},
   "source": []
  },
  {
   "cell_type": "code",
   "execution_count": null,
   "metadata": {},
   "outputs": [],
   "source": []
  }
 ],
 "metadata": {
  "kernelspec": {
   "display_name": "Python 3 (ipykernel)",
   "language": "python",
   "name": "python3"
  },
  "language_info": {
   "codemirror_mode": {
    "name": "ipython",
    "version": 3
   },
   "file_extension": ".py",
   "mimetype": "text/x-python",
   "name": "python",
   "nbconvert_exporter": "python",
   "pygments_lexer": "ipython3",
   "version": "3.10.12"
  }
 },
 "nbformat": 4,
 "nbformat_minor": 4
}
