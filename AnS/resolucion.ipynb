{
 "cells": [
  {
   "attachments": {},
   "cell_type": "markdown",
   "metadata": {},
   "source": [
    "# Diplomatura en ciencia de datos, aprendizaje automático y sus aplicaciones - Edición 2023 - FAMAF (UNC)"
   ]
  },
  {
   "attachments": {},
   "cell_type": "markdown",
   "metadata": {},
   "source": [
    "## Aprendizaje no supervisado\n",
    "\n",
    "### Trabajo práctico entregable - Grupo 22 - FIFA female players 2023\n",
    "\n",
    "**Integrantes:**\n",
    "- Chevallier-Boutell, Ignacio José\n",
    "- Ribetto, Federico Daniel\n",
    "- Rosa, Santiago\n",
    "- Spano, Marcelo\n",
    "\n",
    "**Seguimiento:** Meinardi, Vanesa\n",
    "\n",
    "---"
   ]
  },
  {
   "attachments": {},
   "cell_type": "markdown",
   "metadata": {},
   "source": [
    "## Librerías\n",
    "\n",
    "Inicializamos el entorno"
   ]
  },
  {
   "cell_type": "code",
   "execution_count": null,
   "metadata": {},
   "outputs": [],
   "source": [
    "import numpy as np\n",
    "import pandas as pd\n",
    "import matplotlib.pyplot as plt\n",
    "import seaborn as sns\n",
    "import missingno as msno\n",
    "\n",
    "pd.set_option('display.max_columns', 150)\n",
    "pd.set_option('display.max_rows',150)\n",
    "sns.set_context('talk')\n",
    "sns.set_theme(style='white')"
   ]
  },
  {
   "cell_type": "markdown",
   "metadata": {},
   "source": [
    "## Lectura del dataset\n",
    "\n",
    "Cargamos el conjunto de datos y vemos su contenido."
   ]
  },
  {
   "cell_type": "code",
   "execution_count": null,
   "metadata": {},
   "outputs": [],
   "source": [
    "path = 'female_players.csv'\n",
    "fifa = pd.read_csv(path)"
   ]
  },
  {
   "cell_type": "markdown",
   "metadata": {},
   "source": [
    "---\n",
    "# Pretratamiento"
   ]
  },
  {
   "cell_type": "markdown",
   "metadata": {},
   "source": [
    "## Tamaño del dataset"
   ]
  },
  {
   "cell_type": "code",
   "execution_count": null,
   "metadata": {},
   "outputs": [],
   "source": [
    "print(f'La base de datos original consta de {fifa.shape[0]} registros y {fifa.shape[1]} variables.')\n",
    "\n",
    "print(f\"Tiene datos desde la versión {fifa['fifa_version'].min()} hasta la versión {fifa['fifa_version'].max()}\")\n",
    "\n",
    "print('\\n\\nComo nos interesan sólo las jugadoras del 2023, filtramos el dataset para quedarnos con este subconjunto.')\n",
    "\n",
    "fifa23 = fifa[fifa['fifa_version'] == 23].copy()\n",
    "\n",
    "print(f'La base de datos 2023 consta de {fifa23.shape[0]} registros y {fifa23.shape[1]} variables.')\n",
    "\n",
    "fifa23"
   ]
  },
  {
   "cell_type": "markdown",
   "metadata": {},
   "source": [
    "## Reducción de variables"
   ]
  },
  {
   "cell_type": "markdown",
   "metadata": {},
   "source": [
    "Vamos a eliminar aquellas columnas que creemos que no serán relevantes para nuestro objetivo."
   ]
  },
  {
   "cell_type": "code",
   "execution_count": null,
   "metadata": {},
   "outputs": [],
   "source": [
    "fifa23.drop(inplace=True, columns=['player_id', 'player_url', 'fifa_version', \n",
    "            'fifa_update', 'fifa_update_date', 'long_name', 'value_eur', \n",
    "            'wage_eur', 'dob', 'league_id', 'league_name', 'league_level', \n",
    "            'club_team_id', 'club_name', 'club_position', 'club_jersey_number', \n",
    "            'club_loaned_from', 'club_joined_date', \n",
    "            'club_contract_valid_until_year', 'nationality_id', \n",
    "            'nation_team_id', 'nation_position', 'nation_jersey_number', \n",
    "            'weight_kg', 'skill_moves', 'international_reputation', 'body_type',\n",
    "            'real_face', 'release_clause_eur', 'player_tags', 'player_traits', \n",
    "            'player_face_url'])"
   ]
  },
  {
   "cell_type": "code",
   "execution_count": null,
   "metadata": {},
   "outputs": [],
   "source": [
    "print(f'Ahora tenemos {fifa23.shape[1]} variables ({110-fifa23.shape[1]} menos).')\n",
    "\n",
    "fifa23"
   ]
  },
  {
   "cell_type": "markdown",
   "metadata": {},
   "source": [
    "## Datos faltantes"
   ]
  },
  {
   "cell_type": "markdown",
   "metadata": {},
   "source": [
    "Tenemos valores faltantes en `pace`, `shooting`, `passing`, `dribbling`, `defending`, `physic` y `goalkeeping_speed`. Entre las primeras 6 variables el mapa de calor de missingno nos arroja un valor de +1.00, lo cual indica que existe una probabilidad del 100% de que cuando falte un valor en la variable que está en la fila, va a faltar en la variable que está en la columna. Por ejemplo, cuando falta en `shooting`, también falta en `pace` y así. Para el caso de la variable `goalkeeping_speed` pasa lo opuesto, ya que tiene un valor de -1.00: siempre que falte un dato en esta variable, no faltará el dato asociado a las otras variables."
   ]
  },
  {
   "cell_type": "code",
   "execution_count": null,
   "metadata": {},
   "outputs": [],
   "source": [
    "msno.heatmap(fifa23, fontsize=12, figsize=(6, 5))\n",
    "plt.show()"
   ]
  },
  {
   "cell_type": "markdown",
   "metadata": {},
   "source": [
    "Acá ejemplificamos lo que acabamos de decir."
   ]
  },
  {
   "cell_type": "code",
   "execution_count": null,
   "metadata": {},
   "outputs": [],
   "source": [
    "faltantes = ['pace', 'shooting', 'passing', 'dribbling', 'defending', 'physic', 'goalkeeping_speed']\n",
    "fifa23[faltantes].iloc[45:55]"
   ]
  },
  {
   "cell_type": "markdown",
   "metadata": {},
   "source": [
    "Analizando los datos faltantes, están asociados a ser o no ser arquera. Esto lleva a que podríamos diferenciar el dataset entre arqueras y no arqueras. También esto nos da una pauta de qué características responden a alguien que recorre la cancha respecto a alguien que se queda al arco."
   ]
  },
  {
   "cell_type": "code",
   "execution_count": null,
   "metadata": {},
   "outputs": [],
   "source": [
    "fifa23[faltantes].info()\n",
    "\n",
    "print(f\"\\n\\nCantidad de arqueras: {len(fifa23[fifa23['player_positions'] == 'GK'])}\")"
   ]
  },
  {
   "cell_type": "markdown",
   "metadata": {},
   "source": [
    "**Nota:** Además de lo que acabamos de ver, no se cuenta con una descripción precisa para las variables `pace`, `shooting`, `passing`, `dribbling`, `defending` y `physic`. En algunos casos, son superadas por otras variables. Se decide entonces eliminar estas variables."
   ]
  },
  {
   "cell_type": "code",
   "execution_count": null,
   "metadata": {},
   "outputs": [],
   "source": [
    "fifa23.drop(inplace=True, columns=['pace', 'shooting', 'passing', 'dribbling', \n",
    "                                   'defending', 'physic'])"
   ]
  },
  {
   "cell_type": "markdown",
   "metadata": {},
   "source": [
    "## Simplificación de valores en variables"
   ]
  },
  {
   "cell_type": "markdown",
   "metadata": {},
   "source": [
    "El `work_rate` de cada jugadora tiene el formato ataque/defensa, catalogando cada uno en `Low`, `Medium` y `High`. Desglosamos esta variable en 2 variables diferentes: `att_work_rate` y `def_work_rate`. Luego, eliminamos la variable original."
   ]
  },
  {
   "cell_type": "code",
   "execution_count": null,
   "metadata": {},
   "outputs": [],
   "source": [
    "fifa23['att_work_rate'] = [i.split('/')[0] for i in fifa23['work_rate']]\n",
    "fifa23['def_work_rate'] = [i.split('/')[1] for i in fifa23['work_rate']]\n",
    "fifa23.drop(columns=['work_rate'],inplace=True)"
   ]
  },
  {
   "cell_type": "markdown",
   "metadata": {},
   "source": [
    "Los puntajes de las posiciones aparecen con sumas y restas. Queremos que sean sólo enteros."
   ]
  },
  {
   "cell_type": "code",
   "execution_count": null,
   "metadata": {},
   "outputs": [],
   "source": [
    "for col in ['ls', 'st', 'rs', 'lw', 'lf', 'cf', 'rf', 'rw', 'lam', 'cam', 'ram',\n",
    "            'lm', 'lcm', 'cm', 'rcm', 'rm', 'lwb', 'ldm', 'cdm', 'rdm', 'rwb', \n",
    "            'lb', 'lcb', 'cb', 'rcb', 'rb', 'gk']:\n",
    "    new = []\n",
    "    for i in fifa23[col]:\n",
    "        if len(i.split('+')) == 2:\n",
    "            new.append(int(i.split('+')[0])+int(i.split('+')[1]))\n",
    "        elif len(i.split('-')) == 2:\n",
    "            new.append(int(i.split('-')[0])-int(i.split('-')[1]))\n",
    "        else:\n",
    "            new.append(int(i))\n",
    "\n",
    "    fifa23[col] = new"
   ]
  },
  {
   "cell_type": "markdown",
   "metadata": {},
   "source": [
    "## Simplificación de variables"
   ]
  },
  {
   "cell_type": "markdown",
   "metadata": {},
   "source": [
    "Vamos a simplificar el nombre de varias variables."
   ]
  },
  {
   "cell_type": "code",
   "execution_count": null,
   "metadata": {},
   "outputs": [],
   "source": [
    "varsdic = {'short_name' : 'name', 'player_positions' : 'position', \n",
    "           'height_cm' : 'height', 'nationality_name' : 'nationality', \n",
    "           'attacking_crossing' : 'crossing', \n",
    "           'attacking_finishing' : 'finishing', \n",
    "           'attacking_heading_accuracy' : 'heading', \n",
    "           'attacking_short_passing' : 'short_passing', \n",
    "           'attacking_volleys' : 'volleys', 'skill_dribbling' : 'dribbling', \n",
    "           'skill_curve' : 'curve', 'skill_fk_accuracy' : 'fk_acc', \n",
    "           'skill_long_passing' : 'long_passing', \n",
    "           'skill_ball_control' : 'ball_control', \n",
    "           'movement_acceleration' : 'acceleration', \n",
    "           'movement_sprint_speed' : 'sprint', 'movement_agility' : 'agility', \n",
    "           'movement_reactions' : 'reactions', 'movement_balance' : 'balance', \n",
    "           'power_shot_power' : 'shot_power', 'power_jumping' : 'jumping', \n",
    "           'power_stamina' : 'stamina', 'power_strength' : 'strength', \n",
    "           'power_long_shots' : 'long_shots', \n",
    "           'mentality_aggression' : 'aggression', \n",
    "           'mentality_interceptions' : 'interceptions', \n",
    "           'mentality_positioning' : 'positioning', \n",
    "           'mentality_vision' : 'vision', 'mentality_penalties' : 'penalties', \n",
    "           'mentality_composure' : 'composure', \n",
    "           'defending_marking_awareness' : 'marking', \n",
    "           'defending_standing_tackle' : 'standing_tackle', \n",
    "           'defending_sliding_tackle' : 'sliding_tackle', \n",
    "           'goalkeeping_diving' : 'diving', 'goalkeeping_handling' : 'handling', \n",
    "           'goalkeeping_kicking' : 'kicking_gk', \n",
    "           'goalkeeping_positioning' : 'positioning_gk', \n",
    "           'goalkeeping_reflexes' : 'reflexes', \n",
    "           'goalkeeping_speed' : 'speed_gk'}"
   ]
  },
  {
   "cell_type": "code",
   "execution_count": null,
   "metadata": {},
   "outputs": [],
   "source": [
    "fifa23.rename(columns = varsdic, inplace = True)"
   ]
  },
  {
   "cell_type": "code",
   "execution_count": null,
   "metadata": {},
   "outputs": [],
   "source": [
    "# Se reordenan las columnas\n",
    "fifa23 = fifa23[['name', 'nationality', 'age', 'height', 'position', \n",
    "                 'preferred_foot', 'weak_foot', 'att_work_rate', \n",
    "                 'def_work_rate', 'overall', 'potential', 'crossing', \n",
    "                 'finishing', 'heading', 'short_passing', 'volleys', 'marking', \n",
    "                 'standing_tackle', 'sliding_tackle', 'acceleration', 'sprint', \n",
    "                 'agility', 'reactions', 'balance', 'shot_power', 'jumping', \n",
    "                 'stamina', 'strength', 'long_shots', 'dribbling', 'curve', \n",
    "                 'fk_acc', 'long_passing', 'ball_control', 'aggression', \n",
    "                 'interceptions', 'positioning', 'vision', 'penalties', \n",
    "                 'composure', 'diving', 'handling', 'kicking_gk', \n",
    "                 'positioning_gk', 'reflexes', 'speed_gk', 'ls', 'st', 'rs', \n",
    "                 'lw', 'lf', 'cf', 'rf', 'rw', 'lam', 'cam', 'ram', 'lm', \n",
    "                 'lcm', 'cm', 'rcm', 'rm', 'lwb', 'ldm', 'cdm', 'rdm', 'rwb', \n",
    "                 'lb', 'lcb', 'cb', 'rcb', 'rb', 'gk']]\n",
    "\n",
    "fifa23"
   ]
  },
  {
   "cell_type": "markdown",
   "metadata": {},
   "source": [
    "## Guardado del dataset\n",
    "\n",
    "El dataset que guardamos consta de 7425 registros con 73 variables."
   ]
  },
  {
   "cell_type": "code",
   "execution_count": null,
   "metadata": {},
   "outputs": [],
   "source": [
    "fifa23.to_csv('fifa2023.csv', index=False)"
   ]
  },
  {
   "cell_type": "markdown",
   "metadata": {},
   "source": [
    "## Diccionario\n",
    "\n",
    "Diccionario del dataset generado hasta ahora."
   ]
  },
  {
   "cell_type": "markdown",
   "metadata": {},
   "source": [
    "> Identificación de la jugadora\n",
    "* `name`: nombre de la jugadora. Se usará sólo para identificar los resultados.\n",
    "* `nationality`: nacionalidad de la jugadora. Se usará sólo para identificar los resultados.\n",
    "* `age`: edad de la jugadora.\n",
    "* `height`: altura de la jugadora, en centímetros.\n",
    "\n",
    "> Características generales\n",
    "* `position`: posición en la cancha de la jugadora, denotada con siglas. Puede tener más de una. Cada una de estas opciones representa a su vez una variable que determina el puntaje asignado en dicha posición, del 1 al 99. Las posibilidades son:\n",
    "    * `ls`: pateadora izquierda.\n",
    "    * `st`: pateadora central.\n",
    "    * `rs`: pateadora derecha.\n",
    "    * `lw`: volante delantera izquierda.\n",
    "    * `lf`: delantera izquierda.\n",
    "    * `cf`: delantera central.\n",
    "    * `rf`: delantera derecha.\n",
    "    * `rw`: volante delantera derecha.\n",
    "    * `lam`: mediocampista ofensiva izquierda.\n",
    "    * `cam`: mediocampista ofensiva central.\n",
    "    * `ram`: mediocampista ofensiva derecha.\n",
    "    * `lm`: mediocampista izquierda.\n",
    "    * `lcm`: mediocampista centro-izquierda.\n",
    "    * `cm`: mediocampista central.\n",
    "    * `rcm`: mediocampista centro-derecha.\n",
    "    * `rm`: mediocampista derecha.\n",
    "    * `lwb`: volante defensora izquierda.\n",
    "    * `ldm`: mediocampista defensiva izquierda.\n",
    "    * `cdm`: mediocampista defensiva central.\n",
    "    * `rdm`: mediocampista defensiva derecha.\n",
    "    * `rwb`: volante defensora izquierda.\n",
    "    * `lb`: defensora izquierda.\n",
    "    * `lcb`: defensora centro-izquierda.\n",
    "    * `cb`: defensora central.\n",
    "    * `rcb`: defensora centro-derecha.\n",
    "    * `rb`: defensora derecha.\n",
    "    * `gk`: arquera.\n",
    "* `preferred_foot`: pie más hábil (izquierdo o derecho).\n",
    "* `weak_foot`: qué tan bien juega con su pie menos hábil, puntuado del 1 al 5.\n",
    "* `att_work_rate`: qué tanto se esfuerza la jugadora en términos ofensivos. Se evalua como low, medium y high.\n",
    "* `def_work_rate`: qué tanto se esfuerza la jugadora en términos defensivos. Se evalua como low, medium y high.\n",
    "* `overall`: desempeño general y valoración de la jugadora, basado en las habilidades por posición y en su reputación internacional. Valores desde 1 a 99.\n",
    "* `potential`: calificación general máxima que se espera que alcance la jugadora en la cima de su carrera. Valores desde 1 a 99.\n",
    "\n",
    "> Características ofensivas\n",
    "* `crossing`: habilidad para hacer un pase largo desde los lados hacia el centro. Valores desde 1 a 99.\n",
    "* `finishing`: habilidad para concretar un gol. Valores desde 1 a 99.\n",
    "* `heading`: habilidad para dar pases o hacer goles, usando la cabeza. Valores desde 1 a 99.\n",
    "* `short_passing`: exactitud con que la jugadora da pases cortos. Valores desde 1 a 99.\n",
    "* `volleys`: habilidad para hacer voleas. Valores desde 1 a 99.\n",
    "\n",
    "> Características defensivas\n",
    "* `marking`: habilidad de aplicar estrategias que prevengan que el equipo contrario tome la pelota. Valores desde 1 a 99.\n",
    "* `standing_tackle`: capacidad de quitarle la pelota a la rival, manteniéndose de pie. Valores desde 1 a 99.\n",
    "* `sliding_tackle`: capacidad de quitarle la pelota a la rival, deslizándose por el suelo. Valores desde 1 a 99.\n",
    "\n",
    "> Movimientos\n",
    "* `acceleration`: qué tan rápido alcanza su máxima velocidad. Valores desde 1 a 99.\n",
    "* `sprint`: velocidad de pique. Valores desde 1 a 99.\n",
    "* `agility`: destreza de la jugadora a la hora de moverse, teniendo el control de la pelota. Valores desde 1 a 99.\n",
    "* `reactions`: velocidad de reacción de la jugadora a su entorno. Valores desde 1 a 99.\n",
    "* `balance`: habilidad de la jugadora para mantenerse estable mientras corre, lleva y controla la pelota. Valores desde 1 a 99.\n",
    "\n",
    "> Potencia\n",
    "* `shot_power`: potencia de la jugadora al patear la pelota. Valores desde 1 a 99.\n",
    "* `jumping`: potencia de la jugadora al saltar. Valores desde 1 a 99.\n",
    "* `stamina`: resistencia de la jugadora (durabilidad en un mismo partido). Valores desde 1 a 99.\n",
    "* `strength`: fuerza física de la jugadora. Valores desde 1 a 99.\n",
    "* `long_shots`: exactitud de la jugadora al hacer pases largos. Valores desde 1 a 99.\n",
    "\n",
    "> Habilidades físicas\n",
    "* `dribbling`: habilidad para desplazarse sin perder la pelota. Valores desde 1 a 99.\n",
    "* `curve`: habilidad de patear una pelota curva al pasar o al apuntar al arco. Valores desde 1 a 99.\n",
    "* `fk_acc`: habilidad para hacer gol desde un tiro libre. Valores desde 1 a 99.\n",
    "* `long_passing`: habilidad para hacer pases largos. Valores desde 1 a 99.\n",
    "* `ball_control`: habilidad para controlar la pelota. Valores desde 1 a 99.\n",
    "\n",
    "> Otras destrezas\n",
    "* `aggression`: nivel de agresividad de la jugadora a la hora de empujar, tirar o quitar la pelota. Valores desde 1 a 99.\n",
    "* `interceptions`: habilidad de la jugadora para interceptar la pelota cuando se la pasan entre las del equipo contrario. Valores desde 1 a 99.\n",
    "* `positioning`: habilidad para situarse en la posición adecuada al momento de recibir la pelota o anotar goles. Valores desde 1 a 99.\n",
    "* `vision`: conciencia de la jugadora respecto a las demás jugadoras de su equipo para hacer jugadas en conjunto. Valores desde 1 a 99.\n",
    "* `penalties`: habilidad para hacer gol en un penal. Valores desde 1 a 99.\n",
    "* `composure`: habilidad de la jugadora para mantener la calma y manejar la frustración dentro durante el partido. Valores desde 1 a 99.\n",
    "\n",
    "> Habilidades como arquera\n",
    "* `diving`: habilidad de la arquera para tirarse de palomita. Valores desde 1 a 99.\n",
    "* `handling`: habildiad de la arquera para manipular la pelota (con las manos). Valores desde 1 a 99.\n",
    "* `kicking_gk`: habildiad de la arquera para manipular la pelota (con los pies). Valores desde 1 a 99.\n",
    "* `positioning_gk`: habilidad de la arquera para situarse en la posición adecuada al momento de recibir la pelota. Valores desde 1 a 99.\n",
    "* `reflexes`: velocidad en los reflejos de la arquera. Valores desde 1 a 99.\n",
    "* `speed_gk`: velocidad en los movimientos de la arquera. Valores desde 1 a 99."
   ]
  },
  {
   "cell_type": "markdown",
   "metadata": {},
   "source": [
    "---\n",
    "# Exploración y visualización"
   ]
  },
  {
   "cell_type": "code",
   "execution_count": null,
   "metadata": {},
   "outputs": [],
   "source": [
    "if 'fifa23' not in locals():\n",
    "    import numpy as np\n",
    "    import pandas as pd\n",
    "    import matplotlib.pyplot as plt\n",
    "    import seaborn as sns\n",
    "    import missingno as msno\n",
    "\n",
    "    pd.set_option('display.max_columns', 150)\n",
    "    pd.set_option('display.max_rows',150)\n",
    "    sns.set_context('talk')\n",
    "    sns.set_theme(style='white')\n",
    "    \n",
    "    fifa23 = pd.read_csv('fifa2023.csv')\n",
    "\n",
    "fifa23"
   ]
  },
  {
   "cell_type": "markdown",
   "metadata": {},
   "source": [
    "## Delanteras"
   ]
  },
  {
   "cell_type": "markdown",
   "metadata": {},
   "source": [
    "* `ls`: pateadora izquierda.\n",
    "    * `st`: pateadora central.\n",
    "    * `rs`: pateadora derecha.\n",
    "    * `lw`: volante delantera izquierda.\n",
    "    * `lf`: delantera izquierda.\n",
    "    * `cf`: delantera central.\n",
    "    * `rf`: delantera derecha.\n",
    "    * `rw`: volante delantera derecha.\n",
    "    * `lam`: mediocampista ofensiva izquierda.\n",
    "    * `cam`: mediocampista ofensiva central.\n",
    "    * `ram`: mediocampista ofensiva derecha.\n",
    "    * `lm`: mediocampista izquierda.\n",
    "    * `lcm`: mediocampista centro-izquierda.\n",
    "    * `cm`: mediocampista central.\n",
    "    * `rcm`: mediocampista centro-derecha.\n",
    "    * `rm`: mediocampista derecha.\n",
    "    * `lwb`: volante defensora izquierda.\n",
    "    * `ldm`: mediocampista defensiva izquierda.\n",
    "    * `cdm`: mediocampista defensiva central.\n",
    "    * `rdm`: mediocampista defensiva derecha.\n",
    "    * `rwb`: volante defensora izquierda.\n",
    "    * `lb`: defensora izquierda.\n",
    "    * `lcb`: defensora centro-izquierda.\n",
    "    * `cb`: defensora central.\n",
    "    * `rcb`: defensora centro-derecha.\n",
    "    * `rb`: defensora derecha.\n",
    "    * `gk`: arquera."
   ]
  },
  {
   "cell_type": "code",
   "execution_count": null,
   "metadata": {},
   "outputs": [],
   "source": [
    "delanteras = fifa23[fifa23['position'] == 'CDM']\n",
    "delanteras"
   ]
  },
  {
   "cell_type": "markdown",
   "metadata": {},
   "source": [
    "## Mediocampistas"
   ]
  },
  {
   "cell_type": "markdown",
   "metadata": {},
   "source": []
  },
  {
   "cell_type": "code",
   "execution_count": null,
   "metadata": {},
   "outputs": [],
   "source": []
  },
  {
   "cell_type": "markdown",
   "metadata": {},
   "source": [
    "## Defensoras"
   ]
  },
  {
   "cell_type": "markdown",
   "metadata": {},
   "source": []
  },
  {
   "cell_type": "code",
   "execution_count": null,
   "metadata": {},
   "outputs": [],
   "source": []
  },
  {
   "cell_type": "markdown",
   "metadata": {},
   "source": [
    "## Arqueras"
   ]
  },
  {
   "cell_type": "markdown",
   "metadata": {},
   "source": []
  },
  {
   "cell_type": "code",
   "execution_count": null,
   "metadata": {},
   "outputs": [],
   "source": []
  }
 ],
 "metadata": {
  "kernelspec": {
   "display_name": "Python 3 (ipykernel)",
   "language": "python",
   "name": "python3"
  },
  "language_info": {
   "codemirror_mode": {
    "name": "ipython",
    "version": 3
   },
   "file_extension": ".py",
   "mimetype": "text/x-python",
   "name": "python",
   "nbconvert_exporter": "python",
   "pygments_lexer": "ipython3",
   "version": "3.10.12"
  }
 },
 "nbformat": 4,
 "nbformat_minor": 4
}
