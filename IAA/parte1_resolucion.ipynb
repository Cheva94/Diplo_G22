{
 "cells": [
  {
   "attachments": {},
   "cell_type": "markdown",
   "metadata": {},
   "source": [
    "# Diplomatura en ciencia de datos, aprendizaje automático y sus aplicaciones - Edición 2023 - FAMAF (UNC)"
   ]
  },
  {
   "attachments": {},
   "cell_type": "markdown",
   "metadata": {},
   "source": [
    "## Introducción al aprendizaje automático\n",
    "\n",
    "### Trabajo práctico entregable - Grupo 22 - Parte 1: Regresión en California\n",
    "\n",
    "**Integrantes:**\n",
    "- Chevallier-Boutell, Ignacio José\n",
    "- Ribetto, Federico Daniel\n",
    "- Rosa, Santiago\n",
    "- Spano, Marcelo\n",
    "\n",
    "**Seguimiento:** Meinardi, Vanesa\n",
    "\n",
    "---"
   ]
  },
  {
   "attachments": {},
   "cell_type": "markdown",
   "metadata": {},
   "source": [
    "## Librerías"
   ]
  },
  {
   "cell_type": "code",
   "execution_count": null,
   "metadata": {},
   "outputs": [],
   "source": [
    "import matplotlib.pyplot as plt\n",
    "import numpy as np\n",
    "import pandas as pd\n",
    "import seaborn as sns\n",
    "from sqlalchemy import create_engine, text\n",
    "\n",
    "pd.set_option('display.max_columns', None)\n",
    "pd.set_option('display.max_rows', None)\n",
    "pd.set_option('display.width', 1000)\n",
    "pd.options.mode.chained_assignment = None  # default='warn'\n",
    "\n",
    "sns.set_context('talk')\n",
    "sns.set_theme(style='white')"
   ]
  },
  {
   "attachments": {},
   "cell_type": "markdown",
   "metadata": {},
   "source": [
    "## Dataset"
   ]
  },
  {
   "attachments": {},
   "cell_type": "markdown",
   "metadata": {},
   "source": [
    "### Lectura del dataset"
   ]
  },
  {
   "attachments": {},
   "cell_type": "markdown",
   "metadata": {},
   "source": [
    "Cargamos el conjunto de datos y vemos su contenido."
   ]
  },
  {
   "cell_type": "code",
   "execution_count": null,
   "metadata": {},
   "outputs": [],
   "source": [
    "from sklearn.datasets import fetch_california_housing\n",
    "\n",
    "# Treamos la data (matriz con los datos de entrada / atributos) en X\n",
    "# y el target (vector de valores a predecir) en y, ambos como pandas DataFrame\n",
    "X, y = fetch_california_housing(return_X_y=True, as_frame=True)\n",
    "\n",
    "# Traemos todo el dataset, con toda su descripción\n",
    "california = fetch_california_housing()"
   ]
  },
  {
   "cell_type": "code",
   "execution_count": null,
   "metadata": {},
   "outputs": [],
   "source": [
    "print(california['DESCR'])  # Descripción del dataset"
   ]
  },
  {
   "cell_type": "code",
   "execution_count": null,
   "metadata": {},
   "outputs": [],
   "source": [
    "display(X.head())\n",
    "X.shape"
   ]
  },
  {
   "cell_type": "code",
   "execution_count": null,
   "metadata": {},
   "outputs": [],
   "source": [
    "display(y.head())\n",
    "y.shape"
   ]
  },
  {
   "attachments": {},
   "cell_type": "markdown",
   "metadata": {},
   "source": [
    "### Segmentación del dataset: conjunto de entrenamiento y conjunto de evaluación"
   ]
  },
  {
   "attachments": {},
   "cell_type": "markdown",
   "metadata": {},
   "source": [
    "Dividimos aleatoriamente los datos en 80% para entrenamiento y 20% para evaluación. Nos quedan entonces 16.512 registros para entrenar y 4.128 para evaluar."
   ]
  },
  {
   "cell_type": "code",
   "execution_count": null,
   "metadata": {},
   "outputs": [],
   "source": [
    "from sklearn.model_selection import train_test_split\n",
    "\n",
    "X_train, X_test, y_train, y_test = train_test_split(X, y, train_size=0.8, random_state=0)\n",
    "X_train.shape, X_test.shape"
   ]
  },
  {
   "attachments": {},
   "cell_type": "markdown",
   "metadata": {},
   "source": [
    "---\n",
    "# Ejercicio 1 - Descripción cualitativa"
   ]
  },
  {
   "attachments": {},
   "cell_type": "markdown",
   "metadata": {},
   "source": [
    "### Pregunta 1 - ¿De qué se trata el conjunto de datos?"
   ]
  },
  {
   "attachments": {},
   "cell_type": "markdown",
   "metadata": {},
   "source": [
    "Utilizaremos el conjunto de datos *California house prices dataset* disponible en `sklearn`, obtenido a su vez del repositorio `StatLib`. En el mismo se ha recolectado información basada en el censo de California de 1990, donde cada fila representa un **grupo de bloques** (aunque quizás no sea totalmente correcto, de ahora en más nos referiremos a esto como **distrito**), *i.e.* la menor unidad geográfica para la cual la oficina de censos de EE.UU. publica datos, conteniendo entre 600 y 3.000 personas. Por otro lado, una vivienda (*household*) implica un grupo de personas que viven dentro de la misma casa."
   ]
  },
  {
   "attachments": {},
   "cell_type": "markdown",
   "metadata": {},
   "source": [
    "### Pregunta 2 - ¿Cuál es la variable objetivo que hay que predecir? ¿Qué significado tiene?"
   ]
  },
  {
   "attachments": {},
   "cell_type": "markdown",
   "metadata": {},
   "source": [
    "La variable que pretende predecir este dataset nos indica la mediana del valor de las casas para los diferentes distritos en California, expresados en US$ 100.000."
   ]
  },
  {
   "attachments": {},
   "cell_type": "markdown",
   "metadata": {},
   "source": [
    "### Pregunta 3 - ¿Qué información (atributos) hay disponibles para hacer la predicción?"
   ]
  },
  {
   "attachments": {},
   "cell_type": "markdown",
   "metadata": {},
   "source": [
    "En el dataset tenemos 8 variables predictoras:\n",
    "1. MedInc: mediana del salario dentro del distrito.\n",
    "2. HouseAge: mediana de la antigüedad de las casas dentro del distrito.\n",
    "3. AveRooms: cantidad promedio de habitaciones por vivienda.\n",
    "4. AveBedrms: cantidad promedio de cuartos por vivienda.\n",
    "5. Population: población dentro del distrito.\n",
    "6. AveOccup: cantidad promedio de personas que viven dentro de la vivienda.\n",
    "7. Latitude y Longitude: ubicación geográfica del distrito.\n",
    "\n",
    "Para cada uno de estos atributos, contamos con 20.640 registros, lo cual nos lleva a una matriz de atributos de tamaño 20.640 $\\times$ 8."
   ]
  },
  {
   "attachments": {},
   "cell_type": "markdown",
   "metadata": {},
   "source": [
    "### Pregunta 4 - ¿Qué atributos imagina ud. que serán los más determinantes para la predicción?"
   ]
  },
  {
   "attachments": {},
   "cell_type": "markdown",
   "metadata": {},
   "source": [
    "Dado que el conjunto de datos pretende predecir el costo de las casas según el distrito, imaginamos que los atributos más influyentes serán:\n",
    "- MedInc: a mayor ingreso, mayor es el valor de la vivienda a la que alguien puede aspirar. \n",
    "- HouseAge: cuanto más vieja la propiedad, esta puede ser más barata.\n",
    "- Latitude y Longitude: seguramente existan diferencias en los precios entre barrios y eso nos lo puede dar la latitud y longitud."
   ]
  },
  {
   "attachments": {},
   "cell_type": "markdown",
   "metadata": {},
   "source": [
    "### Pregunta 5 - ¿Qué problemas observa a priori en el conjunto de datos? ¿Observa posibles sesgos, riesgos, dilemas éticos, etc? Piense que los datos pueden ser utilizados para hacer predicciones futuras."
   ]
  },
  {
   "attachments": {},
   "cell_type": "markdown",
   "metadata": {},
   "source": [
    "Dado que se tienen los valores promedios de habitaciones y cuartos por vivienda, los autores previenen que las columnas pueden presentar valores extremos por distrito con pocas viviendas así como muchas viviendas vacías, *e.g.* lugares para vacacionar.\n",
    "\n",
    "> **¿Algún otro problema?**"
   ]
  },
  {
   "attachments": {},
   "cell_type": "markdown",
   "metadata": {},
   "source": [
    "---\n",
    "# Ejercicio 2 - Visualización"
   ]
  },
  {
   "attachments": {},
   "cell_type": "markdown",
   "metadata": {},
   "source": [
    "A continuación se realiza un scatterplot para la variable objetivo en función de cada uno de los atributos.\n",
    "\n",
    "A simple vista, se puede sacar las siguientes conclusiones:\n",
    "* Hay una relación creciente entre la variable MedInc (promedio del ingreso) y la variable objetivo.\n",
    "* En el caso de la Latitud y Longitud se puede observar que existen algunos rangos para los cuales la variable objetivo toma valores más bajos que para otros. \n",
    "Esto se puede observar para latitudes cercanas a 36 y superiores a 39 y para longitudes cercanas a -120, menores a -123 y mayores a -116.\n",
    "\n",
    "Para el resto de las variables es difícil sacar una conclusión con este tipo de gráficos ya que son muy ruidosos y, particularmente, AveRooms, AveBedrms, Population y AveOccup presentan valores extremos que terminan ocultando posibles tendencias."
   ]
  },
  {
   "cell_type": "code",
   "execution_count": null,
   "metadata": {},
   "outputs": [],
   "source": [
    "features = X.columns\n",
    "\n",
    "row, col = 0, 0\n",
    "fig, axs = plt.subplots(2,4, figsize=(16, 10))  \n",
    "for i in range(len(features)):\n",
    "    row = i // 4  # Calculate the row index\n",
    "    col = i % 4   # Calculate the column index\n",
    "    axs[row, col].scatter(X[features[i]], y, facecolor=\"dodgerblue\", edgecolor=\"k\", label=\"datos\")\n",
    "    axs[row, col].grid()\n",
    "    axs[row, col].set_axisbelow(True)  # Set the grid behind the plot\n",
    "    # Add y-axis label only for the first column in each row\n",
    "    if col == 0:\n",
    "        axs[row, col].set_ylabel(\"MedHouseVal\")\n",
    "    axs[row, col].set_xlabel(features[i])  # Add subplot title\n",
    "plt.show()"
   ]
  },
  {
   "attachments": {},
   "cell_type": "markdown",
   "metadata": {},
   "source": [
    "A continuación se realizó otra representación. Cada atributo se dividió en 8 cuantiles y se realizaron boxplots de la variable objetivo para observar sus diferencias.\n",
    "\n",
    "La ventaja de estos gráficos es que podemos observar las diferencias en las medianas para cada cuantil así como la dispersión de valores.\n",
    "\n",
    "A ojo se puede concluir:\n",
    "* MedInc: La mediana para cada cuantil es creciente, lo cual refuerza lo visto en el scatterplot y la conclusión de que esta variable y la variable objetivo poseen una relación creciente.\n",
    "* HouseAge: No parece haber una dependencia importante en la variable objetivo con la antigüedad promedio de las casas. Se puede observar un ligero crecimiento en la mediana para el último cuantil.\n",
    "* AveRooms: Para los cuantiles 0 a 4 no se aprecia una diferencia de comportamiento para la variable objetivo. Sin embargo, a partir del cuantil 5 se observa un crecimiento en la mediana lo que indica una relación creciente entre ambas variables.\n",
    "* AveBedrms: No parece haber una dependencia importante en la variable objetivo con la edad promedio de las casas. Se puede observar un ligero decrecimiento en la mediana para los últimos 3 cuantiles.\n",
    "* Population: No parece haber una dependencia importante en la variable objetivo con la población. Se puede observar una disminución en la dispersión para los últimos cuantiles lo que indica que para se alcanzan precios menores que para el resto.\n",
    "* AveOccup: Se observa una ligera disminución en la mediana para cada cuantil, además de una disminución en la dispersión. Esto permite intuir que debe haber una dependencia decreciente entre la variable objetivo y la ocupación promedio.\n",
    "* Latitude: Se puede observar que para los cuantiles 4 y 7 la variable objetivo tiende a ser menor que para el resto de los cuantiles.\n",
    "* Longitude: Se puede observar que para los cuantiles 2, 3 y 7 la variable objetivo tiende a ser menor que para el resto de los cuantiles."
   ]
  },
  {
   "cell_type": "code",
   "execution_count": null,
   "metadata": {},
   "outputs": [],
   "source": [
    "fig, axs = plt.subplots(2,4, figsize=(16, 10))  \n",
    "for i in range(len(features)):\n",
    "    row = i // 4  # Calculate the row index\n",
    "    col = i % 4   # Calculate the column index\n",
    "    X['quantile'] = pd.qcut(X[features[i]], 8)\n",
    "    sns.boxplot(X, x=X['quantile'], y=y, ax=axs[row,col])\n",
    "    axs[row, col].grid()\n",
    "    axs[row, col].set_axisbelow(True)  # Set the grid behind the plot\n",
    "    # Add y-axis label only for the first column in each row\n",
    "    if col == 0:\n",
    "        axs[row, col].set_ylabel(\"MedHouseVal\")\n",
    "    axs[row, col].set_xlabel(features[i])  # Add subplot title\n",
    "    axs[row, col].set_xticklabels(axs[row, col].get_xticks())\n",
    "plt.show()"
   ]
  },
  {
   "attachments": {},
   "cell_type": "markdown",
   "metadata": {},
   "source": [
    "A partir de las conclusiones anteriores, creemos que el orden de importancia (de mayor a menor) es el siguiente:\n",
    "1. MedInc\n",
    "2. AveRooms\n",
    "3. Longitude y Latitude (tienen igual peso)\n",
    "4. AveOccup\n",
    "5. HouseAge\n",
    "6. Population\n",
    "7. AveBedrms"
   ]
  },
  {
   "attachments": {},
   "cell_type": "markdown",
   "metadata": {},
   "source": [
    "---\n",
    "# Ejercicio 3 - Regresión Lineal"
   ]
  },
  {
   "attachments": {},
   "cell_type": "markdown",
   "metadata": {},
   "source": [
    "> Consigna: inicio.\n",
    "\n",
    "1. Seleccione **un solo atributo** que considere puede ser el más apropiado.\n",
    "2. Instancie una regresión lineal de **scikit-learn**, y entrénela usando sólo el atributo seleccionado.\n",
    "3. Evalúe, calculando error cuadrático medio para los conjuntos de entrenamiento y evaluación.\n",
    "4. Grafique el modelo resultante, junto con los puntos de entrenamiento y evaluación.\n",
    "5. Interprete el resultado, haciendo algún comentario sobre las cualidades del modelo obtenido.\n",
    "\n",
    "**Observación:** Con algunos atributos se puede obtener un error en test menor a 50.\n",
    "\n",
    "> Consigna: fin."
   ]
  },
  {
   "cell_type": "code",
   "execution_count": null,
   "metadata": {},
   "outputs": [],
   "source": [
    "# 1. Resolver acá. Ayuda:\n",
    "feature = 'HouseAge'  # selecciono el atributo 'HouseAge'\n",
    "#selector = california['feature_names'].index(feature)\n",
    "selector = (np.array(california['feature_names']) ==  feature)\n",
    "X_train_f = X_train[:, selector]\n",
    "X_test_f = X_test[:, selector]\n",
    "X_train_f.shape, X_test_f.shape"
   ]
  },
  {
   "cell_type": "code",
   "execution_count": null,
   "metadata": {},
   "outputs": [],
   "source": [
    "X_train_f[1]"
   ]
  },
  {
   "cell_type": "code",
   "execution_count": null,
   "metadata": {},
   "outputs": [],
   "source": [
    "# 2. Instanciar y entrenar acá."
   ]
  },
  {
   "cell_type": "code",
   "execution_count": null,
   "metadata": {},
   "outputs": [],
   "source": [
    "# 3. Predecir y evaluar acá."
   ]
  },
  {
   "cell_type": "code",
   "execution_count": null,
   "metadata": {},
   "outputs": [],
   "source": [
    "# 4. Graficar acá. Ayuda:\n",
    "x_start = min(np.min(X_train_f), np.min(X_test_f))\n",
    "x_end = max(np.max(X_train_f), np.max(X_test_f))\n",
    "x = np.linspace(x_start, x_end, 200).reshape(-1, 1)\n",
    "# plt.plot(x, model.predict(x), color=\"tomato\", label=\"modelo\")\n",
    "\n",
    "plt.scatter(X_train_f, y_train, facecolor=\"dodgerblue\", edgecolor=\"k\", label=\"train\")\n",
    "plt.scatter(X_test_f, y_test, facecolor=\"white\", edgecolor=\"k\", label=\"test\")\n",
    "plt.title(feature)\n",
    "plt.legend()\n",
    "plt.show()"
   ]
  },
  {
   "cell_type": "raw",
   "metadata": {},
   "source": [
    "**5. Responder acá**"
   ]
  },
  {
   "attachments": {},
   "cell_type": "markdown",
   "metadata": {},
   "source": [
    "---\n",
    "# Ejercicio 4 - Regresión Polinomial"
   ]
  },
  {
   "attachments": {},
   "cell_type": "markdown",
   "metadata": {},
   "source": [
    "> Consigna: inicio.\n",
    "\n",
    "En este ejercicio deben entrenar regresiones polinomiales de diferente complejidad, siempre usando **scikit-learn**.\n",
    "\n",
    "Deben usar **el mismo atributo** seleccionado para el ejercicio anterior.\n",
    "\n",
    "1. Para varios grados de polinomio, haga lo siguiente:\n",
    "    1. Instancie y entrene una regresión polinomial.\n",
    "    2. Prediga y calcule error en entrenamiento y evaluación. Imprima los valores.\n",
    "    3. Guarde los errores en una lista.\n",
    "2. Grafique las curvas de error en términos del grado del polinomio.\n",
    "3. Interprete la curva, identificando el punto en que comienza a haber sobreajuste, si lo hay.\n",
    "4. Seleccione el modelo que mejor funcione, y grafique el modelo conjuntamente con los puntos.\n",
    "5. Interprete el resultado, haciendo algún comentario sobre las cualidades del modelo obtenido.\n",
    "\n",
    "**Observación:** Con algunos atributos se pueden obtener errores en test menores a 40 e incluso a 35.\n",
    "\n",
    "> Consigna: fin."
   ]
  },
  {
   "cell_type": "code",
   "execution_count": null,
   "metadata": {},
   "outputs": [],
   "source": [
    "# 1. Resolver acá."
   ]
  },
  {
   "cell_type": "code",
   "execution_count": null,
   "metadata": {},
   "outputs": [],
   "source": [
    "# 2. Graficar curvas de error acá."
   ]
  },
  {
   "cell_type": "raw",
   "metadata": {},
   "source": [
    "**3. Responder acá**"
   ]
  },
  {
   "cell_type": "code",
   "execution_count": null,
   "metadata": {},
   "outputs": [],
   "source": [
    "# 4. Reconstruir mejor modelo acá y graficar."
   ]
  },
  {
   "cell_type": "raw",
   "metadata": {},
   "source": [
    "**5. Responder acá**"
   ]
  },
  {
   "attachments": {},
   "cell_type": "markdown",
   "metadata": {},
   "source": [
    "---\n",
    "# Ejercicio 5 - Regresión con más de un Atributo"
   ]
  },
  {
   "attachments": {},
   "cell_type": "markdown",
   "metadata": {},
   "source": [
    "> Consigna: inicio.\n",
    "\n",
    "En este ejercicio deben entrenar regresiones que toman más de un atributo de entrada.\n",
    "\n",
    "1. Seleccione **dos o tres atributos** entre los más relevantes encontrados en el ejercicio 2.\n",
    "2. Repita el ejercicio anterior, pero usando los atributos seleccionados. No hace falta graficar el modelo final.\n",
    "3. Interprete el resultado y compare con los ejercicios anteriores. ¿Se obtuvieron mejores modelos? ¿Porqué?\n",
    "\n",
    "> Consigna: fin."
   ]
  },
  {
   "cell_type": "code",
   "execution_count": null,
   "metadata": {},
   "outputs": [],
   "source": [
    "# 1. Resolver acá. Ayuda (con dos atributos):\n",
    "selector = (np.array(california['feature_names']) == 'HouseAge') | (np.array(california['feature_names']) == 'AveRooms')\n",
    "\n",
    "X_train_fs = X_train[:, selector]\n",
    "X_test_fs = X_test[:, selector]\n",
    "X_train_fs.shape, X_test_fs.shape"
   ]
  },
  {
   "cell_type": "code",
   "execution_count": null,
   "metadata": {},
   "outputs": [],
   "source": [
    "# 2. Resolver acá."
   ]
  },
  {
   "cell_type": "raw",
   "metadata": {},
   "source": [
    "**3. Responder acá.**"
   ]
  }
 ],
 "metadata": {
  "kernelspec": {
   "display_name": "Python 3 (ipykernel)",
   "language": "python",
   "name": "python3"
  },
  "language_info": {
   "codemirror_mode": {
    "name": "ipython",
    "version": 3
   },
   "file_extension": ".py",
   "mimetype": "text/x-python",
   "name": "python",
   "nbconvert_exporter": "python",
   "pygments_lexer": "ipython3",
   "version": "3.10.6"
  }
 },
 "nbformat": 4,
 "nbformat_minor": 4
}
