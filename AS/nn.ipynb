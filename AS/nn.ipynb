{
 "cells": [
  {
   "cell_type": "markdown",
   "metadata": {
    "id": "I8ATtHkdth7t"
   },
   "source": [
    "# DiploDatos Kaggle Competition"
   ]
  },
  {
   "cell_type": "code",
   "execution_count": 22,
   "metadata": {
    "id": "yFhBWSnYth74"
   },
   "outputs": [],
   "source": [
    "import pandas as pd\n",
    "import numpy as np\n",
    "import matplotlib.pyplot as plt\n",
    "import seaborn as sns\n",
    "import joblib\n",
    "import random\n",
    "\n",
    "import torch\n",
    "import torch.nn as nn\n",
    "from torch.utils.data import DataLoader\n",
    "from torch.utils.data import Dataset\n",
    "\n",
    "# from sklearn.preprocessing import StandardScaler, OneHotEncoder\n",
    "# from sklearn.compose import ColumnTransformer\n",
    "# from sklearn.impute import SimpleImputer\n",
    "from sklearn.model_selection import train_test_split, GridSearchCV, StratifiedKFold\n",
    "# from sklearn.metrics import accuracy_score, ConfusionMatrixDisplay, classification_report"
   ]
  },
  {
   "cell_type": "markdown",
   "metadata": {
    "id": "Xvo9-M0Gth78"
   },
   "source": [
    "## Leer el dataset"
   ]
  },
  {
   "cell_type": "markdown",
   "metadata": {
    "id": "t0VfCzaLth79"
   },
   "source": [
    "### Train"
   ]
  },
  {
   "cell_type": "markdown",
   "metadata": {
    "id": "RhtwOHy9th7-"
   },
   "source": [
    "Cargamos los datos de entrenamiento que vamos a utilizar para generar nuestro modelo."
   ]
  },
  {
   "cell_type": "code",
   "execution_count": 2,
   "metadata": {
    "id": "ktnJ_L6Sth7_"
   },
   "outputs": [
    {
     "name": "stdout",
     "output_type": "stream",
     "text": [
      "(95000, 10)\n",
      "             patient           age  hypertension  heart_disease           bmi  \\\n",
      "count   95000.000000  95000.000000  95000.000000   95000.000000  95000.000000   \n",
      "mean    50016.501389     41.935269      0.075074       0.039463     27.320879   \n",
      "std     28868.357071     22.514788      0.263512       0.194695      6.626335   \n",
      "min         1.000000      0.080000      0.000000       0.000000     10.010000   \n",
      "25%     25021.750000     24.000000      0.000000       0.000000     23.650000   \n",
      "50%     50024.000000     43.000000      0.000000       0.000000     27.320000   \n",
      "75%     75024.250000     60.000000      0.000000       0.000000     29.580000   \n",
      "max    100000.000000     80.000000      1.000000       1.000000     95.690000   \n",
      "\n",
      "        HbA1c_level  blood_glucose_level      diabetes  \n",
      "count  95000.000000         95000.000000  95000.000000  \n",
      "mean       5.527659           138.070537      0.085074  \n",
      "std        1.070261            40.739962      0.278993  \n",
      "min        3.500000            80.000000      0.000000  \n",
      "25%        4.800000           100.000000      0.000000  \n",
      "50%        5.800000           140.000000      0.000000  \n",
      "75%        6.200000           159.000000      0.000000  \n",
      "max        9.000000           300.000000      1.000000  \n"
     ]
    }
   ],
   "source": [
    "df = pd.read_csv('data/diabetes_prediction_dataset_train-labeled.csv')\n",
    "print(df.shape)\n",
    "print(df.describe())"
   ]
  },
  {
   "cell_type": "markdown",
   "metadata": {
    "id": "nVh8RyBwth8I"
   },
   "source": [
    "#### Separamos a las columnas en numéricas y categóricas"
   ]
  },
  {
   "cell_type": "code",
   "execution_count": 3,
   "metadata": {
    "id": "bLrwkitvth8I"
   },
   "outputs": [],
   "source": [
    "cat_cols = ['gender', 'smoking_history']\n",
    "num_cols = [x for x in df.columns if x not in cat_cols and x not in ['patient', 'diabetes']]\n",
    "# En las columnas numéricas quitamos la columna \"patient\" que contiene el id de los pacientes y \"diabetes\" que es la variable target"
   ]
  },
  {
   "cell_type": "markdown",
   "metadata": {
    "id": "aohiv4jXth8M"
   },
   "source": [
    "#### Preprocesamiento"
   ]
  },
  {
   "cell_type": "code",
   "execution_count": 4,
   "metadata": {
    "id": "uO9avt-1th8M"
   },
   "outputs": [],
   "source": [
    "X = df.drop(columns=['patient', 'diabetes'])\n",
    "y = df['diabetes']\n",
    "x_train, x_test, y_train, y_test = train_test_split(X, y, train_size=0.8, random_state = 8)"
   ]
  },
  {
   "cell_type": "code",
   "execution_count": 5,
   "metadata": {
    "id": "-0Tc87Udth8N"
   },
   "outputs": [],
   "source": [
    "#Cargo el pipeline:\n",
    "pipeline = joblib.load('pipeline.pkl')\n",
    "# Fiteo el pipeline\n",
    "x_train_transformed = pipeline.fit_transform(x_train)\n",
    "x_test_transformed = pipeline.transform(x_test)"
   ]
  },
  {
   "cell_type": "markdown",
   "metadata": {},
   "source": [
    "generamos la salida "
   ]
  },
  {
   "cell_type": "code",
   "execution_count": 7,
   "metadata": {
    "id": "xEp0smZ_th8R"
   },
   "outputs": [],
   "source": [
    "test_df = pd.read_csv('data/diabetes_prediction_dataset_test.csv')\n"
   ]
  },
  {
   "cell_type": "markdown",
   "metadata": {},
   "source": [
    "# acá empiezo con la red neuronal:"
   ]
  },
  {
   "cell_type": "markdown",
   "metadata": {},
   "source": [
    "Defino una clase para generar datos que pueda leer el dataloader de torch:\n"
   ]
  },
  {
   "cell_type": "code",
   "execution_count": 47,
   "metadata": {},
   "outputs": [],
   "source": [
    "class set_up_data(Dataset):\n",
    "    \"Para utilizarse con el DataLoader de PyTorch\"\n",
    "    def __init__(self,data):\n",
    "        self.x_data = data['x']\n",
    "        self.y_data = data['y']\n",
    "    \n",
    "        self.xmin, self.xmax = np.amin(self.x_data), np.amax(self.x_data)\n",
    "        self.ymin, self.ymax = np.amin(self.y_data), np.amax(self.y_data)\n",
    "        \n",
    "        #self.x_data = self.norm( self.x_data, self.xmin, self.xmax)\n",
    "        #self.y_data = self.norm( self.y_data, self.ymin, self.ymax)\n",
    "    \n",
    "    def __len__(self):\n",
    "        \"Denoto el numero total de muestras\"\n",
    "        return len(self.y_data)\n",
    "    \n",
    "    def norm( self, data, datamin, datamax):\n",
    "        #Normalizacion [0,1]\n",
    "        return (data-datamin)/(datamax-datamin)   "
   ]
  },
  {
   "cell_type": "code",
   "execution_count": 27,
   "metadata": {},
   "outputs": [],
   "source": [
    "#fijo semilla\n",
    "\n",
    "def define_seed(seed):\n",
    "        torch.manual_seed(seed)\n",
    "        np.random.seed(seed)\n",
    "        random.seed(seed)\n",
    "\n",
    "define_seed(seed=100)\n",
    "device = 'cuda' if torch.cuda.is_available() else 'cpu'"
   ]
  },
  {
   "cell_type": "code",
   "execution_count": 28,
   "metadata": {
    "id": "px-yTpRKth8R"
   },
   "outputs": [],
   "source": [
    "#Hiperparametros\n",
    "batch_size= 100\n",
    "max_epochs = 30\n",
    "learning_rate = 1e-2\n",
    "\n",
    "#Definimos la función de costo que queremos minimizar, y también el método de calculo sobre el batch.\n",
    "MSE_Loss = torch.nn.MSELoss(reduction='mean')"
   ]
  },
  {
   "cell_type": "code",
   "execution_count": 48,
   "metadata": {},
   "outputs": [],
   "source": [
    "#cargo los datos\n",
    "train_data = {'x':x_train_transformed, 'y':y_train}\n",
    "test_data = {'x':x_test_transformed, 'y':y_test}\n",
    "\n",
    "train_subset = set_up_data(train_data)\n",
    "test_subset = set_up_data(test_data)\n",
    "\n",
    "dataloader_train = DataLoader(train_subset, batch_size = batch_size, shuffle=True) \n",
    "#dataloader_val   = DataLoader(val_subset , batch_size=len(val_subset), shuffle=False)\n",
    "dataloader_test  = DataLoader(test_subset , batch_size=len(test_subset), shuffle=False)"
   ]
  },
  {
   "cell_type": "markdown",
   "metadata": {},
   "source": [
    "Armo el modelo:"
   ]
  },
  {
   "cell_type": "code",
   "execution_count": null,
   "metadata": {},
   "outputs": [],
   "source": [
    "model = nn.Sequential(\n",
    "    nn.Linear(in_features = 12, out_features = 25, bias=True),\n",
    "    nn.Sigmoid(),\n",
    "    nn.Linear(in_features = 25, out_features = 15, bias=True),\n",
    "    nn.Sigmoid(),\n",
    "    nn.Linear(in_features = 15, out_features = 1, bias=True),\n",
    "    nn.Sigmoid()\n",
    ")\n",
    "\n",
    "#Guardamos al modelo que definimos previamente\n",
    "model.to(device) #Cargamos en memoria"
   ]
  },
  {
   "cell_type": "markdown",
   "metadata": {
    "id": "a6id_HZ3th8S"
   },
   "source": [
    "Para poder evaluar nuestra predicción los datos de prueba deben tener exactamente el mismo tratamiento que los datos de entrenamiento"
   ]
  },
  {
   "cell_type": "code",
   "execution_count": 8,
   "metadata": {
    "id": "0zauBlH-th8Y"
   },
   "outputs": [],
   "source": [
    "Y_test = test_df.diabetes\n",
    "X_test = test_df.drop(columns=['patient','diabetes'])\n",
    "PatientId_test = test_df['patient']\n"
   ]
  },
  {
   "cell_type": "code",
   "execution_count": 10,
   "metadata": {
    "id": "r5qL4scPth8Z"
   },
   "outputs": [],
   "source": [
    "X_test_transformed = pipeline.transform(X_test)"
   ]
  },
  {
   "cell_type": "code",
   "execution_count": 11,
   "metadata": {
    "id": "df9HDTVsth8Z"
   },
   "outputs": [
    {
     "data": {
      "text/html": [
       "<style>#sk-container-id-1 {color: black;background-color: white;}#sk-container-id-1 pre{padding: 0;}#sk-container-id-1 div.sk-toggleable {background-color: white;}#sk-container-id-1 label.sk-toggleable__label {cursor: pointer;display: block;width: 100%;margin-bottom: 0;padding: 0.3em;box-sizing: border-box;text-align: center;}#sk-container-id-1 label.sk-toggleable__label-arrow:before {content: \"▸\";float: left;margin-right: 0.25em;color: #696969;}#sk-container-id-1 label.sk-toggleable__label-arrow:hover:before {color: black;}#sk-container-id-1 div.sk-estimator:hover label.sk-toggleable__label-arrow:before {color: black;}#sk-container-id-1 div.sk-toggleable__content {max-height: 0;max-width: 0;overflow: hidden;text-align: left;background-color: #f0f8ff;}#sk-container-id-1 div.sk-toggleable__content pre {margin: 0.2em;color: black;border-radius: 0.25em;background-color: #f0f8ff;}#sk-container-id-1 input.sk-toggleable__control:checked~div.sk-toggleable__content {max-height: 200px;max-width: 100%;overflow: auto;}#sk-container-id-1 input.sk-toggleable__control:checked~label.sk-toggleable__label-arrow:before {content: \"▾\";}#sk-container-id-1 div.sk-estimator input.sk-toggleable__control:checked~label.sk-toggleable__label {background-color: #d4ebff;}#sk-container-id-1 div.sk-label input.sk-toggleable__control:checked~label.sk-toggleable__label {background-color: #d4ebff;}#sk-container-id-1 input.sk-hidden--visually {border: 0;clip: rect(1px 1px 1px 1px);clip: rect(1px, 1px, 1px, 1px);height: 1px;margin: -1px;overflow: hidden;padding: 0;position: absolute;width: 1px;}#sk-container-id-1 div.sk-estimator {font-family: monospace;background-color: #f0f8ff;border: 1px dotted black;border-radius: 0.25em;box-sizing: border-box;margin-bottom: 0.5em;}#sk-container-id-1 div.sk-estimator:hover {background-color: #d4ebff;}#sk-container-id-1 div.sk-parallel-item::after {content: \"\";width: 100%;border-bottom: 1px solid gray;flex-grow: 1;}#sk-container-id-1 div.sk-label:hover label.sk-toggleable__label {background-color: #d4ebff;}#sk-container-id-1 div.sk-serial::before {content: \"\";position: absolute;border-left: 1px solid gray;box-sizing: border-box;top: 0;bottom: 0;left: 50%;z-index: 0;}#sk-container-id-1 div.sk-serial {display: flex;flex-direction: column;align-items: center;background-color: white;padding-right: 0.2em;padding-left: 0.2em;position: relative;}#sk-container-id-1 div.sk-item {position: relative;z-index: 1;}#sk-container-id-1 div.sk-parallel {display: flex;align-items: stretch;justify-content: center;background-color: white;position: relative;}#sk-container-id-1 div.sk-item::before, #sk-container-id-1 div.sk-parallel-item::before {content: \"\";position: absolute;border-left: 1px solid gray;box-sizing: border-box;top: 0;bottom: 0;left: 50%;z-index: -1;}#sk-container-id-1 div.sk-parallel-item {display: flex;flex-direction: column;z-index: 1;position: relative;background-color: white;}#sk-container-id-1 div.sk-parallel-item:first-child::after {align-self: flex-end;width: 50%;}#sk-container-id-1 div.sk-parallel-item:last-child::after {align-self: flex-start;width: 50%;}#sk-container-id-1 div.sk-parallel-item:only-child::after {width: 0;}#sk-container-id-1 div.sk-dashed-wrapped {border: 1px dashed gray;margin: 0 0.4em 0.5em 0.4em;box-sizing: border-box;padding-bottom: 0.4em;background-color: white;}#sk-container-id-1 div.sk-label label {font-family: monospace;font-weight: bold;display: inline-block;line-height: 1.2em;}#sk-container-id-1 div.sk-label-container {text-align: center;}#sk-container-id-1 div.sk-container {/* jupyter's `normalize.less` sets `[hidden] { display: none; }` but bootstrap.min.css set `[hidden] { display: none !important; }` so we also need the `!important` here to be able to override the default hidden behavior on the sphinx rendered scikit-learn.org. See: https://github.com/scikit-learn/scikit-learn/issues/21755 */display: inline-block !important;position: relative;}#sk-container-id-1 div.sk-text-repr-fallback {display: none;}</style><div id=\"sk-container-id-1\" class=\"sk-top-container\"><div class=\"sk-text-repr-fallback\"><pre>OneHotEncoder(drop=&#x27;first&#x27;)</pre><b>In a Jupyter environment, please rerun this cell to show the HTML representation or trust the notebook. <br />On GitHub, the HTML representation is unable to render, please try loading this page with nbviewer.org.</b></div><div class=\"sk-container\" hidden><div class=\"sk-item\"><div class=\"sk-estimator sk-toggleable\"><input class=\"sk-toggleable__control sk-hidden--visually\" id=\"sk-estimator-id-1\" type=\"checkbox\" checked><label for=\"sk-estimator-id-1\" class=\"sk-toggleable__label sk-toggleable__label-arrow\">OneHotEncoder</label><div class=\"sk-toggleable__content\"><pre>OneHotEncoder(drop=&#x27;first&#x27;)</pre></div></div></div></div></div>"
      ],
      "text/plain": [
       "OneHotEncoder(drop='first')"
      ]
     },
     "execution_count": 11,
     "metadata": {},
     "output_type": "execute_result"
    }
   ],
   "source": [
    "# Para obtener el nombre de las columnas creadas a partir del OneHotEncoder es necesario acceder al mismo de esta manera:\n",
    "pipeline.transformers_[0][1]"
   ]
  },
  {
   "cell_type": "code",
   "execution_count": 12,
   "metadata": {
    "id": "xfiOIMdfth8a"
   },
   "outputs": [
    {
     "data": {
      "text/plain": [
       "array(['gender_Male', 'gender_Other', 'smoking_history_current',\n",
       "       'smoking_history_ever', 'smoking_history_former',\n",
       "       'smoking_history_never', 'smoking_history_not current'],\n",
       "      dtype=object)"
      ]
     },
     "execution_count": 12,
     "metadata": {},
     "output_type": "execute_result"
    }
   ],
   "source": [
    "# Con el método get_features_names_out se puede obtener el nombre de las columnas creadas\n",
    "pipeline.transformers_[0][1].get_feature_names_out()"
   ]
  },
  {
   "cell_type": "code",
   "execution_count": 13,
   "metadata": {
    "id": "OBJ3z6wMth8a"
   },
   "outputs": [],
   "source": [
    "cols = pipeline.transformers_[0][1].get_feature_names_out().tolist() + num_cols\n",
    "X_test_transformed = pd.DataFrame(X_test_transformed, columns=cols)"
   ]
  },
  {
   "cell_type": "markdown",
   "metadata": {
    "id": "KVyfSU1Pth8b"
   },
   "source": [
    "Generamos la salida"
   ]
  },
  {
   "cell_type": "code",
   "execution_count": null,
   "metadata": {
    "id": "54il-gQAth8b"
   },
   "outputs": [],
   "source": [
    "test_id = PatientId_test\n",
    "test_pred = np.int64(xgb.predict(X_test_transformed))"
   ]
  },
  {
   "cell_type": "markdown",
   "metadata": {
    "id": "MEZTLtfrth8b"
   },
   "source": [
    "Con el resultado predicho tenemos que generar el archivo `.csv` para subir a la competencia de kaggle:"
   ]
  },
  {
   "cell_type": "code",
   "execution_count": null,
   "metadata": {
    "id": "KKCwi6OXth8c"
   },
   "outputs": [],
   "source": [
    "submission = pd.DataFrame(list(zip(test_id, test_pred)), columns=[\"patient\", \"diabetes\"])\n",
    "submission.to_csv(\"sample_submission.csv\", header=True, index=False)"
   ]
  },
  {
   "cell_type": "code",
   "execution_count": null,
   "metadata": {
    "id": "FEIBuXVBth8c"
   },
   "outputs": [],
   "source": []
  }
 ],
 "metadata": {
  "colab": {
   "provenance": []
  },
  "kernelspec": {
   "display_name": "Python 3 (ipykernel)",
   "language": "python",
   "name": "python3"
  },
  "language_info": {
   "codemirror_mode": {
    "name": "ipython",
    "version": 3
   },
   "file_extension": ".py",
   "mimetype": "text/x-python",
   "name": "python",
   "nbconvert_exporter": "python",
   "pygments_lexer": "ipython3",
   "version": "3.10.11"
  },
  "vscode": {
   "interpreter": {
    "hash": "e6b65fc4380ac725e50a330b268a227bbdbe91bddfffbf68e5f7ce9848a2b8d5"
   }
  }
 },
 "nbformat": 4,
 "nbformat_minor": 1
}
