{
 "cells": [
  {
   "cell_type": "markdown",
   "metadata": {
    "id": "I8ATtHkdth7t"
   },
   "source": [
    "# DiploDatos Kaggle Competition"
   ]
  },
  {
   "cell_type": "markdown",
   "metadata": {
    "id": "scRJLVL-th72"
   },
   "source": [
    "Presentamos un código creado como ejemplo de base para la competición.\n",
    "\n",
    "Deben:\n",
    "\n",
    "- Explorar los datos y aprender de ellos.\n",
    "- Probar diferentes modelos y ver cuáles ajustan mejor dado los datos.\n",
    "- **Obtener una accuracy mejor que la que se presenta en este ejemplo.**\n",
    "- Tratar de obtener la accuracy más alta posible!\n",
    "- Discutir la elección de modelo.\n",
    "\n",
    "El análisis exploratorio y el preprocesamiento de los datos queda a libertad de cada grupo y no deben quedarse con este simple ejemplo."
   ]
  },
  {
   "cell_type": "code",
   "execution_count": null,
   "metadata": {
    "id": "yFhBWSnYth74"
   },
   "outputs": [],
   "source": [
    "import pandas as pd\n",
    "import numpy as np\n",
    "import matplotlib.pyplot as plt\n",
    "import seaborn as sns\n",
    "\n",
    "from sklearn.preprocessing import StandardScaler, OneHotEncoder\n",
    "from sklearn.compose import ColumnTransformer\n",
    "from sklearn.impute import SimpleImputer\n",
    "from sklearn.model_selection import train_test_split, GridSearchCV, StratifiedKFold\n",
    "from sklearn.metrics import accuracy_score, ConfusionMatrixDisplay, classification_report\n",
    "\n",
    "from xgboost import XGBClassifier, XGBRFClassifier"
   ]
  },
  {
   "cell_type": "markdown",
   "metadata": {
    "id": "Xvo9-M0Gth78"
   },
   "source": [
    "## Leer el dataset"
   ]
  },
  {
   "cell_type": "markdown",
   "metadata": {
    "id": "t0VfCzaLth79"
   },
   "source": [
    "### Train"
   ]
  },
  {
   "cell_type": "markdown",
   "metadata": {
    "id": "RhtwOHy9th7-"
   },
   "source": [
    "Cargamos los datos de entrenamiento que vamos a utilizar para generar nuestro modelo."
   ]
  },
  {
   "cell_type": "code",
   "execution_count": null,
   "metadata": {
    "id": "ktnJ_L6Sth7_"
   },
   "outputs": [],
   "source": [
    "df = pd.read_csv('data/diabetes_prediction_dataset_train-labeled.csv')\n",
    "print(df.shape)\n",
    "print(df.describe())"
   ]
  },
  {
   "cell_type": "code",
   "execution_count": null,
   "metadata": {
    "id": "ictc-HW9th8A"
   },
   "outputs": [],
   "source": [
    "df.head()"
   ]
  },
  {
   "cell_type": "code",
   "execution_count": null,
   "metadata": {
    "id": "eqJOFDSUth8C"
   },
   "outputs": [],
   "source": [
    "df.info()"
   ]
  },
  {
   "cell_type": "markdown",
   "metadata": {
    "id": "itsMuEyRth8D"
   },
   "source": [
    "La columna ***`diabetes`*** es la columna que debemos predecir. En el dataset de Test esta columna tiene valores nulos."
   ]
  },
  {
   "cell_type": "markdown",
   "metadata": {
    "id": "pZtIjNp3th8F"
   },
   "source": [
    "## Analisis de los datos\n",
    "\n",
    "#### Vemos si hay desbalance"
   ]
  },
  {
   "cell_type": "code",
   "execution_count": null,
   "metadata": {
    "id": "j-CcUzqoth8F"
   },
   "outputs": [],
   "source": [
    "df.diabetes.value_counts().plot(kind='bar')"
   ]
  },
  {
   "cell_type": "markdown",
   "metadata": {
    "id": "7HgKbLDqth8G"
   },
   "source": [
    "**¡Clases desbalanceadas!** y que sucede si analizamos genero y edad?"
   ]
  },
  {
   "cell_type": "markdown",
   "metadata": {
    "id": "I8Kgilvith8H"
   },
   "source": [
    "##### Vemos si hay nulos"
   ]
  },
  {
   "cell_type": "code",
   "execution_count": null,
   "metadata": {
    "id": "CAWA6xTHth8H"
   },
   "outputs": [],
   "source": [
    "df.isnull().sum()"
   ]
  },
  {
   "cell_type": "markdown",
   "metadata": {
    "id": "SeaiJulWth8I"
   },
   "source": [
    "No hay nulos en el dataset por lo que no es necesario imputarlos"
   ]
  },
  {
   "cell_type": "markdown",
   "metadata": {
    "id": "nVh8RyBwth8I"
   },
   "source": [
    "#### Separamos a las columnas en numéricas y categóricas"
   ]
  },
  {
   "cell_type": "code",
   "execution_count": null,
   "metadata": {
    "id": "bLrwkitvth8I"
   },
   "outputs": [],
   "source": [
    "cat_cols = ['gender', 'smoking_history']\n",
    "num_cols = [x for x in df.columns if x not in cat_cols and x not in ['patient', 'diabetes']]\n",
    "# En las columnas numéricas quitamos la columna \"patient\" que contiene el id de los pacientes y \"diabetes\" que es la variable target"
   ]
  },
  {
   "cell_type": "markdown",
   "metadata": {
    "id": "N_ZZo42vth8J"
   },
   "source": [
    "#### Análisis de las variables numéricas"
   ]
  },
  {
   "cell_type": "code",
   "execution_count": null,
   "metadata": {
    "id": "7C6pHgPzth8J"
   },
   "outputs": [],
   "source": [
    "for col in num_cols:\n",
    "    plt.figure(figsize=(10,4))\n",
    "#     if col=='bmi':\n",
    "#         plt.xscale('log')\n",
    "#         plt.yscale('log')\n",
    "    sns.histplot(data=df, x=col)\n",
    "    plt.show()\n",
    "    plt.figure(figsize=(10,4))\n",
    "    sns.boxplot(data=df, x=col)\n",
    "    plt.show()"
   ]
  },
  {
   "cell_type": "markdown",
   "metadata": {
    "id": "cYss9jkhth8K"
   },
   "source": [
    "En ningún caso se observan outliers significativos, por lo que se decide no realizar ninguna eliminación ni imputación"
   ]
  },
  {
   "cell_type": "markdown",
   "metadata": {
    "id": "gliFNJBhth8K"
   },
   "source": [
    "#### Análisis de las variables categóricas"
   ]
  },
  {
   "cell_type": "code",
   "execution_count": null,
   "metadata": {
    "id": "XaTHplA-th8L"
   },
   "outputs": [],
   "source": [
    "for col in cat_cols:\n",
    "    plt.figure(figsize=(10,4))\n",
    "    sns.histplot(data=df, x=col)\n",
    "    plt.show()"
   ]
  },
  {
   "cell_type": "markdown",
   "metadata": {
    "id": "mNsbXHVLth8L"
   },
   "source": [
    "Se puede observar que cada variable categórica posee pocas categorías. Además se observa que son variables nominales."
   ]
  },
  {
   "cell_type": "markdown",
   "metadata": {
    "id": "aohiv4jXth8M"
   },
   "source": [
    "#### Preprocesamiento"
   ]
  },
  {
   "cell_type": "markdown",
   "metadata": {
    "id": "9IiumD9Rth8M"
   },
   "source": [
    "Necesitamos transformar las variables que son categoricas a númericas, como por ejemplo **gender** y **smoking_history**"
   ]
  },
  {
   "cell_type": "code",
   "execution_count": null,
   "metadata": {
    "id": "uO9avt-1th8M"
   },
   "outputs": [],
   "source": [
    "X = df.drop(columns=['patient', 'diabetes'])\n",
    "y = df['diabetes']\n",
    "x_train, x_test, y_train, y_test = train_test_split(X, y, train_size=0.8, random_state = 8)"
   ]
  },
  {
   "cell_type": "code",
   "execution_count": null,
   "metadata": {
    "id": "x1jrn9-Kth8N"
   },
   "outputs": [],
   "source": [
    "# Armo el pipeline\n",
    "ohe = OneHotEncoder(drop='first')\n",
    "scaler = StandardScaler()\n",
    "pipeline = ColumnTransformer(\n",
    "    [(\"OHE\"  , ohe  , cat_cols),\n",
    "     (\"StandardScaler\", scaler, num_cols)\n",
    "    ]\n",
    "  )\n",
    "pipeline"
   ]
  },
  {
   "cell_type": "code",
   "execution_count": null,
   "metadata": {
    "id": "-0Tc87Udth8N"
   },
   "outputs": [],
   "source": [
    "# Fiteo el pipeline\n",
    "x_train_transformed = pipeline.fit_transform(x_train)\n",
    "x_test_transformed = pipeline.transform(x_test)"
   ]
  },
  {
   "cell_type": "code",
   "execution_count": null,
   "metadata": {
    "id": "juz4FaO2th8O"
   },
   "outputs": [],
   "source": [
    "# Guardo el pipeline\n",
    "import joblib\n",
    "\n",
    "pipeline = joblib.dump(pipeline, 'pipeline.pkl')"
   ]
  },
  {
   "cell_type": "code",
   "execution_count": null,
   "metadata": {
    "id": "UCi0KyzBth8O"
   },
   "outputs": [],
   "source": [
    "name = 'XGBClassifier'\n",
    "xgb = XGBClassifier()\n",
    "xgb.fit(x_train_transformed, y_train)\n",
    "train_predictions = xgb.predict(x_train_transformed)\n",
    "accuracy = accuracy_score(y_train, train_predictions)\n",
    "print(f\"Accuracy train {name}: %.2f%%\" % (accuracy * 100.0))\n",
    "\n",
    "train_predictions = xgb.predict(x_test_transformed)\n",
    "accuracy = accuracy_score(y_test, train_predictions)\n",
    "print(f\"Accuracy test {name}: %.2f%%\" % (accuracy * 100.0))"
   ]
  },
  {
   "cell_type": "markdown",
   "metadata": {
    "id": "ulQIJ3-nth8P"
   },
   "source": [
    "### Algún tipo de ajuste de hiperparámetros de los modelos elegidos"
   ]
  },
  {
   "cell_type": "code",
   "execution_count": null,
   "metadata": {
    "id": "hTeXtIi9th8P"
   },
   "outputs": [],
   "source": [
    "params = { 'max_depth': [3,6,10],\n",
    "           'learning_rate': [0.01, 0.05, 0.1],\n",
    "           'n_estimators': [100, 500, 1000],\n",
    "           'colsample_bytree': [0.3, 0.7]}\n",
    "\n",
    "grid = GridSearchCV(XGBClassifier(), params)\n",
    "grid.fit(x_train_transformed,y_train)\n",
    "grid.best_params_"
   ]
  },
  {
   "cell_type": "code",
   "execution_count": null,
   "metadata": {
    "id": "NoFqff_Bth8Q"
   },
   "outputs": [],
   "source": [
    "xgb = XGBClassifier(**grid.best_params_).fit(x_train_transformed, y_train)\n",
    "\n",
    "train_predictions = xgb.predict(x_train_transformed)\n",
    "accuracy = accuracy_score(y_train, train_predictions)\n",
    "print(\"Accuracy train XGBoost: %.2f%%\" % (accuracy * 100.0))\n",
    "\n",
    "test_predictions = xgb.predict(x_test_transformed)\n",
    "accuracy = accuracy_score(y_test, test_predictions)\n",
    "print(\"Accuracy test XGBoost: %.2f%%\" % (accuracy * 100.0))\n",
    "ConfusionMatrixDisplay.from_predictions(y_test, test_predictions)\n",
    "plt.show()\n",
    "\n",
    "print(classification_report(y_test,xgb.predict(x_test_transformed)))"
   ]
  },
  {
   "cell_type": "code",
   "execution_count": null,
   "metadata": {
    "id": "CO03DDi2th8Q"
   },
   "outputs": [],
   "source": [
    "FOLDS=5\n",
    "cv = StratifiedKFold(n_splits=FOLDS, shuffle=True, random_state=10)\n",
    "\n",
    "x_train2 = np.array(x_train_transformed)\n",
    "y_train2 = np.array(y_train)\n",
    "\n",
    "\n",
    "xgb = XGBClassifier(**grid.best_params_)\n",
    "name = 'XGBClassifier'\n",
    "print(xgb)\n",
    "avg_accuracy = 0\n",
    "for fold, (train_idx, val_idx) in enumerate(cv.split(x_train2, y_train2)):\n",
    "    xi, yi = x_train2[train_idx], y_train2[train_idx]\n",
    "    x_valid, y_valid = x_train2[val_idx], y_train2[val_idx]\n",
    "    xgb = xgb.fit(xi, yi)\n",
    "\n",
    "    test_predictions = xgb.predict(x_valid)\n",
    "    accuracy = accuracy_score(y_valid, test_predictions)\n",
    "    avg_accuracy +=accuracy\n",
    "    print(f\"Precisión test fold {fold}: {accuracy * 100.0 :.2f}\" % ())\n",
    "\n",
    "avg_accuracy /= FOLDS\n",
    "print(f'Avg. accuracy = {avg_accuracy * 100}')"
   ]
  },
  {
   "cell_type": "markdown",
   "metadata": {
    "id": "FzXxsrP5th8R"
   },
   "source": [
    "## Generar la salida para entregar"
   ]
  },
  {
   "cell_type": "code",
   "execution_count": null,
   "metadata": {
    "id": "xEp0smZ_th8R"
   },
   "outputs": [],
   "source": [
    "test_df = pd.read_csv('diabetes_prediction_dataset_test.csv')\n"
   ]
  },
  {
   "cell_type": "code",
   "execution_count": null,
   "metadata": {
    "id": "px-yTpRKth8R"
   },
   "outputs": [],
   "source": [
    "test_df"
   ]
  },
  {
   "cell_type": "markdown",
   "metadata": {
    "id": "a6id_HZ3th8S"
   },
   "source": [
    "Para poder evaluar nuestra predicción los datos de prueba deben tener exactamente el mismo tratamiento que los datos de entrenamiento"
   ]
  },
  {
   "cell_type": "code",
   "execution_count": null,
   "metadata": {
    "id": "0zauBlH-th8Y"
   },
   "outputs": [],
   "source": [
    "Y_test = test_df.diabetes\n",
    "X_test = test_df.drop(columns=['patient','diabetes'])\n",
    "PatientId_test = test_df['patient']\n"
   ]
  },
  {
   "cell_type": "code",
   "execution_count": null,
   "metadata": {
    "id": "b-rGXOEath8Z"
   },
   "outputs": [],
   "source": [
    "pipeline = joblib.load('pipeline.pkl')"
   ]
  },
  {
   "cell_type": "code",
   "execution_count": null,
   "metadata": {
    "id": "r5qL4scPth8Z"
   },
   "outputs": [],
   "source": [
    "X_test_transformed = pipeline.transform(X_test)"
   ]
  },
  {
   "cell_type": "code",
   "execution_count": null,
   "metadata": {
    "id": "df9HDTVsth8Z"
   },
   "outputs": [],
   "source": [
    "# Para obtener el nombre de las columnas creadas a partir del OneHotEncoder es necesario acceder al mismo de esta manera:\n",
    "pipeline.transformers_[0][1]"
   ]
  },
  {
   "cell_type": "code",
   "execution_count": null,
   "metadata": {
    "id": "xfiOIMdfth8a"
   },
   "outputs": [],
   "source": [
    "# Con el método get_features_names_out se puede obtener el nombre de las columnas creadas\n",
    "pipeline.transformers_[0][1].get_feature_names_out()"
   ]
  },
  {
   "cell_type": "code",
   "execution_count": null,
   "metadata": {
    "id": "OBJ3z6wMth8a"
   },
   "outputs": [],
   "source": [
    "cols = pipeline.transformers_[0][1].get_feature_names_out().tolist() + num_cols\n",
    "X_test_transformed = pd.DataFrame(X_test_transformed, columns=cols)"
   ]
  },
  {
   "cell_type": "markdown",
   "metadata": {
    "id": "KVyfSU1Pth8b"
   },
   "source": [
    "Generamos la salida"
   ]
  },
  {
   "cell_type": "code",
   "execution_count": null,
   "metadata": {
    "id": "54il-gQAth8b"
   },
   "outputs": [],
   "source": [
    "test_id = PatientId_test\n",
    "test_pred = np.int64(xgb.predict(X_test_transformed))"
   ]
  },
  {
   "cell_type": "markdown",
   "metadata": {
    "id": "MEZTLtfrth8b"
   },
   "source": [
    "Con el resultado predicho tenemos que generar el archivo `.csv` para subir a la competencia de kaggle:"
   ]
  },
  {
   "cell_type": "code",
   "execution_count": null,
   "metadata": {
    "id": "KKCwi6OXth8c"
   },
   "outputs": [],
   "source": [
    "submission = pd.DataFrame(list(zip(test_id, test_pred)), columns=[\"patient\", \"diabetes\"])\n",
    "submission.to_csv(\"sample_submission.csv\", header=True, index=False)"
   ]
  },
  {
   "cell_type": "code",
   "execution_count": null,
   "metadata": {
    "id": "FEIBuXVBth8c"
   },
   "outputs": [],
   "source": []
  }
 ],
 "metadata": {
  "colab": {
   "provenance": []
  },
  "kernelspec": {
   "display_name": "Python 3 (ipykernel)",
   "language": "python",
   "name": "python3"
  },
  "language_info": {
   "codemirror_mode": {
    "name": "ipython",
    "version": 3
   },
   "file_extension": ".py",
   "mimetype": "text/x-python",
   "name": "python",
   "nbconvert_exporter": "python",
   "pygments_lexer": "ipython3",
   "version": "3.9.16"
  },
  "vscode": {
   "interpreter": {
    "hash": "e6b65fc4380ac725e50a330b268a227bbdbe91bddfffbf68e5f7ce9848a2b8d5"
   }
  }
 },
 "nbformat": 4,
 "nbformat_minor": 1
}
