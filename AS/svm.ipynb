{
 "cells": [
  {
   "cell_type": "markdown",
   "metadata": {},
   "source": [
    "# Lectura del dataset"
   ]
  },
  {
   "cell_type": "code",
   "execution_count": null,
   "metadata": {},
   "outputs": [],
   "source": [
    "import pandas as pd\n",
    "import numpy as np\n",
    "import matplotlib.pyplot as plt\n",
    "import seaborn as sns\n",
    "\n",
    "import joblib\n",
    "\n",
    "from sklearn.model_selection import train_test_split, GridSearchCV, StratifiedKFold\n",
    "from sklearn.metrics import accuracy_score, ConfusionMatrixDisplay, classification_report\n",
    "\n",
    "from sklearn.svm import SVC"
   ]
  },
  {
   "cell_type": "code",
   "execution_count": null,
   "metadata": {},
   "outputs": [],
   "source": [
    "df_train = pd.read_csv('data/diabetes_prediction_dataset_train-labeled.csv')\n",
    "df_test = pd.read_csv('data/diabetes_prediction_dataset_test.csv')"
   ]
  },
  {
   "cell_type": "code",
   "execution_count": null,
   "metadata": {},
   "outputs": [],
   "source": [
    "X = df_train.drop(columns=['patient', 'diabetes'])\n",
    "y = df_train['diabetes']\n",
    "x_train, x_val, y_train, y_val = train_test_split(X, y, train_size=0.8, random_state = 8)"
   ]
  },
  {
   "cell_type": "code",
   "execution_count": null,
   "metadata": {},
   "outputs": [],
   "source": [
    "x_test = df_test.drop(columns=['patient', 'diabetes'])\n",
    "y_test = df_test['diabetes']\n",
    "PatientId_test = df_test['patient']"
   ]
  },
  {
   "cell_type": "markdown",
   "metadata": {},
   "source": [
    "# Preprocesamiento"
   ]
  },
  {
   "cell_type": "code",
   "execution_count": null,
   "metadata": {},
   "outputs": [],
   "source": [
    "pp_pipe = joblib.load('preproc_pipeline.pkl')"
   ]
  },
  {
   "cell_type": "code",
   "execution_count": null,
   "metadata": {
    "id": "-0Tc87Udth8N"
   },
   "outputs": [],
   "source": [
    "# Fiteo el pipeline\n",
    "x_train_transformed = pp_pipe.fit_transform(x_train)\n",
    "x_val_transformed = pp_pipe.transform(x_val)\n",
    "x_test_transformed = pp_pipe.transform(x_test)"
   ]
  },
  {
   "cell_type": "markdown",
   "metadata": {},
   "source": [
    "# SVM"
   ]
  },
  {
   "cell_type": "markdown",
   "metadata": {},
   "source": [
    "## Prueba inicial"
   ]
  },
  {
   "cell_type": "markdown",
   "metadata": {},
   "source": [
    "Se utiliza el clasificador con todos sus valores por defecto."
   ]
  },
  {
   "cell_type": "code",
   "execution_count": null,
   "metadata": {
    "id": "UCi0KyzBth8O"
   },
   "outputs": [],
   "source": [
    "name = 'SVM'\n",
    "svm = SVC(random_state = 10)\n",
    "print(svm)\n",
    "svm.fit(x_train_transformed, y_train)\n",
    "\n",
    "train_predictions = svm.predict(x_train_transformed)\n",
    "accuracy = accuracy_score(y_train, train_predictions)\n",
    "print(f\"Accuracy train {name}: %.3f%%\" % (accuracy * 100.0))\n",
    "\n",
    "val_predictions = svm.predict(x_val_transformed)\n",
    "accuracy = accuracy_score(y_val, val_predictions)\n",
    "print(f\"Accuracy val {name}: %.3f%%\" % (accuracy * 100.0))"
   ]
  },
  {
   "cell_type": "markdown",
   "metadata": {
    "id": "ulQIJ3-nth8P"
   },
   "source": [
    "## Ajuste de hiperparámetros"
   ]
  },
  {
   "cell_type": "code",
   "execution_count": null,
   "metadata": {},
   "outputs": [],
   "source": [
    "params = {'C' : [1E-3, 1E-2, 1E-1, 1, 1E1, 1E2, 1E3], \n",
    "          'kernel' : ['linear', 'poly', 'rbf', 'sigmoid'], \n",
    "          'degree' : [2, 3, 4], \n",
    "          'gamma' : ['scale', 'auto'], \n",
    "          'tol' : [1E-3, 1E-2, 1E-1, 1, 1E1, 1E2, 1E3], \n",
    "          'class_weight' : [None, 'balanced'], \n",
    "          'decision_function_shape' : ['ovr', 'ovo'], \n",
    "          'random_state' : [10]}"
   ]
  },
  {
   "cell_type": "code",
   "execution_count": null,
   "metadata": {
    "id": "hTeXtIi9th8P"
   },
   "outputs": [],
   "source": [
    "grid = GridSearchCV(SVC(), params)\n",
    "grid.fit(x_train_transformed,y_train)\n",
    "grid.best_params_"
   ]
  },
  {
   "cell_type": "markdown",
   "metadata": {},
   "source": [
    "## Aplicando parámetros óptimos"
   ]
  },
  {
   "cell_type": "code",
   "execution_count": null,
   "metadata": {
    "id": "NoFqff_Bth8Q"
   },
   "outputs": [],
   "source": [
    "svm = SVC(**grid.best_params_)\n",
    "print(svm)\n",
    "svm.fit(x_train_transformed, y_train)\n",
    "\n",
    "train_predictions = svm.predict(x_train_transformed)\n",
    "accuracy = accuracy_score(y_train, train_predictions)\n",
    "print(f\"Accuracy train {name}: %.3f%%\" % (accuracy * 100.0))\n",
    "\n",
    "val_predictions = svm.predict(x_val_transformed)\n",
    "accuracy = accuracy_score(y_val, val_predictions)\n",
    "print(f\"Accuracy val {name}: %.3f%%\" % (accuracy * 100.0))"
   ]
  },
  {
   "cell_type": "code",
   "execution_count": null,
   "metadata": {},
   "outputs": [],
   "source": [
    "ConfusionMatrixDisplay.from_predictions(y_val, val_predictions)\n",
    "plt.show()"
   ]
  },
  {
   "cell_type": "code",
   "execution_count": null,
   "metadata": {},
   "outputs": [],
   "source": [
    "print(classification_report(y_val,svm.predict(x_val_transformed)))"
   ]
  },
  {
   "cell_type": "markdown",
   "metadata": {},
   "source": [
    "## Cross validation"
   ]
  },
  {
   "cell_type": "code",
   "execution_count": null,
   "metadata": {
    "id": "CO03DDi2th8Q"
   },
   "outputs": [],
   "source": [
    "FOLDS=5\n",
    "cv = StratifiedKFold(n_splits=FOLDS, shuffle=True, random_state=10)\n",
    "\n",
    "x_train2 = np.array(x_train_transformed)\n",
    "y_train2 = np.array(y_train)\n",
    "\n",
    "svm = SVC(**grid.best_params_)\n",
    "print(svm)\n",
    "avg_accuracy = 0\n",
    "for fold, (train_idx, val_idx) in enumerate(cv.split(x_train2, y_train2)):\n",
    "    xi, yi = x_train2[train_idx], y_train2[train_idx]\n",
    "    x_valid, y_valid = x_train2[val_idx], y_train2[val_idx]\n",
    "    svm = svm.fit(xi, yi)\n",
    "\n",
    "    val_predictions = svm.predict(x_valid)\n",
    "    accuracy = accuracy_score(y_valid, val_predictions)\n",
    "    avg_accuracy +=accuracy\n",
    "    print(f\"Precisión val fold {fold}: {accuracy * 100.0 :.2f}\" % ())\n",
    "\n",
    "avg_accuracy /= FOLDS\n",
    "print(f'Avg. accuracy = {avg_accuracy * 100}')"
   ]
  },
  {
   "cell_type": "markdown",
   "metadata": {
    "id": "FzXxsrP5th8R"
   },
   "source": [
    "## Generar la salida para entregar"
   ]
  },
  {
   "cell_type": "markdown",
   "metadata": {
    "id": "a6id_HZ3th8S"
   },
   "source": [
    "Para poder evaluar nuestra predicción los datos de prueba deben tener exactamente el mismo tratamiento que los datos de entrenamiento"
   ]
  },
  {
   "cell_type": "code",
   "execution_count": null,
   "metadata": {
    "id": "df9HDTVsth8Z"
   },
   "outputs": [],
   "source": [
    "# Para obtener el nombre de las columnas creadas a partir del OneHotEncoder es necesario acceder al mismo de esta manera:\n",
    "pipeline.transformers_[0][1]"
   ]
  },
  {
   "cell_type": "code",
   "execution_count": null,
   "metadata": {
    "id": "xfiOIMdfth8a"
   },
   "outputs": [],
   "source": [
    "# Con el método get_features_names_out se puede obtener el nombre de las columnas creadas\n",
    "pipeline.transformers_[0][1].get_feature_names_out()"
   ]
  },
  {
   "cell_type": "code",
   "execution_count": null,
   "metadata": {
    "id": "OBJ3z6wMth8a"
   },
   "outputs": [],
   "source": [
    "cols = pipeline.transformers_[0][1].get_feature_names_out().tolist() + num_cols\n",
    "X_test_transformed = pd.DataFrame(X_test_transformed, columns=cols)"
   ]
  },
  {
   "cell_type": "markdown",
   "metadata": {
    "id": "KVyfSU1Pth8b"
   },
   "source": [
    "Generamos la salida"
   ]
  },
  {
   "cell_type": "code",
   "execution_count": null,
   "metadata": {
    "id": "54il-gQAth8b"
   },
   "outputs": [],
   "source": [
    "test_id = PatientId_test\n",
    "test_pred = np.int64(svm.predict(X_test_transformed))"
   ]
  },
  {
   "cell_type": "markdown",
   "metadata": {
    "id": "MEZTLtfrth8b"
   },
   "source": [
    "Con el resultado predicho tenemos que generar el archivo `.csv` para subir a la competencia de kaggle:"
   ]
  },
  {
   "cell_type": "code",
   "execution_count": null,
   "metadata": {
    "id": "KKCwi6OXth8c"
   },
   "outputs": [],
   "source": [
    "submission = pd.DataFrame(list(zip(test_id, test_pred)), columns=[\"patient\", \"diabetes\"])\n",
    "submission.to_csv(\"results/svm.csv\", header=True, index=False)"
   ]
  }
 ],
 "metadata": {
  "colab": {
   "provenance": []
  },
  "kernelspec": {
   "display_name": "Python 3 (ipykernel)",
   "language": "python",
   "name": "python3"
  },
  "language_info": {
   "codemirror_mode": {
    "name": "ipython",
    "version": 3
   },
   "file_extension": ".py",
   "mimetype": "text/x-python",
   "name": "python",
   "nbconvert_exporter": "python",
   "pygments_lexer": "ipython3",
   "version": "3.10.6"
  },
  "vscode": {
   "interpreter": {
    "hash": "e6b65fc4380ac725e50a330b268a227bbdbe91bddfffbf68e5f7ce9848a2b8d5"
   }
  }
 },
 "nbformat": 4,
 "nbformat_minor": 1
}
